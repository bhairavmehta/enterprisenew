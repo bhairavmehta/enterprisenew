{
 "cells": [
  {
   "cell_type": "markdown",
   "metadata": {},
   "source": [
    "## Poisson Process Sessions"
   ]
  },
  {
   "cell_type": "markdown",
   "metadata": {},
   "source": [
    "The goal of the notebook is to learn the rate of the Poisson Process (PP) in application to modeling user session length. In a Poisson Process [1], the inter-arrival times (session lengths) are assumed to be independent and identically distributed (iid) exponential random variables, while the number (or count) of events is distributed as a Poisson random variable:"
   ]
  },
  {
   "cell_type": "markdown",
   "metadata": {},
   "source": [
    "$$x_i \\sim \\mathrm{Exp}(\\lambda)= \\lambda \\exp\\{-\\lambda x\\}$$"
   ]
  },
  {
   "cell_type": "markdown",
   "metadata": {},
   "source": [
    "$$\\mathrm{Poiss}(k;\\lambda, t) = \\frac{(\\lambda t)^{k}}{k!}\\exp\\{-\\lambda t\\}$$"
   ]
  },
  {
   "cell_type": "code",
   "execution_count": 4,
   "metadata": {},
   "outputs": [
    {
     "data": {
      "image/png": "[encoded data removed]",
      "text/plain": [
       "<IPython.core.display.Image object>"
      ]
     },
     "execution_count": 4,
     "metadata": {},
     "output_type": "execute_result"
    }
   ],
   "source": [
    "from IPython.display import Image\n",
    "Image(\"figures/random_process.png\")"
   ]
  },
  {
   "cell_type": "markdown",
   "metadata": {},
   "source": [
    "The figure above shows the variable length session windows: $\\{x_1,...,x_k\\}$ of alternating switching process between (w)ork and (p)lay events. Given the training data, our goal is to learn the arrival rate $\\lambda$ that captures an average frequency of sessions. We can use Monte Carlo sampling methods and in particular PyMC3 library [2] to do that. Note: we can also look at non-homogenuous Poisson process where the arrival rate lambda is a function of time: $\\lambda(t)$"
   ]
  },
  {
   "cell_type": "code",
   "execution_count": 16,
   "metadata": {},
   "outputs": [],
   "source": [
    "%matplotlib inline\n",
    "import numpy as np\n",
    "import pandas as pd\n",
    "\n",
    "import seaborn as sns\n",
    "import matplotlib.pyplot as plt\n",
    "\n",
    "import pymc3 as pm\n",
    "\n",
    "import theano\n",
    "import theano.tensor as tt\n",
    "\n",
    "import warnings\n",
    "warnings.filterwarnings('ignore')"
   ]
  },
  {
   "cell_type": "code",
   "execution_count": 117,
   "metadata": {},
   "outputs": [
    {
     "name": "stdout",
     "output_type": "stream",
     "text": [
      "loading data...\n"
     ]
    },
    {
     "data": {
      "text/html": [
       "<div>\n",
       "<style scoped>\n",
       "    .dataframe tbody tr th:only-of-type {\n",
       "        vertical-align: middle;\n",
       "    }\n",
       "\n",
       "    .dataframe tbody tr th {\n",
       "        vertical-align: top;\n",
       "    }\n",
       "\n",
       "    .dataframe thead th {\n",
       "        text-align: right;\n",
       "    }\n",
       "</style>\n",
       "<table border=\"1\" class=\"dataframe\">\n",
       "  <thead>\n",
       "    <tr style=\"text-align: right;\">\n",
       "      <th></th>\n",
       "      <th>Start</th>\n",
       "      <th>End</th>\n",
       "      <th>Activity</th>\n",
       "    </tr>\n",
       "  </thead>\n",
       "  <tbody>\n",
       "    <tr>\n",
       "      <th>0</th>\n",
       "      <td>2011-11-28 02:27:59</td>\n",
       "      <td>2011-11-28 10:18:11</td>\n",
       "      <td>Sleeping</td>\n",
       "    </tr>\n",
       "    <tr>\n",
       "      <th>1</th>\n",
       "      <td>2011-11-28 10:21:24</td>\n",
       "      <td>2011-11-28 10:23:36</td>\n",
       "      <td>Toileting</td>\n",
       "    </tr>\n",
       "    <tr>\n",
       "      <th>2</th>\n",
       "      <td>2011-11-28 10:25:44</td>\n",
       "      <td>2011-11-28 10:33:00</td>\n",
       "      <td>Showering</td>\n",
       "    </tr>\n",
       "    <tr>\n",
       "      <th>3</th>\n",
       "      <td>2011-11-28 10:34:23</td>\n",
       "      <td>2011-11-28 10:43:00</td>\n",
       "      <td>Breakfast</td>\n",
       "    </tr>\n",
       "    <tr>\n",
       "      <th>4</th>\n",
       "      <td>2011-11-28 10:49:48</td>\n",
       "      <td>2011-11-28 10:51:13</td>\n",
       "      <td>Grooming</td>\n",
       "    </tr>\n",
       "  </tbody>\n",
       "</table>\n",
       "</div>"
      ],
      "text/plain": [
       "                 Start                  End   Activity\n",
       "0  2011-11-28 02:27:59  2011-11-28 10:18:11   Sleeping\n",
       "1  2011-11-28 10:21:24  2011-11-28 10:23:36  Toileting\n",
       "2  2011-11-28 10:25:44  2011-11-28 10:33:00  Showering\n",
       "3  2011-11-28 10:34:23  2011-11-28 10:43:00  Breakfast\n",
       "4  2011-11-28 10:49:48  2011-11-28 10:51:13   Grooming"
      ]
     },
     "execution_count": 117,
     "metadata": {},
     "output_type": "execute_result"
    }
   ],
   "source": [
    "#load data\n",
    "print(\"loading data...\")\n",
    "train_df = pd.read_csv('./data/OrdonezA_ADLs.txt', sep='\\t\\t')\n",
    "train_df.head()"
   ]
  },
  {
   "cell_type": "markdown",
   "metadata": {},
   "source": [
    "Let's convert start and end times to pandas datetime:"
   ]
  },
  {
   "cell_type": "code",
   "execution_count": 118,
   "metadata": {},
   "outputs": [
    {
     "name": "stdout",
     "output_type": "stream",
     "text": [
      "<class 'pandas.core.frame.DataFrame'>\n",
      "RangeIndex: 248 entries, 0 to 247\n",
      "Data columns (total 3 columns):\n",
      "Start       248 non-null datetime64[ns]\n",
      "End         248 non-null datetime64[ns]\n",
      "Activity    248 non-null object\n",
      "dtypes: datetime64[ns](2), object(1)\n",
      "memory usage: 5.9+ KB\n"
     ]
    }
   ],
   "source": [
    "train_df['Start'] = pd.to_datetime(train_df['Start'])\n",
    "train_df['End'] = pd.to_datetime(train_df['End'])\n",
    "train_df.info()"
   ]
  },
  {
   "cell_type": "code",
   "execution_count": 119,
   "metadata": {},
   "outputs": [
    {
     "data": {
      "text/html": [
       "<div>\n",
       "<style scoped>\n",
       "    .dataframe tbody tr th:only-of-type {\n",
       "        vertical-align: middle;\n",
       "    }\n",
       "\n",
       "    .dataframe tbody tr th {\n",
       "        vertical-align: top;\n",
       "    }\n",
       "\n",
       "    .dataframe thead th {\n",
       "        text-align: right;\n",
       "    }\n",
       "</style>\n",
       "<table border=\"1\" class=\"dataframe\">\n",
       "  <thead>\n",
       "    <tr style=\"text-align: right;\">\n",
       "      <th></th>\n",
       "      <th>Start</th>\n",
       "      <th>End</th>\n",
       "      <th>Activity</th>\n",
       "    </tr>\n",
       "  </thead>\n",
       "  <tbody>\n",
       "    <tr>\n",
       "      <th>0</th>\n",
       "      <td>2011-11-28 02:27:59</td>\n",
       "      <td>2011-11-28 10:18:11</td>\n",
       "      <td>Sleeping</td>\n",
       "    </tr>\n",
       "    <tr>\n",
       "      <th>1</th>\n",
       "      <td>2011-11-28 10:21:24</td>\n",
       "      <td>2011-11-28 10:23:36</td>\n",
       "      <td>Toileting</td>\n",
       "    </tr>\n",
       "    <tr>\n",
       "      <th>2</th>\n",
       "      <td>2011-11-28 10:25:44</td>\n",
       "      <td>2011-11-28 10:33:00</td>\n",
       "      <td>Showering</td>\n",
       "    </tr>\n",
       "    <tr>\n",
       "      <th>3</th>\n",
       "      <td>2011-11-28 10:34:23</td>\n",
       "      <td>2011-11-28 10:43:00</td>\n",
       "      <td>Breakfast</td>\n",
       "    </tr>\n",
       "    <tr>\n",
       "      <th>4</th>\n",
       "      <td>2011-11-28 10:49:48</td>\n",
       "      <td>2011-11-28 10:51:13</td>\n",
       "      <td>Grooming</td>\n",
       "    </tr>\n",
       "  </tbody>\n",
       "</table>\n",
       "</div>"
      ],
      "text/plain": [
       "                Start                 End   Activity\n",
       "0 2011-11-28 02:27:59 2011-11-28 10:18:11   Sleeping\n",
       "1 2011-11-28 10:21:24 2011-11-28 10:23:36  Toileting\n",
       "2 2011-11-28 10:25:44 2011-11-28 10:33:00  Showering\n",
       "3 2011-11-28 10:34:23 2011-11-28 10:43:00  Breakfast\n",
       "4 2011-11-28 10:49:48 2011-11-28 10:51:13   Grooming"
      ]
     },
     "execution_count": 119,
     "metadata": {},
     "output_type": "execute_result"
    }
   ],
   "source": [
    "train_df.head()"
   ]
  },
  {
   "cell_type": "markdown",
   "metadata": {},
   "source": [
    "Let's compute time intervals between activity start times and a maximum likelihood estimate for lambda: $\\lambda = \\frac{1}{E[X_i]} = \\frac{1}{ \\frac{1}{n}\\sum_{i=1}^{n}x_i}$"
   ]
  },
  {
   "cell_type": "code",
   "execution_count": 120,
   "metadata": {},
   "outputs": [],
   "source": [
    "train_df['delta'] = train_df['Start'].shift(-1) - train_df['Start']\n",
    "train_df['delta_sec'] = list(map(lambda x: x.seconds, train_df['delta']))\n",
    "train_df['delta_min'] = list(map(lambda x: x.seconds/60.0, train_df['delta']))\n",
    "train_df['lambda_est_hz'] = 1.0 / (train_df['delta_sec'].cumsum() / (train_df['delta_sec'].index.values +1))\n",
    "train_df['activity_cnt'] = np.arange(1,train_df.shape[0]+1)"
   ]
  },
  {
   "cell_type": "code",
   "execution_count": 121,
   "metadata": {},
   "outputs": [
    {
     "data": {
      "text/html": [
       "<div>\n",
       "<style scoped>\n",
       "    .dataframe tbody tr th:only-of-type {\n",
       "        vertical-align: middle;\n",
       "    }\n",
       "\n",
       "    .dataframe tbody tr th {\n",
       "        vertical-align: top;\n",
       "    }\n",
       "\n",
       "    .dataframe thead th {\n",
       "        text-align: right;\n",
       "    }\n",
       "</style>\n",
       "<table border=\"1\" class=\"dataframe\">\n",
       "  <thead>\n",
       "    <tr style=\"text-align: right;\">\n",
       "      <th></th>\n",
       "      <th>Start</th>\n",
       "      <th>End</th>\n",
       "      <th>Activity</th>\n",
       "      <th>delta</th>\n",
       "      <th>delta_sec</th>\n",
       "      <th>delta_min</th>\n",
       "      <th>lambda_est_hz</th>\n",
       "      <th>activity_cnt</th>\n",
       "    </tr>\n",
       "  </thead>\n",
       "  <tbody>\n",
       "    <tr>\n",
       "      <th>0</th>\n",
       "      <td>2011-11-28 02:27:59</td>\n",
       "      <td>2011-11-28 10:18:11</td>\n",
       "      <td>Sleeping</td>\n",
       "      <td>07:53:25</td>\n",
       "      <td>28405.0</td>\n",
       "      <td>473.416667</td>\n",
       "      <td>0.000035</td>\n",
       "      <td>1</td>\n",
       "    </tr>\n",
       "    <tr>\n",
       "      <th>1</th>\n",
       "      <td>2011-11-28 10:21:24</td>\n",
       "      <td>2011-11-28 10:23:36</td>\n",
       "      <td>Toileting</td>\n",
       "      <td>00:04:20</td>\n",
       "      <td>260.0</td>\n",
       "      <td>4.333333</td>\n",
       "      <td>0.000070</td>\n",
       "      <td>2</td>\n",
       "    </tr>\n",
       "    <tr>\n",
       "      <th>2</th>\n",
       "      <td>2011-11-28 10:25:44</td>\n",
       "      <td>2011-11-28 10:33:00</td>\n",
       "      <td>Showering</td>\n",
       "      <td>00:08:39</td>\n",
       "      <td>519.0</td>\n",
       "      <td>8.650000</td>\n",
       "      <td>0.000103</td>\n",
       "      <td>3</td>\n",
       "    </tr>\n",
       "    <tr>\n",
       "      <th>3</th>\n",
       "      <td>2011-11-28 10:34:23</td>\n",
       "      <td>2011-11-28 10:43:00</td>\n",
       "      <td>Breakfast</td>\n",
       "      <td>00:15:25</td>\n",
       "      <td>925.0</td>\n",
       "      <td>15.416667</td>\n",
       "      <td>0.000133</td>\n",
       "      <td>4</td>\n",
       "    </tr>\n",
       "    <tr>\n",
       "      <th>4</th>\n",
       "      <td>2011-11-28 10:49:48</td>\n",
       "      <td>2011-11-28 10:51:13</td>\n",
       "      <td>Grooming</td>\n",
       "      <td>00:01:53</td>\n",
       "      <td>113.0</td>\n",
       "      <td>1.883333</td>\n",
       "      <td>0.000165</td>\n",
       "      <td>5</td>\n",
       "    </tr>\n",
       "  </tbody>\n",
       "</table>\n",
       "</div>"
      ],
      "text/plain": [
       "                Start                 End   Activity    delta  delta_sec  \\\n",
       "0 2011-11-28 02:27:59 2011-11-28 10:18:11   Sleeping 07:53:25    28405.0   \n",
       "1 2011-11-28 10:21:24 2011-11-28 10:23:36  Toileting 00:04:20      260.0   \n",
       "2 2011-11-28 10:25:44 2011-11-28 10:33:00  Showering 00:08:39      519.0   \n",
       "3 2011-11-28 10:34:23 2011-11-28 10:43:00  Breakfast 00:15:25      925.0   \n",
       "4 2011-11-28 10:49:48 2011-11-28 10:51:13   Grooming 00:01:53      113.0   \n",
       "\n",
       "    delta_min  lambda_est_hz  activity_cnt  \n",
       "0  473.416667       0.000035             1  \n",
       "1    4.333333       0.000070             2  \n",
       "2    8.650000       0.000103             3  \n",
       "3   15.416667       0.000133             4  \n",
       "4    1.883333       0.000165             5  "
      ]
     },
     "execution_count": 121,
     "metadata": {},
     "output_type": "execute_result"
    }
   ],
   "source": [
    "train_df.head()"
   ]
  },
  {
   "cell_type": "code",
   "execution_count": 126,
   "metadata": {},
   "outputs": [
    {
     "data": {
      "text/plain": [
       "<matplotlib.legend.Legend at 0x2ada41f0518>"
      ]
     },
     "execution_count": 126,
     "metadata": {},
     "output_type": "execute_result"
    },
    {
     "data": {
      "image/png": "[encoded data removed]",
      "text/plain": [
       "<Figure size 432x288 with 1 Axes>"
      ]
     },
     "metadata": {
      "needs_background": "light"
     },
     "output_type": "display_data"
    }
   ],
   "source": [
    "plt.plot(train_df['delta_sec'].cumsum(), train_df['activity_cnt'], label='Activity Dataset')\n",
    "plt.xlabel(\"event time, sec\"); plt.ylabel(\"event count\"); plt.grid(True); plt.title(\"Poisson Arrival Process\"); plt.legend()"
   ]
  },
  {
   "cell_type": "code",
   "execution_count": 128,
   "metadata": {},
   "outputs": [
    {
     "data": {
      "text/plain": [
       "<matplotlib.legend.Legend at 0x2ada30b2f60>"
      ]
     },
     "execution_count": 128,
     "metadata": {},
     "output_type": "execute_result"
    },
    {
     "data": {
      "image/png": "[encoded data removed]",
      "text/plain": [
       "<Figure size 432x288 with 1 Axes>"
      ]
     },
     "metadata": {
      "needs_background": "light"
     },
     "output_type": "display_data"
    }
   ],
   "source": [
    "plt.plot(train_df['lambda_est_hz'], label='lambda estimate, Hz')\n",
    "plt.xlabel(\"events\"); plt.ylabel(\"$\\lambda_{ML}$, Hz\"); plt.grid(True); plt.title(\"Poisson Arrival Rate\"); plt.legend()"
   ]
  },
  {
   "cell_type": "markdown",
   "metadata": {},
   "source": [
    "Let's build a probabilistic model to infer the Poisson rate lambda using PyMC3:"
   ]
  },
  {
   "cell_type": "code",
   "execution_count": 136,
   "metadata": {},
   "outputs": [
    {
     "name": "stderr",
     "output_type": "stream",
     "text": [
      "Only 200 samples in chain.\n",
      "Auto-assigning NUTS sampler...\n",
      "Initializing NUTS using jitter+adapt_diag...\n",
      "Multiprocess sampling (2 chains in 4 jobs)\n",
      "NUTS: [y_obs_missing, lambda_prior]\n",
      "Sampling 2 chains: 100%|██████████████████████████████████████████████████████████| 600/600 [18:26<00:00,  1.84s/draws]\n",
      "The acceptance probability does not match the target. It is 0.9314882386638504, but should be close to 0.8. Try to increase the number of tuning steps.\n",
      "The chain reached the maximum tree depth. Increase max_treedepth, increase target_accept or reparameterize.\n",
      "The acceptance probability does not match the target. It is 0.9401518874543332, but should be close to 0.8. Try to increase the number of tuning steps.\n",
      "The chain reached the maximum tree depth. Increase max_treedepth, increase target_accept or reparameterize.\n",
      "The gelman-rubin statistic is larger than 1.4 for some parameters. The sampler did not converge.\n",
      "The number of effective samples is smaller than 10% for some parameters.\n"
     ]
    },
    {
     "ename": "ImportError",
     "evalue": "ArviZ is not installed. In order to use `plot_trace`:\npip install arviz",
     "output_type": "error",
     "traceback": [
      "\u001b[1;31m---------------------------------------------------------------------------\u001b[0m",
      "\u001b[1;31mImportError\u001b[0m                               Traceback (most recent call last)",
      "\u001b[1;32m<ipython-input-136-0a16832fd379>\u001b[0m in \u001b[0;36m<module>\u001b[1;34m\u001b[0m\n\u001b[0;32m      8\u001b[0m \u001b[1;32mwith\u001b[0m \u001b[0mmodel\u001b[0m\u001b[1;33m:\u001b[0m\u001b[1;33m\u001b[0m\u001b[1;33m\u001b[0m\u001b[0m\n\u001b[0;32m      9\u001b[0m     \u001b[0mtrace\u001b[0m \u001b[1;33m=\u001b[0m \u001b[0mpm\u001b[0m\u001b[1;33m.\u001b[0m\u001b[0msample\u001b[0m\u001b[1;33m(\u001b[0m\u001b[1;36m200\u001b[0m\u001b[1;33m,\u001b[0m \u001b[0mchains\u001b[0m \u001b[1;33m=\u001b[0m \u001b[1;36m2\u001b[0m\u001b[1;33m,\u001b[0m \u001b[0mtune\u001b[0m \u001b[1;33m=\u001b[0m \u001b[1;36m100\u001b[0m\u001b[1;33m)\u001b[0m\u001b[1;33m\u001b[0m\u001b[1;33m\u001b[0m\u001b[0m\n\u001b[1;32m---> 10\u001b[1;33m     \u001b[0mpm\u001b[0m\u001b[1;33m.\u001b[0m\u001b[0mtraceplot\u001b[0m\u001b[1;33m(\u001b[0m\u001b[0mtrace\u001b[0m\u001b[1;33m)\u001b[0m\u001b[1;33m\u001b[0m\u001b[1;33m\u001b[0m\u001b[0m\n\u001b[0m\u001b[0;32m     11\u001b[0m     \u001b[0mplt\u001b[0m\u001b[1;33m.\u001b[0m\u001b[0mshow\u001b[0m\u001b[1;33m(\u001b[0m\u001b[1;33m)\u001b[0m\u001b[1;33m\u001b[0m\u001b[1;33m\u001b[0m\u001b[0m\n",
      "\u001b[1;32m~\\AppData\\Local\\Continuum\\anaconda3\\envs\\vss\\lib\\site-packages\\pymc3\\plots\\__init__.py\u001b[0m in \u001b[0;36mwrapped\u001b[1;34m(*args, **kwargs)\u001b[0m\n\u001b[0;32m     40\u001b[0m                 \u001b[0mwarnings\u001b[0m\u001b[1;33m.\u001b[0m\u001b[0mwarn\u001b[0m\u001b[1;33m(\u001b[0m\u001b[1;34m'Keyword argument `{old}` renamed to `{new}`, and will be removed in pymc3 3.8'\u001b[0m\u001b[1;33m.\u001b[0m\u001b[0mformat\u001b[0m\u001b[1;33m(\u001b[0m\u001b[0mold\u001b[0m\u001b[1;33m=\u001b[0m\u001b[0mold\u001b[0m\u001b[1;33m,\u001b[0m \u001b[0mnew\u001b[0m\u001b[1;33m=\u001b[0m\u001b[0mnew\u001b[0m\u001b[1;33m)\u001b[0m\u001b[1;33m)\u001b[0m\u001b[1;33m\u001b[0m\u001b[1;33m\u001b[0m\u001b[0m\n\u001b[0;32m     41\u001b[0m                 \u001b[0mkwargs\u001b[0m\u001b[1;33m[\u001b[0m\u001b[0mnew\u001b[0m\u001b[1;33m]\u001b[0m \u001b[1;33m=\u001b[0m \u001b[0mkwargs\u001b[0m\u001b[1;33m.\u001b[0m\u001b[0mpop\u001b[0m\u001b[1;33m(\u001b[0m\u001b[0mold\u001b[0m\u001b[1;33m)\u001b[0m\u001b[1;33m\u001b[0m\u001b[1;33m\u001b[0m\u001b[0m\n\u001b[1;32m---> 42\u001b[1;33m             \u001b[1;32mreturn\u001b[0m \u001b[0mfunc\u001b[0m\u001b[1;33m(\u001b[0m\u001b[1;33m*\u001b[0m\u001b[0margs\u001b[0m\u001b[1;33m,\u001b[0m \u001b[1;33m**\u001b[0m\u001b[0mkwargs\u001b[0m\u001b[1;33m)\u001b[0m\u001b[1;33m\u001b[0m\u001b[1;33m\u001b[0m\u001b[0m\n\u001b[0m\u001b[0;32m     43\u001b[0m     \u001b[1;32mreturn\u001b[0m \u001b[0mwrapped\u001b[0m\u001b[1;33m\u001b[0m\u001b[1;33m\u001b[0m\u001b[0m\n\u001b[0;32m     44\u001b[0m \u001b[1;33m\u001b[0m\u001b[0m\n",
      "\u001b[1;32m~\\AppData\\Local\\Continuum\\anaconda3\\envs\\vss\\lib\\site-packages\\pymc3\\plots\\__init__.py\u001b[0m in \u001b[0;36m__call__\u001b[1;34m(self, *args, **kwargs)\u001b[0m\n\u001b[0;32m     20\u001b[0m         \u001b[1;32mdef\u001b[0m \u001b[0m__call__\u001b[0m\u001b[1;33m(\u001b[0m\u001b[0mself\u001b[0m\u001b[1;33m,\u001b[0m \u001b[1;33m*\u001b[0m\u001b[0margs\u001b[0m\u001b[1;33m,\u001b[0m \u001b[1;33m**\u001b[0m\u001b[0mkwargs\u001b[0m\u001b[1;33m)\u001b[0m\u001b[1;33m:\u001b[0m\u001b[1;33m\u001b[0m\u001b[1;33m\u001b[0m\u001b[0m\n\u001b[0;32m     21\u001b[0m             raise ImportError(\n\u001b[1;32m---> 22\u001b[1;33m                 \u001b[1;34m\"ArviZ is not installed. In order to use `{0.attr}`:\\npip install arviz\"\u001b[0m\u001b[1;33m.\u001b[0m\u001b[0mformat\u001b[0m\u001b[1;33m(\u001b[0m\u001b[0mself\u001b[0m\u001b[1;33m)\u001b[0m\u001b[1;33m\u001b[0m\u001b[1;33m\u001b[0m\u001b[0m\n\u001b[0m\u001b[0;32m     23\u001b[0m             )\n\u001b[0;32m     24\u001b[0m \u001b[1;33m\u001b[0m\u001b[0m\n",
      "\u001b[1;31mImportError\u001b[0m: ArviZ is not installed. In order to use `plot_trace`:\npip install arviz"
     ]
    }
   ],
   "source": [
    "lambda_est = train_df['lambda_est_hz'].mean()\n",
    "\n",
    "with pm.Model() as model:\n",
    "    #lambda_prior = pm.Uniform('lambda_prior', 0, 0.001)\n",
    "    lambda_prior = pm.Normal('lambda_prior', mu = lambda_est, sd = 0.1)\n",
    "    y_obs = pm.Exponential('y_obs', lam = lambda_prior, observed = train_df['delta_sec'])\n",
    "\n",
    "with model:\n",
    "    trace = pm.sample(200, chains = 2, tune = 100)\n",
    "    pm.traceplot(trace)\n",
    "    plt.show()"
   ]
  },
  {
   "cell_type": "code",
   "execution_count": 74,
   "metadata": {},
   "outputs": [
    {
     "data": {
      "text/html": [
       "<div>\n",
       "<style scoped>\n",
       "    .dataframe tbody tr th:only-of-type {\n",
       "        vertical-align: middle;\n",
       "    }\n",
       "\n",
       "    .dataframe tbody tr th {\n",
       "        vertical-align: top;\n",
       "    }\n",
       "\n",
       "    .dataframe thead th {\n",
       "        text-align: right;\n",
       "    }\n",
       "</style>\n",
       "<table border=\"1\" class=\"dataframe\">\n",
       "  <thead>\n",
       "    <tr style=\"text-align: right;\">\n",
       "      <th></th>\n",
       "      <th>Start</th>\n",
       "      <th>End</th>\n",
       "      <th>Activity</th>\n",
       "      <th>delta</th>\n",
       "      <th>delta_min</th>\n",
       "      <th>delta_sec</th>\n",
       "    </tr>\n",
       "  </thead>\n",
       "  <tbody>\n",
       "    <tr>\n",
       "      <th>0</th>\n",
       "      <td>2011-11-28 02:27:59</td>\n",
       "      <td>2011-11-28 10:18:11</td>\n",
       "      <td>Sleeping</td>\n",
       "      <td>07:53:25</td>\n",
       "      <td>473.416667</td>\n",
       "      <td>28405.0</td>\n",
       "    </tr>\n",
       "    <tr>\n",
       "      <th>1</th>\n",
       "      <td>2011-11-28 10:21:24</td>\n",
       "      <td>2011-11-28 10:23:36</td>\n",
       "      <td>Toileting</td>\n",
       "      <td>00:04:20</td>\n",
       "      <td>4.333333</td>\n",
       "      <td>260.0</td>\n",
       "    </tr>\n",
       "    <tr>\n",
       "      <th>2</th>\n",
       "      <td>2011-11-28 10:25:44</td>\n",
       "      <td>2011-11-28 10:33:00</td>\n",
       "      <td>Showering</td>\n",
       "      <td>00:08:39</td>\n",
       "      <td>8.650000</td>\n",
       "      <td>519.0</td>\n",
       "    </tr>\n",
       "    <tr>\n",
       "      <th>3</th>\n",
       "      <td>2011-11-28 10:34:23</td>\n",
       "      <td>2011-11-28 10:43:00</td>\n",
       "      <td>Breakfast</td>\n",
       "      <td>00:15:25</td>\n",
       "      <td>15.416667</td>\n",
       "      <td>925.0</td>\n",
       "    </tr>\n",
       "    <tr>\n",
       "      <th>4</th>\n",
       "      <td>2011-11-28 10:49:48</td>\n",
       "      <td>2011-11-28 10:51:13</td>\n",
       "      <td>Grooming</td>\n",
       "      <td>00:01:53</td>\n",
       "      <td>1.883333</td>\n",
       "      <td>113.0</td>\n",
       "    </tr>\n",
       "  </tbody>\n",
       "</table>\n",
       "</div>"
      ],
      "text/plain": [
       "                Start                 End   Activity    delta   delta_min  \\\n",
       "0 2011-11-28 02:27:59 2011-11-28 10:18:11   Sleeping 07:53:25  473.416667   \n",
       "1 2011-11-28 10:21:24 2011-11-28 10:23:36  Toileting 00:04:20    4.333333   \n",
       "2 2011-11-28 10:25:44 2011-11-28 10:33:00  Showering 00:08:39    8.650000   \n",
       "3 2011-11-28 10:34:23 2011-11-28 10:43:00  Breakfast 00:15:25   15.416667   \n",
       "4 2011-11-28 10:49:48 2011-11-28 10:51:13   Grooming 00:01:53    1.883333   \n",
       "\n",
       "   delta_sec  \n",
       "0    28405.0  \n",
       "1      260.0  \n",
       "2      519.0  \n",
       "3      925.0  \n",
       "4      113.0  "
      ]
     },
     "execution_count": 74,
     "metadata": {},
     "output_type": "execute_result"
    }
   ],
   "source": [
    "train_df.head()"
   ]
  },
  {
   "cell_type": "markdown",
   "metadata": {},
   "source": [
    "### References"
   ]
  },
  {
   "cell_type": "markdown",
   "metadata": {},
   "source": [
    "[1] J. Kingman, \"Poisson Processes\", Oxford Studies in Probability, Clarendon Press, 1993  \n",
    "[2] A. Patil et al. PyMC: Bayesian Stochastic Modelling in Python, Journal of Statistical Software, 2010"
   ]
  }
 ],
 "metadata": {
  "kernelspec": {
   "display_name": "Python 3",
   "language": "python",
   "name": "python3"
  },
  "language_info": {
   "codemirror_mode": {
    "name": "ipython",
    "version": 3
   },
   "file_extension": ".py",
   "mimetype": "text/x-python",
   "name": "python",
   "nbconvert_exporter": "python",
   "pygments_lexer": "ipython3",
   "version": "3.6.8"
  }
 },
 "nbformat": 4,
 "nbformat_minor": 2
}
