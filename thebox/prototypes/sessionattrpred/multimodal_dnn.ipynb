{
 "cells": [
  {
   "cell_type": "markdown",
   "metadata": {},
   "source": [
    "##  Multi-Modal DNN"
   ]
  },
  {
   "cell_type": "markdown",
   "metadata": {},
   "source": [
    "The goal of this notebook is to explore multi-modal DNN model [1] as it applies to App intent classification (e.g. work vs play or commercial vs personal app usage) based on multi-modal inputs: URLs and Apps."
   ]
  },
  {
   "cell_type": "markdown",
   "metadata": {},
   "source": [
    "An additional goal is to build on top of intent classification in order for App to know more about its session, e.g. session type, current session length and be able to predict session endtime and next session type."
   ]
  },
  {
   "cell_type": "markdown",
   "metadata": {},
   "source": [
    "Let's start by importing the required libraries"
   ]
  },
  {
   "cell_type": "code",
   "execution_count": 1,
   "metadata": {},
   "outputs": [],
   "source": [
    "import numpy as np\n",
    "import pandas as pd\n",
    "import seaborn as sns\n",
    "import matplotlib.pyplot as plt\n",
    "\n",
    "import math\n",
    "from sklearn.model_selection import train_test_split\n",
    "\n",
    "import warnings\n",
    "warnings.filterwarnings('ignore')"
   ]
  },
  {
   "cell_type": "code",
   "execution_count": 2,
   "metadata": {},
   "outputs": [
    {
     "name": "stderr",
     "output_type": "stream",
     "text": [
      "Using TensorFlow backend.\n"
     ]
    }
   ],
   "source": [
    "import keras\n",
    "from keras import Input\n",
    "from keras.layers import Dense, concatenate, Dropout\n",
    "from keras.models import Model\n",
    "from keras import optimizers\n",
    "from keras import regularizers\n",
    "from keras.utils import plot_model\n",
    "from keras.models import load_model\n",
    "\n",
    "from keras.callbacks import ModelCheckpoint\n",
    "from keras.callbacks import TensorBoard\n",
    "from keras.callbacks import LearningRateScheduler\n",
    "from keras.callbacks import EarlyStopping\n",
    "\n",
    "from tqdm import tqdm"
   ]
  },
  {
   "cell_type": "code",
   "execution_count": 3,
   "metadata": {},
   "outputs": [],
   "source": [
    "def step_decay(epoch):\n",
    "    lr_init = 0.001\n",
    "    drop = 0.5\n",
    "    epochs_drop = 4.0\n",
    "    lr_new = lr_init * math.pow(drop, math.floor((1+epoch)/epochs_drop))\n",
    "    return lr_new"
   ]
  },
  {
   "cell_type": "code",
   "execution_count": 4,
   "metadata": {},
   "outputs": [],
   "source": [
    "class LR_hist(keras.callbacks.Callback):\n",
    "    def on_train_begin(self, logs={}):\n",
    "        self.losses = []\n",
    "        self.lr = []\n",
    "\n",
    "    def on_epoch_end(self, batch, logs={}):\n",
    "        self.losses.append(logs.get('loss'))\n",
    "        self.lr.append(step_decay(len(self.losses)))"
   ]
  },
  {
   "cell_type": "markdown",
   "metadata": {},
   "source": [
    "Let's start by exploring the dataset"
   ]
  },
  {
   "cell_type": "code",
   "execution_count": 5,
   "metadata": {},
   "outputs": [
    {
     "data": {
      "text/html": [
       "<div>\n",
       "<style scoped>\n",
       "    .dataframe tbody tr th:only-of-type {\n",
       "        vertical-align: middle;\n",
       "    }\n",
       "\n",
       "    .dataframe tbody tr th {\n",
       "        vertical-align: top;\n",
       "    }\n",
       "\n",
       "    .dataframe thead th {\n",
       "        text-align: right;\n",
       "    }\n",
       "</style>\n",
       "<table border=\"1\" class=\"dataframe\">\n",
       "  <thead>\n",
       "    <tr style=\"text-align: right;\">\n",
       "      <th></th>\n",
       "      <th>Sector_score</th>\n",
       "      <th>LOCATION_ID</th>\n",
       "      <th>PARA_A</th>\n",
       "      <th>Score_A</th>\n",
       "      <th>Risk_A</th>\n",
       "      <th>PARA_B</th>\n",
       "      <th>Score_B</th>\n",
       "      <th>Risk_B</th>\n",
       "      <th>TOTAL</th>\n",
       "      <th>numbers</th>\n",
       "      <th>...</th>\n",
       "      <th>RiSk_E</th>\n",
       "      <th>History</th>\n",
       "      <th>Prob</th>\n",
       "      <th>Risk_F</th>\n",
       "      <th>Score</th>\n",
       "      <th>Inherent_Risk</th>\n",
       "      <th>CONTROL_RISK</th>\n",
       "      <th>Detection_Risk</th>\n",
       "      <th>Audit_Risk</th>\n",
       "      <th>Risk</th>\n",
       "    </tr>\n",
       "  </thead>\n",
       "  <tbody>\n",
       "    <tr>\n",
       "      <th>0</th>\n",
       "      <td>3.89</td>\n",
       "      <td>23</td>\n",
       "      <td>4.18</td>\n",
       "      <td>0.6</td>\n",
       "      <td>2.508</td>\n",
       "      <td>2.50</td>\n",
       "      <td>0.2</td>\n",
       "      <td>0.500</td>\n",
       "      <td>6.68</td>\n",
       "      <td>5.0</td>\n",
       "      <td>...</td>\n",
       "      <td>0.4</td>\n",
       "      <td>0</td>\n",
       "      <td>0.2</td>\n",
       "      <td>0.0</td>\n",
       "      <td>2.4</td>\n",
       "      <td>8.574</td>\n",
       "      <td>0.4</td>\n",
       "      <td>0.5</td>\n",
       "      <td>1.7148</td>\n",
       "      <td>1</td>\n",
       "    </tr>\n",
       "    <tr>\n",
       "      <th>1</th>\n",
       "      <td>3.89</td>\n",
       "      <td>6</td>\n",
       "      <td>0.00</td>\n",
       "      <td>0.2</td>\n",
       "      <td>0.000</td>\n",
       "      <td>4.83</td>\n",
       "      <td>0.2</td>\n",
       "      <td>0.966</td>\n",
       "      <td>4.83</td>\n",
       "      <td>5.0</td>\n",
       "      <td>...</td>\n",
       "      <td>0.4</td>\n",
       "      <td>0</td>\n",
       "      <td>0.2</td>\n",
       "      <td>0.0</td>\n",
       "      <td>2.0</td>\n",
       "      <td>2.554</td>\n",
       "      <td>0.4</td>\n",
       "      <td>0.5</td>\n",
       "      <td>0.5108</td>\n",
       "      <td>0</td>\n",
       "    </tr>\n",
       "    <tr>\n",
       "      <th>2</th>\n",
       "      <td>3.89</td>\n",
       "      <td>6</td>\n",
       "      <td>0.51</td>\n",
       "      <td>0.2</td>\n",
       "      <td>0.102</td>\n",
       "      <td>0.23</td>\n",
       "      <td>0.2</td>\n",
       "      <td>0.046</td>\n",
       "      <td>0.74</td>\n",
       "      <td>5.0</td>\n",
       "      <td>...</td>\n",
       "      <td>0.4</td>\n",
       "      <td>0</td>\n",
       "      <td>0.2</td>\n",
       "      <td>0.0</td>\n",
       "      <td>2.0</td>\n",
       "      <td>1.548</td>\n",
       "      <td>0.4</td>\n",
       "      <td>0.5</td>\n",
       "      <td>0.3096</td>\n",
       "      <td>0</td>\n",
       "    </tr>\n",
       "    <tr>\n",
       "      <th>3</th>\n",
       "      <td>3.89</td>\n",
       "      <td>6</td>\n",
       "      <td>0.00</td>\n",
       "      <td>0.2</td>\n",
       "      <td>0.000</td>\n",
       "      <td>10.80</td>\n",
       "      <td>0.6</td>\n",
       "      <td>6.480</td>\n",
       "      <td>10.80</td>\n",
       "      <td>6.0</td>\n",
       "      <td>...</td>\n",
       "      <td>0.4</td>\n",
       "      <td>0</td>\n",
       "      <td>0.2</td>\n",
       "      <td>0.0</td>\n",
       "      <td>4.4</td>\n",
       "      <td>17.530</td>\n",
       "      <td>0.4</td>\n",
       "      <td>0.5</td>\n",
       "      <td>3.5060</td>\n",
       "      <td>1</td>\n",
       "    </tr>\n",
       "    <tr>\n",
       "      <th>4</th>\n",
       "      <td>3.89</td>\n",
       "      <td>6</td>\n",
       "      <td>0.00</td>\n",
       "      <td>0.2</td>\n",
       "      <td>0.000</td>\n",
       "      <td>0.08</td>\n",
       "      <td>0.2</td>\n",
       "      <td>0.016</td>\n",
       "      <td>0.08</td>\n",
       "      <td>5.0</td>\n",
       "      <td>...</td>\n",
       "      <td>0.4</td>\n",
       "      <td>0</td>\n",
       "      <td>0.2</td>\n",
       "      <td>0.0</td>\n",
       "      <td>2.0</td>\n",
       "      <td>1.416</td>\n",
       "      <td>0.4</td>\n",
       "      <td>0.5</td>\n",
       "      <td>0.2832</td>\n",
       "      <td>0</td>\n",
       "    </tr>\n",
       "  </tbody>\n",
       "</table>\n",
       "<p>5 rows × 27 columns</p>\n",
       "</div>"
      ],
      "text/plain": [
       "   Sector_score LOCATION_ID  PARA_A  Score_A  Risk_A  PARA_B  Score_B  Risk_B  \\\n",
       "0          3.89          23    4.18      0.6   2.508    2.50      0.2   0.500   \n",
       "1          3.89           6    0.00      0.2   0.000    4.83      0.2   0.966   \n",
       "2          3.89           6    0.51      0.2   0.102    0.23      0.2   0.046   \n",
       "3          3.89           6    0.00      0.2   0.000   10.80      0.6   6.480   \n",
       "4          3.89           6    0.00      0.2   0.000    0.08      0.2   0.016   \n",
       "\n",
       "   TOTAL  numbers  ...  RiSk_E  History  Prob  Risk_F  Score  Inherent_Risk  \\\n",
       "0   6.68      5.0  ...     0.4        0   0.2     0.0    2.4          8.574   \n",
       "1   4.83      5.0  ...     0.4        0   0.2     0.0    2.0          2.554   \n",
       "2   0.74      5.0  ...     0.4        0   0.2     0.0    2.0          1.548   \n",
       "3  10.80      6.0  ...     0.4        0   0.2     0.0    4.4         17.530   \n",
       "4   0.08      5.0  ...     0.4        0   0.2     0.0    2.0          1.416   \n",
       "\n",
       "   CONTROL_RISK  Detection_Risk  Audit_Risk  Risk  \n",
       "0           0.4             0.5      1.7148     1  \n",
       "1           0.4             0.5      0.5108     0  \n",
       "2           0.4             0.5      0.3096     0  \n",
       "3           0.4             0.5      3.5060     1  \n",
       "4           0.4             0.5      0.2832     0  \n",
       "\n",
       "[5 rows x 27 columns]"
      ]
     },
     "execution_count": 5,
     "metadata": {},
     "output_type": "execute_result"
    }
   ],
   "source": [
    "data_df = pd.read_csv('./data/audit_risk.csv')\n",
    "data_df.head()"
   ]
  },
  {
   "cell_type": "code",
   "execution_count": 6,
   "metadata": {},
   "outputs": [
    {
     "name": "stdout",
     "output_type": "stream",
     "text": [
      "droping non-numerical data, row idx:  [351, 355, 367]\n"
     ]
    }
   ],
   "source": [
    "row_idx_to_drop = np.where(~data_df['LOCATION_ID'].str.isnumeric())\n",
    "print(\"droping non-numerical data, row idx: \", row_idx_to_drop[0].tolist())\n",
    "data_df.drop(row_idx_to_drop[0].tolist(), inplace=True)"
   ]
  },
  {
   "cell_type": "markdown",
   "metadata": {},
   "source": [
    "For the purpose of creating a multi-input dataset, let's split the dataframe into two based on column names: data_df2 will contain columns with the name \"risk\" and data_df1 will contain the remaining columns."
   ]
  },
  {
   "cell_type": "code",
   "execution_count": 7,
   "metadata": {},
   "outputs": [],
   "source": [
    "column_names = list(map(str.lower, list(data_df.columns.values)))\n",
    "column1_idx = ['risk' in item for item in column_names]\n",
    "column2_idx = [not item for item in column1_idx]\n",
    "df1_col = np.where(column1_idx)[0]\n",
    "df2_col = np.where(column2_idx)[0]\n",
    "data_df1 = data_df.iloc[:,df1_col]\n",
    "data_df2 = data_df.iloc[:,df2_col]"
   ]
  },
  {
   "cell_type": "code",
   "execution_count": 8,
   "metadata": {},
   "outputs": [],
   "source": [
    "y = data_df1['Risk'].values #binary target variable\n",
    "\n",
    "X1 = data_df1.drop(columns=['Risk']).astype('float64').values #input1\n",
    "X2 = data_df2.astype('float64').values #input2\n",
    "\n",
    "X1_train, X1_test, y1_train, y1_test = train_test_split(X1, y, test_size=0.1, random_state=0)\n",
    "X2_train, X2_test, y2_train, y2_test = train_test_split(X2, y, test_size=0.1, random_state=0)"
   ]
  },
  {
   "cell_type": "code",
   "execution_count": 9,
   "metadata": {},
   "outputs": [
    {
     "name": "stdout",
     "output_type": "stream",
     "text": [
      "number of features (input 1):  10\n",
      "number of training examples (input 1):  695\n",
      "number of features (input 2):  16\n",
      "number of training examples (input 2):  695\n"
     ]
    }
   ],
   "source": [
    "num_features1 = X1_train.shape[1]\n",
    "num_features2 = X2_train.shape[1]\n",
    "print(\"number of features (input 1): \", num_features1)\n",
    "print(\"number of training examples (input 1): \", X1_train.shape[0])\n",
    "print(\"number of features (input 2): \", num_features2)\n",
    "print(\"number of training examples (input 2): \", X2_train.shape[0])"
   ]
  },
  {
   "cell_type": "markdown",
   "metadata": {},
   "source": [
    "We can see that the dataset target label (risk) is relatively balanced. Also, the number of training examples is somewhat low for a neural net based model, however, it's interesting to see how it'll perform in this data-limited regime."
   ]
  },
  {
   "cell_type": "code",
   "execution_count": 10,
   "metadata": {},
   "outputs": [
    {
     "data": {
      "text/plain": [
       "<matplotlib.axes._subplots.AxesSubplot at 0x23634eb5320>"
      ]
     },
     "execution_count": 10,
     "metadata": {},
     "output_type": "execute_result"
    },
    {
     "data": {
      "image/png": "[encoded data removed]",
      "text/plain": [
       "<Figure size 432x288 with 1 Axes>"
      ]
     },
     "metadata": {
      "needs_background": "light"
     },
     "output_type": "display_data"
    }
   ],
   "source": [
    "sns.distplot(y1_train, kde=False)"
   ]
  },
  {
   "cell_type": "markdown",
   "metadata": {},
   "source": [
    "Next, let's define our multi-modal NN using the functional keras API"
   ]
  },
  {
   "cell_type": "code",
   "execution_count": 11,
   "metadata": {},
   "outputs": [],
   "source": [
    "#training params\n",
    "batch_size = 64\n",
    "num_epochs = 32"
   ]
  },
  {
   "cell_type": "code",
   "execution_count": 12,
   "metadata": {},
   "outputs": [],
   "source": [
    "#model parameters\n",
    "hidden_size = 8 \n",
    "\n",
    "dense_dropout = 0.2\n",
    "weight_decay = 1e-4"
   ]
  },
  {
   "cell_type": "code",
   "execution_count": 13,
   "metadata": {},
   "outputs": [
    {
     "name": "stderr",
     "output_type": "stream",
     "text": [
      "WARNING: Logging before flag parsing goes to stderr.\n",
      "W0729 11:04:16.091658 24536 deprecation_wrapper.py:119] From C:\\Users\\t-vasmol.REDMOND\\AppData\\Local\\Continuum\\anaconda3\\envs\\vss\\lib\\site-packages\\keras\\backend\\tensorflow_backend.py:517: The name tf.placeholder is deprecated. Please use tf.compat.v1.placeholder instead.\n",
      "\n",
      "W0729 11:04:16.116804 24536 deprecation_wrapper.py:119] From C:\\Users\\t-vasmol.REDMOND\\AppData\\Local\\Continuum\\anaconda3\\envs\\vss\\lib\\site-packages\\keras\\backend\\tensorflow_backend.py:74: The name tf.get_default_graph is deprecated. Please use tf.compat.v1.get_default_graph instead.\n",
      "\n",
      "W0729 11:04:16.121865 24536 deprecation_wrapper.py:119] From C:\\Users\\t-vasmol.REDMOND\\AppData\\Local\\Continuum\\anaconda3\\envs\\vss\\lib\\site-packages\\keras\\backend\\tensorflow_backend.py:4138: The name tf.random_uniform is deprecated. Please use tf.random.uniform instead.\n",
      "\n",
      "W0729 11:04:16.216422 24536 deprecation_wrapper.py:119] From C:\\Users\\t-vasmol.REDMOND\\AppData\\Local\\Continuum\\anaconda3\\envs\\vss\\lib\\site-packages\\keras\\backend\\tensorflow_backend.py:133: The name tf.placeholder_with_default is deprecated. Please use tf.compat.v1.placeholder_with_default instead.\n",
      "\n",
      "W0729 11:04:16.226338 24536 deprecation.py:506] From C:\\Users\\t-vasmol.REDMOND\\AppData\\Local\\Continuum\\anaconda3\\envs\\vss\\lib\\site-packages\\keras\\backend\\tensorflow_backend.py:3445: calling dropout (from tensorflow.python.ops.nn_ops) with keep_prob is deprecated and will be removed in a future version.\n",
      "Instructions for updating:\n",
      "Please use `rate` instead of `keep_prob`. Rate should be set to `rate = 1 - keep_prob`.\n",
      "W0729 11:04:16.361785 24536 deprecation_wrapper.py:119] From C:\\Users\\t-vasmol.REDMOND\\AppData\\Local\\Continuum\\anaconda3\\envs\\vss\\lib\\site-packages\\keras\\optimizers.py:790: The name tf.train.Optimizer is deprecated. Please use tf.compat.v1.train.Optimizer instead.\n",
      "\n",
      "W0729 11:04:16.366293 24536 deprecation_wrapper.py:119] From C:\\Users\\t-vasmol.REDMOND\\AppData\\Local\\Continuum\\anaconda3\\envs\\vss\\lib\\site-packages\\keras\\backend\\tensorflow_backend.py:3376: The name tf.log is deprecated. Please use tf.math.log instead.\n",
      "\n",
      "W0729 11:04:16.370302 24536 deprecation.py:323] From C:\\Users\\t-vasmol.REDMOND\\AppData\\Local\\Continuum\\anaconda3\\envs\\vss\\lib\\site-packages\\tensorflow\\python\\ops\\nn_impl.py:180: add_dispatch_support.<locals>.wrapper (from tensorflow.python.ops.array_ops) is deprecated and will be removed in a future version.\n",
      "Instructions for updating:\n",
      "Use tf.where in 2.0, which has the same broadcast rule as np.where\n"
     ]
    },
    {
     "name": "stdout",
     "output_type": "stream",
     "text": [
      "__________________________________________________________________________________________________\n",
      "Layer (type)                    Output Shape         Param #     Connected to                     \n",
      "==================================================================================================\n",
      "app (InputLayer)                (None, 10)           0                                            \n",
      "__________________________________________________________________________________________________\n",
      "url (InputLayer)                (None, 16)           0                                            \n",
      "__________________________________________________________________________________________________\n",
      "dense_1 (Dense)                 (None, 10)           110         app[0][0]                        \n",
      "__________________________________________________________________________________________________\n",
      "dense_3 (Dense)                 (None, 16)           272         url[0][0]                        \n",
      "__________________________________________________________________________________________________\n",
      "dense_2 (Dense)                 (None, 8)            88          dense_1[0][0]                    \n",
      "__________________________________________________________________________________________________\n",
      "dense_4 (Dense)                 (None, 8)            136         dense_3[0][0]                    \n",
      "__________________________________________________________________________________________________\n",
      "concatenate_1 (Concatenate)     (None, 16)           0           dense_2[0][0]                    \n",
      "                                                                 dense_4[0][0]                    \n",
      "__________________________________________________________________________________________________\n",
      "dropout_1 (Dropout)             (None, 16)           0           concatenate_1[0][0]              \n",
      "__________________________________________________________________________________________________\n",
      "dense_5 (Dense)                 (None, 8)            136         dropout_1[0][0]                  \n",
      "__________________________________________________________________________________________________\n",
      "dense_6 (Dense)                 (None, 1)            9           dense_5[0][0]                    \n",
      "==================================================================================================\n",
      "Total params: 751\n",
      "Trainable params: 751\n",
      "Non-trainable params: 0\n",
      "__________________________________________________________________________________________________\n"
     ]
    }
   ],
   "source": [
    "#multi-modal MLP\n",
    "input1 = Input(shape=(num_features1,), name='app')\n",
    "x = Dense(num_features1, activation='relu', kernel_regularizer=regularizers.l2(weight_decay))(input1)\n",
    "x = Dense(8, activation='relu', kernel_regularizer=regularizers.l2(weight_decay))(x)\n",
    "\n",
    "input2 = Input(shape=(num_features2,), name='url')\n",
    "y = Dense(num_features2, activation='relu', kernel_regularizer=regularizers.l2(weight_decay))(input2)\n",
    "y = Dense(8, activation='relu', kernel_regularizer=regularizers.l2(weight_decay))(y)\n",
    "\n",
    "merged = concatenate([x, y], axis=-1)\n",
    "z = Dropout(dense_dropout)(merged)\n",
    "z = Dense(8, activation='relu', kernel_regularizer=regularizers.l2(weight_decay))(z)\n",
    "output = Dense(1, activation='sigmoid')(z)\n",
    "\n",
    "model=Model([input1, input2], output)\n",
    "adam = optimizers.Adam(lr=0.001, beta_1=0.9, beta_2=0.999, epsilon=1e-08, decay=0.0, clipnorm=1.0)\n",
    "model.compile(loss='binary_crossentropy', optimizer=adam, metrics=['accuracy'])\n",
    "model.summary()"
   ]
  },
  {
   "cell_type": "code",
   "execution_count": 14,
   "metadata": {},
   "outputs": [],
   "source": [
    "#define callbacks\n",
    "SAVE_PATH = \"./data\"\n",
    "file_name = SAVE_PATH + 'dnn-weights-checkpoint.h5'\n",
    "checkpoint = ModelCheckpoint(file_name, monitor='val_loss', verbose=1, save_best_only=True, mode='min')\n",
    "tensor_board = TensorBoard(log_dir='./logs', write_graph=True)\n",
    "hist_lr = LR_hist()\n",
    "reduce_lr = LearningRateScheduler(step_decay) \n",
    "early_stopping = EarlyStopping(monitor='val_loss', min_delta=0.01, patience=16, verbose=1)\n",
    "callbacks_list = [checkpoint, tensor_board, hist_lr, reduce_lr, early_stopping]"
   ]
  },
  {
   "cell_type": "code",
   "execution_count": 15,
   "metadata": {},
   "outputs": [
    {
     "name": "stdout",
     "output_type": "stream",
     "text": [
      "Train on 625 samples, validate on 70 samples\n"
     ]
    },
    {
     "name": "stderr",
     "output_type": "stream",
     "text": [
      "W0729 11:04:18.206488 24536 deprecation_wrapper.py:119] From C:\\Users\\t-vasmol.REDMOND\\AppData\\Local\\Continuum\\anaconda3\\envs\\vss\\lib\\site-packages\\keras\\callbacks.py:850: The name tf.summary.merge_all is deprecated. Please use tf.compat.v1.summary.merge_all instead.\n",
      "\n",
      "W0729 11:04:18.206488 24536 deprecation_wrapper.py:119] From C:\\Users\\t-vasmol.REDMOND\\AppData\\Local\\Continuum\\anaconda3\\envs\\vss\\lib\\site-packages\\keras\\callbacks.py:853: The name tf.summary.FileWriter is deprecated. Please use tf.compat.v1.summary.FileWriter instead.\n",
      "\n"
     ]
    },
    {
     "name": "stdout",
     "output_type": "stream",
     "text": [
      "Epoch 1/32\n",
      "625/625 [==============================] - ETA: 3s - loss: 2.8739 - acc: 0.593 - 0s 739us/step - loss: 2.0219 - acc: 0.6032 - val_loss: nan - val_acc: 0.6429\n",
      "\n",
      "Epoch 00001: val_loss did not improve from inf\n",
      "Epoch 2/32\n",
      "625/625 [==============================] - ETA: 0s - loss: 1.0940 - acc: 0.703 - 0s 35us/step - loss: 1.0863 - acc: 0.6784 - val_loss: nan - val_acc: 0.7714\n",
      "\n",
      "Epoch 00002: val_loss did not improve from inf\n",
      "Epoch 3/32\n",
      "625/625 [==============================] - ETA: 0s - loss: 0.7795 - acc: 0.750 - 0s 36us/step - loss: 0.6842 - acc: 0.7472 - val_loss: nan - val_acc: 0.8429\n",
      "\n",
      "Epoch 00003: val_loss did not improve from inf\n",
      "Epoch 4/32\n",
      "625/625 [==============================] - ETA: 0s - loss: 0.6643 - acc: 0.750 - 0s 48us/step - loss: 0.5993 - acc: 0.7328 - val_loss: nan - val_acc: 0.8857\n",
      "\n",
      "Epoch 00004: val_loss did not improve from inf\n",
      "Epoch 5/32\n",
      "625/625 [==============================] - ETA: 0s - loss: 0.5711 - acc: 0.734 - 0s 35us/step - loss: 0.5577 - acc: 0.7648 - val_loss: nan - val_acc: 0.8714\n",
      "\n",
      "Epoch 00005: val_loss did not improve from inf\n",
      "Epoch 6/32\n",
      "625/625 [==============================] - ETA: 0s - loss: 0.4873 - acc: 0.812 - 0s 40us/step - loss: 0.5340 - acc: 0.7760 - val_loss: nan - val_acc: 0.8714\n",
      "\n",
      "Epoch 00006: val_loss did not improve from inf\n",
      "Epoch 7/32\n",
      "625/625 [==============================] - ETA: 0s - loss: 0.4970 - acc: 0.750 - 0s 45us/step - loss: 0.5201 - acc: 0.7648 - val_loss: nan - val_acc: 0.8571\n",
      "\n",
      "Epoch 00007: val_loss did not improve from inf\n",
      "Epoch 8/32\n",
      "625/625 [==============================] - ETA: 0s - loss: 0.5453 - acc: 0.796 - 0s 40us/step - loss: 0.4653 - acc: 0.8256 - val_loss: nan - val_acc: 0.8571\n",
      "\n",
      "Epoch 00008: val_loss did not improve from inf\n",
      "Epoch 9/32\n",
      "625/625 [==============================] - ETA: 0s - loss: 0.4454 - acc: 0.843 - 0s 51us/step - loss: 0.4847 - acc: 0.8240 - val_loss: nan - val_acc: 0.8571\n",
      "\n",
      "Epoch 00009: val_loss did not improve from inf\n",
      "Epoch 10/32\n",
      "625/625 [==============================] - ETA: 0s - loss: 0.4709 - acc: 0.812 - 0s 45us/step - loss: 0.4677 - acc: 0.8320 - val_loss: nan - val_acc: 0.8571\n",
      "\n",
      "Epoch 00010: val_loss did not improve from inf\n",
      "Epoch 11/32\n",
      "625/625 [==============================] - ETA: 0s - loss: 0.4565 - acc: 0.765 - 0s 48us/step - loss: 0.4545 - acc: 0.8144 - val_loss: nan - val_acc: 0.8714\n",
      "\n",
      "Epoch 00011: val_loss did not improve from inf\n",
      "Epoch 12/32\n",
      "625/625 [==============================] - ETA: 0s - loss: 0.4537 - acc: 0.843 - 0s 48us/step - loss: 0.4584 - acc: 0.8352 - val_loss: nan - val_acc: 0.8714\n",
      "\n",
      "Epoch 00012: val_loss did not improve from inf\n",
      "Epoch 13/32\n",
      "625/625 [==============================] - ETA: 0s - loss: 0.4071 - acc: 0.828 - 0s 42us/step - loss: 0.4416 - acc: 0.8368 - val_loss: nan - val_acc: 0.8714\n",
      "\n",
      "Epoch 00013: val_loss did not improve from inf\n",
      "Epoch 14/32\n",
      "625/625 [==============================] - ETA: 0s - loss: 0.4197 - acc: 0.812 - 0s 48us/step - loss: 0.4201 - acc: 0.8352 - val_loss: nan - val_acc: 0.8714\n",
      "\n",
      "Epoch 00014: val_loss did not improve from inf\n",
      "Epoch 15/32\n",
      "625/625 [==============================] - ETA: 0s - loss: 0.4904 - acc: 0.843 - 0s 38us/step - loss: 0.4192 - acc: 0.8288 - val_loss: nan - val_acc: 0.8714\n",
      "\n",
      "Epoch 00015: val_loss did not improve from inf\n",
      "Epoch 16/32\n",
      "625/625 [==============================] - ETA: 0s - loss: 0.4532 - acc: 0.812 - 0s 38us/step - loss: 0.4301 - acc: 0.8512 - val_loss: nan - val_acc: 0.8714\n",
      "\n",
      "Epoch 00016: val_loss did not improve from inf\n",
      "Epoch 00016: early stopping\n"
     ]
    }
   ],
   "source": [
    "#hist = model.fit({'app': X1_train, 'url': X2_train}, y1_train, batch_size=batch_size, epochs=num_epochs, callbacks=callbacks_list, validation_data=({'app':X1_test, 'url':X2_test}, y1_test), shuffle=True, verbose=1)\n",
    "hist = model.fit([X1_train, X2_train], y1_train, batch_size=batch_size, epochs=num_epochs, callbacks=callbacks_list, validation_split=0.1, shuffle=True, verbose=1)"
   ]
  },
  {
   "cell_type": "code",
   "execution_count": 16,
   "metadata": {},
   "outputs": [
    {
     "data": {
      "image/png": "[encoded data removed]",
      "text/plain": [
       "<Figure size 432x288 with 1 Axes>"
      ]
     },
     "metadata": {
      "needs_background": "light"
     },
     "output_type": "display_data"
    }
   ],
   "source": [
    "#generate plots\n",
    "plt.figure()\n",
    "plt.plot(hist.history['loss'], c='b', lw=2.0, label='train')\n",
    "plt.plot(hist.history['val_loss'], c='r', lw=2.0, label='val')\n",
    "plt.title('Multi-Modal DNN model')\n",
    "plt.xlabel('Epochs')\n",
    "plt.ylabel('Cross-Entropy Loss')\n",
    "plt.legend(loc='upper right')\n",
    "plt.savefig('./figures/dnn_loss.png')"
   ]
  },
  {
   "cell_type": "code",
   "execution_count": 17,
   "metadata": {},
   "outputs": [
    {
     "data": {
      "image/png": "[encoded data removed]",
      "text/plain": [
       "<Figure size 432x288 with 1 Axes>"
      ]
     },
     "metadata": {
      "needs_background": "light"
     },
     "output_type": "display_data"
    }
   ],
   "source": [
    "plt.figure()\n",
    "plt.plot(hist.history['acc'], c='b', lw=2.0, label='train')\n",
    "plt.plot(hist.history['val_acc'], c='r', lw=2.0, label='val')\n",
    "plt.title('Multi-Modal DNN model')\n",
    "plt.xlabel('Epochs')\n",
    "plt.ylabel('Accuracy')\n",
    "plt.legend(loc='upper left')\n",
    "plt.savefig('./figures/dnn_acc.png')"
   ]
  },
  {
   "cell_type": "code",
   "execution_count": 18,
   "metadata": {
    "scrolled": true
   },
   "outputs": [
    {
     "data": {
      "image/png": "[encoded data removed]",
      "text/plain": [
       "<Figure size 432x288 with 1 Axes>"
      ]
     },
     "metadata": {
      "needs_background": "light"
     },
     "output_type": "display_data"
    }
   ],
   "source": [
    "plt.figure()\n",
    "plt.plot(hist_lr.lr, lw=2.0, label='learning rate')\n",
    "plt.title('Multi-Moodal DNN Model')\n",
    "plt.xlabel('Epochs')\n",
    "plt.ylabel('Learning Rate')\n",
    "plt.legend()\n",
    "plt.savefig('./figures/dnn_learning_rate.png')"
   ]
  },
  {
   "cell_type": "code",
   "execution_count": 19,
   "metadata": {},
   "outputs": [],
   "source": [
    "#plot_model(model, show_shapes=True, to_file='./figures/dnn_model.png')"
   ]
  },
  {
   "cell_type": "markdown",
   "metadata": {},
   "source": [
    "### References"
   ]
  },
  {
   "cell_type": "markdown",
   "metadata": {},
   "source": [
    "[1] Francois Chollet, \"Deep Learning with Python\", 2017 "
   ]
  }
 ],
 "metadata": {
  "kernelspec": {
   "display_name": "Python 3",
   "language": "python",
   "name": "python3"
  },
  "language_info": {
   "codemirror_mode": {
    "name": "ipython",
    "version": 3
   },
   "file_extension": ".py",
   "mimetype": "text/x-python",
   "name": "python",
   "nbconvert_exporter": "python",
   "pygments_lexer": "ipython3",
   "version": "3.6.8"
  }
 },
 "nbformat": 4,
 "nbformat_minor": 2
}
