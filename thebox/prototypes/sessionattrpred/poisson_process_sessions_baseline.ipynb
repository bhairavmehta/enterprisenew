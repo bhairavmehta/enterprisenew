{
 "cells": [
  {
   "cell_type": "markdown",
   "metadata": {},
   "source": [
    "## Poisson Process Sessions Baseline"
   ]
  },
  {
   "cell_type": "markdown",
   "metadata": {},
   "source": [
    "The goal of the notebook is to learn the rate of the Poisson Process (PP) in application to modeling user session length. In a Poisson Process [1], the inter-arrival times (session lengths) are assumed to be independent and identically distributed (iid) exponential random variables, while the number (or count) of events is distributed as a Poisson random variable:"
   ]
  },
  {
   "cell_type": "markdown",
   "metadata": {},
   "source": [
    "$$x_i \\sim \\mathrm{Exp}(\\lambda)= \\lambda \\exp\\{-\\lambda x\\}$$"
   ]
  },
  {
   "cell_type": "markdown",
   "metadata": {},
   "source": [
    "$$\\mathrm{Poiss}(k;\\lambda, t) = \\frac{(\\lambda t)^{k}}{k!}\\exp\\{-\\lambda t\\}$$"
   ]
  },
  {
   "cell_type": "code",
   "execution_count": 4,
   "metadata": {},
   "outputs": [
    {
     "data": {
      "image/png": "[encoded data removed]",
      "text/plain": [
       "<IPython.core.display.Image object>"
      ]
     },
     "execution_count": 4,
     "metadata": {},
     "output_type": "execute_result"
    }
   ],
   "source": [
    "from IPython.display import Image\n",
    "Image(\"figures/random_process.png\")"
   ]
  },
  {
   "cell_type": "markdown",
   "metadata": {},
   "source": [
    "The figure above shows the variable length session windows: $\\{x_1,...,x_k\\}$ of alternating switching process between (w)ork and (p)lay events. Given the training data, our goal is to learn the arrival rate $\\lambda$ that captures an average frequency of sessions. We can use Monte Carlo sampling methods and in particular PyMC3 library [2] to do that. Note: we can also look at non-homogenuous Poisson process where the arrival rate lambda is a function of time: $\\lambda(t)$"
   ]
  },
  {
   "cell_type": "code",
   "execution_count": 88,
   "metadata": {},
   "outputs": [],
   "source": [
    "%matplotlib inline\n",
    "import numpy as np\n",
    "import pandas as pd\n",
    "\n",
    "import seaborn as sns\n",
    "import matplotlib.pyplot as plt\n",
    "\n",
    "import keras\n",
    "from keras.models import load_model\n",
    "\n",
    "from tqdm import tqdm\n",
    "\n",
    "import warnings\n",
    "warnings.filterwarnings('ignore')"
   ]
  },
  {
   "cell_type": "code",
   "execution_count": 127,
   "metadata": {},
   "outputs": [
    {
     "name": "stdout",
     "output_type": "stream",
     "text": [
      "loading App data...\n"
     ]
    },
    {
     "data": {
      "text/html": [
       "<div>\n",
       "<style scoped>\n",
       "    .dataframe tbody tr th:only-of-type {\n",
       "        vertical-align: middle;\n",
       "    }\n",
       "\n",
       "    .dataframe tbody tr th {\n",
       "        vertical-align: top;\n",
       "    }\n",
       "\n",
       "    .dataframe thead th {\n",
       "        text-align: right;\n",
       "    }\n",
       "</style>\n",
       "<table border=\"1\" class=\"dataframe\">\n",
       "  <thead>\n",
       "    <tr style=\"text-align: right;\">\n",
       "      <th></th>\n",
       "      <th>DateTime</th>\n",
       "      <th>Process</th>\n",
       "      <th>Label</th>\n",
       "    </tr>\n",
       "  </thead>\n",
       "  <tbody>\n",
       "    <tr>\n",
       "      <th>0</th>\n",
       "      <td>2019-08-01 11:39:08.462313</td>\n",
       "      <td>System Idle Process</td>\n",
       "      <td>work</td>\n",
       "    </tr>\n",
       "    <tr>\n",
       "      <th>1</th>\n",
       "      <td>2019-08-01 11:39:08.479314</td>\n",
       "      <td>System</td>\n",
       "      <td>work</td>\n",
       "    </tr>\n",
       "    <tr>\n",
       "      <th>2</th>\n",
       "      <td>2019-08-01 11:39:08.517314</td>\n",
       "      <td>Secure System</td>\n",
       "      <td>work</td>\n",
       "    </tr>\n",
       "    <tr>\n",
       "      <th>3</th>\n",
       "      <td>2019-08-01 11:39:08.551314</td>\n",
       "      <td>Registry</td>\n",
       "      <td>work</td>\n",
       "    </tr>\n",
       "    <tr>\n",
       "      <th>4</th>\n",
       "      <td>2019-08-01 11:39:08.580315</td>\n",
       "      <td>smss.exe</td>\n",
       "      <td>work</td>\n",
       "    </tr>\n",
       "  </tbody>\n",
       "</table>\n",
       "</div>"
      ],
      "text/plain": [
       "                     DateTime              Process Label\n",
       "0  2019-08-01 11:39:08.462313  System Idle Process  work\n",
       "1  2019-08-01 11:39:08.479314               System  work\n",
       "2  2019-08-01 11:39:08.517314        Secure System  work\n",
       "3  2019-08-01 11:39:08.551314             Registry  work\n",
       "4  2019-08-01 11:39:08.580315             smss.exe  work"
      ]
     },
     "execution_count": 127,
     "metadata": {},
     "output_type": "execute_result"
    }
   ],
   "source": [
    "#load data\n",
    "print(\"loading App data...\")\n",
    "train_df = pd.read_csv('./data/AppResult.csv', sep=',')\n",
    "train_df.head()"
   ]
  },
  {
   "cell_type": "markdown",
   "metadata": {},
   "source": [
    "Let's convert start and end times to pandas datetime:"
   ]
  },
  {
   "cell_type": "code",
   "execution_count": 27,
   "metadata": {},
   "outputs": [
    {
     "name": "stdout",
     "output_type": "stream",
     "text": [
      "<class 'pandas.core.frame.DataFrame'>\n",
      "RangeIndex: 1604 entries, 0 to 1603\n",
      "Data columns (total 3 columns):\n",
      "Start      1604 non-null datetime64[ns]\n",
      "Process    1604 non-null object\n",
      "Label      1604 non-null object\n",
      "dtypes: datetime64[ns](1), object(2)\n",
      "memory usage: 37.7+ KB\n"
     ]
    }
   ],
   "source": [
    "train_df['DateTime'] = pd.to_datetime(train_df['DateTime'])\n",
    "train_df.columns = ['Start', 'Process', 'Label']\n",
    "train_df.info()"
   ]
  },
  {
   "cell_type": "code",
   "execution_count": 28,
   "metadata": {},
   "outputs": [
    {
     "data": {
      "text/html": [
       "<div>\n",
       "<style scoped>\n",
       "    .dataframe tbody tr th:only-of-type {\n",
       "        vertical-align: middle;\n",
       "    }\n",
       "\n",
       "    .dataframe tbody tr th {\n",
       "        vertical-align: top;\n",
       "    }\n",
       "\n",
       "    .dataframe thead th {\n",
       "        text-align: right;\n",
       "    }\n",
       "</style>\n",
       "<table border=\"1\" class=\"dataframe\">\n",
       "  <thead>\n",
       "    <tr style=\"text-align: right;\">\n",
       "      <th></th>\n",
       "      <th>Start</th>\n",
       "      <th>Process</th>\n",
       "      <th>Label</th>\n",
       "    </tr>\n",
       "  </thead>\n",
       "  <tbody>\n",
       "    <tr>\n",
       "      <th>0</th>\n",
       "      <td>2019-08-01 11:39:08.462313</td>\n",
       "      <td>System Idle Process</td>\n",
       "      <td>work</td>\n",
       "    </tr>\n",
       "    <tr>\n",
       "      <th>1</th>\n",
       "      <td>2019-08-01 11:39:08.479314</td>\n",
       "      <td>System</td>\n",
       "      <td>work</td>\n",
       "    </tr>\n",
       "    <tr>\n",
       "      <th>2</th>\n",
       "      <td>2019-08-01 11:39:08.517314</td>\n",
       "      <td>Secure System</td>\n",
       "      <td>work</td>\n",
       "    </tr>\n",
       "    <tr>\n",
       "      <th>3</th>\n",
       "      <td>2019-08-01 11:39:08.551314</td>\n",
       "      <td>Registry</td>\n",
       "      <td>work</td>\n",
       "    </tr>\n",
       "    <tr>\n",
       "      <th>4</th>\n",
       "      <td>2019-08-01 11:39:08.580315</td>\n",
       "      <td>smss.exe</td>\n",
       "      <td>work</td>\n",
       "    </tr>\n",
       "  </tbody>\n",
       "</table>\n",
       "</div>"
      ],
      "text/plain": [
       "                       Start              Process Label\n",
       "0 2019-08-01 11:39:08.462313  System Idle Process  work\n",
       "1 2019-08-01 11:39:08.479314               System  work\n",
       "2 2019-08-01 11:39:08.517314        Secure System  work\n",
       "3 2019-08-01 11:39:08.551314             Registry  work\n",
       "4 2019-08-01 11:39:08.580315             smss.exe  work"
      ]
     },
     "execution_count": 28,
     "metadata": {},
     "output_type": "execute_result"
    }
   ],
   "source": [
    "train_df.head()"
   ]
  },
  {
   "cell_type": "markdown",
   "metadata": {},
   "source": [
    "Let's compute time intervals between activity start times and a maximum likelihood estimate for lambda: $\\lambda = \\frac{1}{E[X_i]} = \\frac{1}{ \\frac{1}{n}\\sum_{i=1}^{n}x_i}$"
   ]
  },
  {
   "cell_type": "code",
   "execution_count": 29,
   "metadata": {},
   "outputs": [],
   "source": [
    "train_df['delta'] = train_df['Start'].shift(-1) - train_df['Start']\n",
    "train_df['delta_microsec'] = list(map(lambda x: x.microseconds, train_df['delta']))\n",
    "train_df['lambda_mle_mhz'] = 1.0 / (train_df['delta_microsec'].cumsum() / (train_df['delta_microsec'].index.values+1))\n",
    "train_df['activity_cnt'] = np.arange(1,train_df.shape[0]+1)"
   ]
  },
  {
   "cell_type": "code",
   "execution_count": 30,
   "metadata": {},
   "outputs": [
    {
     "data": {
      "text/html": [
       "<div>\n",
       "<style scoped>\n",
       "    .dataframe tbody tr th:only-of-type {\n",
       "        vertical-align: middle;\n",
       "    }\n",
       "\n",
       "    .dataframe tbody tr th {\n",
       "        vertical-align: top;\n",
       "    }\n",
       "\n",
       "    .dataframe thead th {\n",
       "        text-align: right;\n",
       "    }\n",
       "</style>\n",
       "<table border=\"1\" class=\"dataframe\">\n",
       "  <thead>\n",
       "    <tr style=\"text-align: right;\">\n",
       "      <th></th>\n",
       "      <th>Start</th>\n",
       "      <th>Process</th>\n",
       "      <th>Label</th>\n",
       "      <th>delta</th>\n",
       "      <th>delta_microsec</th>\n",
       "      <th>lambda_mle_mhz</th>\n",
       "      <th>activity_cnt</th>\n",
       "    </tr>\n",
       "  </thead>\n",
       "  <tbody>\n",
       "    <tr>\n",
       "      <th>0</th>\n",
       "      <td>2019-08-01 11:39:08.462313</td>\n",
       "      <td>System Idle Process</td>\n",
       "      <td>work</td>\n",
       "      <td>00:00:00.017001</td>\n",
       "      <td>17001.0</td>\n",
       "      <td>0.000059</td>\n",
       "      <td>1</td>\n",
       "    </tr>\n",
       "    <tr>\n",
       "      <th>1</th>\n",
       "      <td>2019-08-01 11:39:08.479314</td>\n",
       "      <td>System</td>\n",
       "      <td>work</td>\n",
       "      <td>00:00:00.038000</td>\n",
       "      <td>38000.0</td>\n",
       "      <td>0.000036</td>\n",
       "      <td>2</td>\n",
       "    </tr>\n",
       "    <tr>\n",
       "      <th>2</th>\n",
       "      <td>2019-08-01 11:39:08.517314</td>\n",
       "      <td>Secure System</td>\n",
       "      <td>work</td>\n",
       "      <td>00:00:00.034000</td>\n",
       "      <td>34000.0</td>\n",
       "      <td>0.000034</td>\n",
       "      <td>3</td>\n",
       "    </tr>\n",
       "    <tr>\n",
       "      <th>3</th>\n",
       "      <td>2019-08-01 11:39:08.551314</td>\n",
       "      <td>Registry</td>\n",
       "      <td>work</td>\n",
       "      <td>00:00:00.029001</td>\n",
       "      <td>29001.0</td>\n",
       "      <td>0.000034</td>\n",
       "      <td>4</td>\n",
       "    </tr>\n",
       "    <tr>\n",
       "      <th>4</th>\n",
       "      <td>2019-08-01 11:39:08.580315</td>\n",
       "      <td>smss.exe</td>\n",
       "      <td>work</td>\n",
       "      <td>00:00:00.019001</td>\n",
       "      <td>19001.0</td>\n",
       "      <td>0.000036</td>\n",
       "      <td>5</td>\n",
       "    </tr>\n",
       "  </tbody>\n",
       "</table>\n",
       "</div>"
      ],
      "text/plain": [
       "                       Start              Process Label           delta  \\\n",
       "0 2019-08-01 11:39:08.462313  System Idle Process  work 00:00:00.017001   \n",
       "1 2019-08-01 11:39:08.479314               System  work 00:00:00.038000   \n",
       "2 2019-08-01 11:39:08.517314        Secure System  work 00:00:00.034000   \n",
       "3 2019-08-01 11:39:08.551314             Registry  work 00:00:00.029001   \n",
       "4 2019-08-01 11:39:08.580315             smss.exe  work 00:00:00.019001   \n",
       "\n",
       "   delta_microsec  lambda_mle_mhz  activity_cnt  \n",
       "0         17001.0        0.000059             1  \n",
       "1         38000.0        0.000036             2  \n",
       "2         34000.0        0.000034             3  \n",
       "3         29001.0        0.000034             4  \n",
       "4         19001.0        0.000036             5  "
      ]
     },
     "execution_count": 30,
     "metadata": {},
     "output_type": "execute_result"
    }
   ],
   "source": [
    "train_df.head()"
   ]
  },
  {
   "cell_type": "code",
   "execution_count": 36,
   "metadata": {},
   "outputs": [
    {
     "data": {
      "text/plain": [
       "<matplotlib.legend.Legend at 0x206f0e20630>"
      ]
     },
     "execution_count": 36,
     "metadata": {},
     "output_type": "execute_result"
    },
    {
     "data": {
      "image/png": "[encoded data removed]",
      "text/plain": [
       "<Figure size 432x288 with 1 Axes>"
      ]
     },
     "metadata": {
      "needs_background": "light"
     },
     "output_type": "display_data"
    }
   ],
   "source": [
    "plt.plot(train_df['delta_microsec'].cumsum(), train_df['activity_cnt'], label='Apps Dataset')\n",
    "plt.xlabel(\"event time, microsec\"); plt.ylabel(\"event count\"); plt.grid(True); plt.title(\"Poisson Arrival Process\"); plt.legend()"
   ]
  },
  {
   "cell_type": "code",
   "execution_count": 37,
   "metadata": {},
   "outputs": [
    {
     "data": {
      "text/plain": [
       "<matplotlib.legend.Legend at 0x206f1e7efd0>"
      ]
     },
     "execution_count": 37,
     "metadata": {},
     "output_type": "execute_result"
    },
    {
     "data": {
      "image/png": "[encoded data removed]",
      "text/plain": [
       "<Figure size 432x288 with 1 Axes>"
      ]
     },
     "metadata": {
      "needs_background": "light"
     },
     "output_type": "display_data"
    }
   ],
   "source": [
    "plt.plot(train_df['lambda_mle_mhz'], label='lambda estimate, MHz')\n",
    "plt.xlabel(\"events\"); plt.ylabel(\"$\\lambda_{MLE}$, MHz\"); plt.grid(True); plt.title(\"Poisson Arrival Rate\"); plt.legend()"
   ]
  },
  {
   "cell_type": "markdown",
   "metadata": {},
   "source": [
    "Let's define session window length equal to ($mode - 0.5\\times \\sigma$) where sigma is one standard deviation:"
   ]
  },
  {
   "cell_type": "code",
   "execution_count": 115,
   "metadata": {},
   "outputs": [
    {
     "name": "stdout",
     "output_type": "stream",
     "text": [
      "fix session length at [microsec]:  [9102.23316605]\n"
     ]
    }
   ],
   "source": [
    "session_len = (train_df['delta_microsec'].dropna().mode() - 0.5*train_df['delta_microsec'].dropna().std()).values\n",
    "print(\"fix session length at [microsec]: \", session_len)"
   ]
  },
  {
   "cell_type": "code",
   "execution_count": 116,
   "metadata": {},
   "outputs": [
    {
     "data": {
      "text/plain": [
       "<matplotlib.legend.Legend at 0x206f223bf60>"
      ]
     },
     "execution_count": 116,
     "metadata": {},
     "output_type": "execute_result"
    },
    {
     "data": {
      "image/png": "[encoded data removed]",
      "text/plain": [
       "<Figure size 432x288 with 1 Axes>"
      ]
     },
     "metadata": {
      "needs_background": "light"
     },
     "output_type": "display_data"
    }
   ],
   "source": [
    "sns.distplot(train_df['delta_microsec'].dropna(), kde=False); plt.xlim([0, 150000]);\n",
    "plt.title(\"Histogram of User Session Lengths\"); plt.ylabel(\"count\"); plt.grid(True);\n",
    "plt.axvline(x=session_len, c='r', label='fixed session length, microsec')\n",
    "plt.legend()"
   ]
  },
  {
   "cell_type": "code",
   "execution_count": 117,
   "metadata": {},
   "outputs": [],
   "source": [
    "session_df = pd.DataFrame(data={'time_microsec':[0.0], 'session':['work'], 'counter':[0]})\n",
    "\n",
    "row_cnt = 1\n",
    "current_time = 0\n",
    "num_sessions = train_df.shape[0]\n",
    "for i in range(1, num_sessions):\n",
    "    remaining_time = train_df.loc[i,'delta_microsec']\n",
    "    current_session = train_df.loc[i,'Label']\n",
    "    while (remaining_time >= 0):\n",
    "        current_time += session_len\n",
    "        remaining_time = remaining_time - session_len\n",
    "        session_df.loc[row_cnt, 'time_microsec'] = current_time\n",
    "        session_df.loc[row_cnt, 'session'] = current_session\n",
    "        if (current_session == 'work'):\n",
    "            session_df.loc[row_cnt, 'counter'] = session_df.loc[row_cnt-1, 'counter'] + 1\n",
    "        else:\n",
    "            session_df.loc[row_cnt, 'counter'] = session_df.loc[row_cnt-1, 'counter'] - 1\n",
    "        row_cnt+=1\n",
    "    #end while\n",
    "#end for"
   ]
  },
  {
   "cell_type": "code",
   "execution_count": 118,
   "metadata": {},
   "outputs": [
    {
     "data": {
      "text/html": [
       "<div>\n",
       "<style scoped>\n",
       "    .dataframe tbody tr th:only-of-type {\n",
       "        vertical-align: middle;\n",
       "    }\n",
       "\n",
       "    .dataframe tbody tr th {\n",
       "        vertical-align: top;\n",
       "    }\n",
       "\n",
       "    .dataframe thead th {\n",
       "        text-align: right;\n",
       "    }\n",
       "</style>\n",
       "<table border=\"1\" class=\"dataframe\">\n",
       "  <thead>\n",
       "    <tr style=\"text-align: right;\">\n",
       "      <th></th>\n",
       "      <th>time_microsec</th>\n",
       "      <th>session</th>\n",
       "      <th>counter</th>\n",
       "    </tr>\n",
       "  </thead>\n",
       "  <tbody>\n",
       "    <tr>\n",
       "      <th>0</th>\n",
       "      <td>0.000000</td>\n",
       "      <td>work</td>\n",
       "      <td>0.0</td>\n",
       "    </tr>\n",
       "    <tr>\n",
       "      <th>1</th>\n",
       "      <td>9102.233166</td>\n",
       "      <td>work</td>\n",
       "      <td>1.0</td>\n",
       "    </tr>\n",
       "    <tr>\n",
       "      <th>2</th>\n",
       "      <td>18204.466332</td>\n",
       "      <td>work</td>\n",
       "      <td>2.0</td>\n",
       "    </tr>\n",
       "    <tr>\n",
       "      <th>3</th>\n",
       "      <td>27306.699498</td>\n",
       "      <td>work</td>\n",
       "      <td>3.0</td>\n",
       "    </tr>\n",
       "    <tr>\n",
       "      <th>4</th>\n",
       "      <td>36408.932664</td>\n",
       "      <td>work</td>\n",
       "      <td>4.0</td>\n",
       "    </tr>\n",
       "  </tbody>\n",
       "</table>\n",
       "</div>"
      ],
      "text/plain": [
       "   time_microsec session  counter\n",
       "0       0.000000    work      0.0\n",
       "1    9102.233166    work      1.0\n",
       "2   18204.466332    work      2.0\n",
       "3   27306.699498    work      3.0\n",
       "4   36408.932664    work      4.0"
      ]
     },
     "execution_count": 118,
     "metadata": {},
     "output_type": "execute_result"
    }
   ],
   "source": [
    "session_df.head()"
   ]
  },
  {
   "cell_type": "code",
   "execution_count": 119,
   "metadata": {},
   "outputs": [
    {
     "data": {
      "text/plain": [
       "(6495, 3)"
      ]
     },
     "execution_count": 119,
     "metadata": {},
     "output_type": "execute_result"
    }
   ],
   "source": [
    "session_df.shape"
   ]
  },
  {
   "cell_type": "code",
   "execution_count": 120,
   "metadata": {},
   "outputs": [
    {
     "data": {
      "text/plain": [
       "<matplotlib.legend.Legend at 0x206f4d0d518>"
      ]
     },
     "execution_count": 120,
     "metadata": {},
     "output_type": "execute_result"
    },
    {
     "data": {
      "image/png": "[encoded data removed]",
      "text/plain": [
       "<Figure size 432x288 with 1 Axes>"
      ]
     },
     "metadata": {
      "needs_background": "light"
     },
     "output_type": "display_data"
    }
   ],
   "source": [
    "plt.plot(session_df['time_microsec'].values, session_df['counter'].values, label='user session scenario')\n",
    "plt.title(\"User Session Scenario\"); plt.xlabel(\"time, microseconds\"); plt.ylabel(\"work / play count\");\n",
    "plt.grid(True); plt.legend()"
   ]
  },
  {
   "cell_type": "code",
   "execution_count": 85,
   "metadata": {},
   "outputs": [
    {
     "data": {
      "text/plain": [
       "0          17001.0\n",
       "1          55001.0\n",
       "2          89001.0\n",
       "3         118002.0\n",
       "4         137003.0\n",
       "5         170002.0\n",
       "6         196002.0\n",
       "7         227002.0\n",
       "8         261001.0\n",
       "9         284001.0\n",
       "10        308001.0\n",
       "11        339002.0\n",
       "12        366002.0\n",
       "13        390001.0\n",
       "14        417003.0\n",
       "15        443001.0\n",
       "16        470002.0\n",
       "17        494002.0\n",
       "18        521002.0\n",
       "19        546002.0\n",
       "20        579000.0\n",
       "21        603001.0\n",
       "22        628000.0\n",
       "23        655001.0\n",
       "24        682002.0\n",
       "25        706002.0\n",
       "26        736002.0\n",
       "27        761001.0\n",
       "28        786003.0\n",
       "29        813999.0\n",
       "           ...    \n",
       "1574    51504071.0\n",
       "1575    51519078.0\n",
       "1576    51541086.0\n",
       "1577    51561089.0\n",
       "1578    51579076.0\n",
       "1579    51594067.0\n",
       "1580    51612069.0\n",
       "1581    51633071.0\n",
       "1582    51650067.0\n",
       "1583    51668070.0\n",
       "1584    51688071.0\n",
       "1585    51708067.0\n",
       "1586    51724076.0\n",
       "1587    51747068.0\n",
       "1588    51764077.0\n",
       "1589    51782071.0\n",
       "1590    51804077.0\n",
       "1591    51825088.0\n",
       "1592    51841065.0\n",
       "1593    51865085.0\n",
       "1594    51885081.0\n",
       "1595    51901068.0\n",
       "1596    51924080.0\n",
       "1597    51944075.0\n",
       "1598    51963065.0\n",
       "1599    51985070.0\n",
       "1600    52006072.0\n",
       "1601    52024063.0\n",
       "1602    52049084.0\n",
       "1603           NaN\n",
       "Name: delta_microsec, Length: 1604, dtype: float64"
      ]
     },
     "execution_count": 85,
     "metadata": {},
     "output_type": "execute_result"
    }
   ],
   "source": [
    "train_df['delta_microsec'].cumsum()"
   ]
  },
  {
   "cell_type": "code",
   "execution_count": 84,
   "metadata": {},
   "outputs": [
    {
     "data": {
      "text/html": [
       "<div>\n",
       "<style scoped>\n",
       "    .dataframe tbody tr th:only-of-type {\n",
       "        vertical-align: middle;\n",
       "    }\n",
       "\n",
       "    .dataframe tbody tr th {\n",
       "        vertical-align: top;\n",
       "    }\n",
       "\n",
       "    .dataframe thead th {\n",
       "        text-align: right;\n",
       "    }\n",
       "</style>\n",
       "<table border=\"1\" class=\"dataframe\">\n",
       "  <thead>\n",
       "    <tr style=\"text-align: right;\">\n",
       "      <th></th>\n",
       "      <th>time</th>\n",
       "      <th>session</th>\n",
       "    </tr>\n",
       "  </thead>\n",
       "  <tbody>\n",
       "    <tr>\n",
       "      <th>0</th>\n",
       "      <td>0.0</td>\n",
       "      <td>work</td>\n",
       "    </tr>\n",
       "  </tbody>\n",
       "</table>\n",
       "</div>"
      ],
      "text/plain": [
       "   time session\n",
       "0   0.0    work"
      ]
     },
     "execution_count": 84,
     "metadata": {},
     "output_type": "execute_result"
    }
   ],
   "source": [
    "session_df.head()"
   ]
  },
  {
   "cell_type": "markdown",
   "metadata": {},
   "source": [
    "### References"
   ]
  },
  {
   "cell_type": "code",
   "execution_count": null,
   "metadata": {},
   "outputs": [],
   "source": []
  },
  {
   "cell_type": "markdown",
   "metadata": {},
   "source": [
    "[1] J. Kingman, \"Poisson Processes\", Oxford Studies in Probability, Clarendon Press, 1993  \n",
    "[2] A. Patil et al. PyMC: Bayesian Stochastic Modelling in Python, Journal of Statistical Software, 2010"
   ]
  }
 ],
 "metadata": {
  "kernelspec": {
   "display_name": "Python 3",
   "language": "python",
   "name": "python3"
  },
  "language_info": {
   "codemirror_mode": {
    "name": "ipython",
    "version": 3
   },
   "file_extension": ".py",
   "mimetype": "text/x-python",
   "name": "python",
   "nbconvert_exporter": "python",
   "pygments_lexer": "ipython3",
   "version": "3.6.8"
  }
 },
 "nbformat": 4,
 "nbformat_minor": 2
}
