{
 "cells": [
  {
   "cell_type": "markdown",
   "metadata": {},
   "source": [
    "## Data Exploration"
   ]
  },
  {
   "cell_type": "markdown",
   "metadata": {},
   "source": [
    "The goal of this notebook is to explore and prepare for training URL and Apps datasets."
   ]
  },
  {
   "cell_type": "code",
   "execution_count": 43,
   "metadata": {},
   "outputs": [],
   "source": [
    "import numpy as np\n",
    "import pandas as pd\n",
    "import seaborn as sns\n",
    "import matplotlib.pyplot as plt\n",
    "\n",
    "from collections import Counter\n",
    "from nltk.corpus import stopwords\n",
    "from nltk.tokenize import RegexpTokenizer \n",
    "\n",
    "import warnings\n",
    "warnings.filterwarnings('ignore')"
   ]
  },
  {
   "cell_type": "code",
   "execution_count": 59,
   "metadata": {},
   "outputs": [
    {
     "data": {
      "text/html": [
       "<div>\n",
       "<style scoped>\n",
       "    .dataframe tbody tr th:only-of-type {\n",
       "        vertical-align: middle;\n",
       "    }\n",
       "\n",
       "    .dataframe tbody tr th {\n",
       "        vertical-align: top;\n",
       "    }\n",
       "\n",
       "    .dataframe thead th {\n",
       "        text-align: right;\n",
       "    }\n",
       "</style>\n",
       "<table border=\"1\" class=\"dataframe\">\n",
       "  <thead>\n",
       "    <tr style=\"text-align: right;\">\n",
       "      <th></th>\n",
       "      <th>index</th>\n",
       "      <th>url</th>\n",
       "      <th>category</th>\n",
       "    </tr>\n",
       "  </thead>\n",
       "  <tbody>\n",
       "    <tr>\n",
       "      <th>0</th>\n",
       "      <td>1</td>\n",
       "      <td>http://www.liquidgeneration.com/</td>\n",
       "      <td>Adult</td>\n",
       "    </tr>\n",
       "    <tr>\n",
       "      <th>1</th>\n",
       "      <td>2</td>\n",
       "      <td>http://www.onlineanime.org/</td>\n",
       "      <td>Adult</td>\n",
       "    </tr>\n",
       "    <tr>\n",
       "      <th>2</th>\n",
       "      <td>3</td>\n",
       "      <td>http://www.ceres.dti.ne.jp/~nekoi/senno/senfir...</td>\n",
       "      <td>Adult</td>\n",
       "    </tr>\n",
       "    <tr>\n",
       "      <th>3</th>\n",
       "      <td>4</td>\n",
       "      <td>http://www.galeon.com/kmh/</td>\n",
       "      <td>Adult</td>\n",
       "    </tr>\n",
       "    <tr>\n",
       "      <th>4</th>\n",
       "      <td>5</td>\n",
       "      <td>http://www.fanworkrecs.com/</td>\n",
       "      <td>Adult</td>\n",
       "    </tr>\n",
       "  </tbody>\n",
       "</table>\n",
       "</div>"
      ],
      "text/plain": [
       "   index                                                url category\n",
       "0      1                   http://www.liquidgeneration.com/    Adult\n",
       "1      2                        http://www.onlineanime.org/    Adult\n",
       "2      3  http://www.ceres.dti.ne.jp/~nekoi/senno/senfir...    Adult\n",
       "3      4                         http://www.galeon.com/kmh/    Adult\n",
       "4      5                        http://www.fanworkrecs.com/    Adult"
      ]
     },
     "execution_count": 59,
     "metadata": {},
     "output_type": "execute_result"
    }
   ],
   "source": [
    "url_df = pd.read_csv(\"./data/URL.csv\", header=None)\n",
    "url_df.columns = ['index', 'url', 'category']\n",
    "url_df.dropna(inplace=True)\n",
    "url_df.head()"
   ]
  },
  {
   "cell_type": "code",
   "execution_count": 60,
   "metadata": {},
   "outputs": [
    {
     "name": "stdout",
     "output_type": "stream",
     "text": [
      "<class 'pandas.core.frame.DataFrame'>\n",
      "Int64Index: 1562975 entries, 0 to 1562977\n",
      "Data columns (total 3 columns):\n",
      "index       1562975 non-null int64\n",
      "url         1562975 non-null object\n",
      "category    1562975 non-null object\n",
      "dtypes: int64(1), object(2)\n",
      "memory usage: 47.7+ MB\n"
     ]
    }
   ],
   "source": [
    "url_df.info()"
   ]
  },
  {
   "cell_type": "code",
   "execution_count": 97,
   "metadata": {},
   "outputs": [
    {
     "data": {
      "text/plain": [
       "(1562975, 5)"
      ]
     },
     "execution_count": 97,
     "metadata": {},
     "output_type": "execute_result"
    }
   ],
   "source": [
    "url_df.shape"
   ]
  },
  {
   "cell_type": "code",
   "execution_count": 114,
   "metadata": {},
   "outputs": [
    {
     "data": {
      "text/plain": [
       "([<matplotlib.axis.XTick at 0x15eaa5b5518>,\n",
       "  <matplotlib.axis.XTick at 0x15eaa601e10>,\n",
       "  <matplotlib.axis.XTick at 0x15eaa601b38>,\n",
       "  <matplotlib.axis.XTick at 0x15eaa4fa3c8>,\n",
       "  <matplotlib.axis.XTick at 0x15eaa4fa860>,\n",
       "  <matplotlib.axis.XTick at 0x15eaa4fada0>,\n",
       "  <matplotlib.axis.XTick at 0x15eaa4ecba8>,\n",
       "  <matplotlib.axis.XTick at 0x15eaa4ecc88>,\n",
       "  <matplotlib.axis.XTick at 0x15eaa4ec208>,\n",
       "  <matplotlib.axis.XTick at 0x15eaa4e26d8>,\n",
       "  <matplotlib.axis.XTick at 0x15eaa4e2da0>,\n",
       "  <matplotlib.axis.XTick at 0x15eaa4e2160>,\n",
       "  <matplotlib.axis.XTick at 0x15eaa4e2080>,\n",
       "  <matplotlib.axis.XTick at 0x15eaa4ecc50>,\n",
       "  <matplotlib.axis.XTick at 0x15eaa4d5f28>],\n",
       " <a list of 15 Text xticklabel objects>)"
      ]
     },
     "execution_count": 114,
     "metadata": {},
     "output_type": "execute_result"
    },
    {
     "data": {
      "image/png": "[encoded data removed]",
      "text/plain": [
       "<Figure size 432x288 with 1 Axes>"
      ]
     },
     "metadata": {
      "needs_background": "light"
     },
     "output_type": "display_data"
    }
   ],
   "source": [
    "cnt = Counter(url_df['category'])\n",
    "idx = range(len(cnt))\n",
    "barlist = plt.bar(idx, cnt.values())\n",
    "barlist[2].set_color('r') #legend: red (work), blue (play)\n",
    "barlist[3].set_color('r')\n",
    "barlist[5].set_color('r')\n",
    "barlist[6].set_color('r')\n",
    "barlist[10].set_color('r')\n",
    "barlist[11].set_color('r')\n",
    "barlist[13].set_color('r')\n",
    "plt.xticks(idx, cnt.keys(), rotation=90)"
   ]
  },
  {
   "cell_type": "code",
   "execution_count": 90,
   "metadata": {},
   "outputs": [],
   "source": [
    "tokenizer = RegexpTokenizer(r'[a-zA-Z]+')\n",
    "stop_words = set(stopwords.words('english'))\n",
    "stop_words.update(['http', 'https', 'www', 'com', 'html', 'org', 'ru', 'jp', 'uk', 'ca', '//'])"
   ]
  },
  {
   "cell_type": "code",
   "execution_count": 91,
   "metadata": {},
   "outputs": [
    {
     "data": {
      "text/plain": [
       "['http',\n",
       " 'www',\n",
       " 'ceres',\n",
       " 'dti',\n",
       " 'ne',\n",
       " 'jp',\n",
       " 'nekoi',\n",
       " 'senno',\n",
       " 'senfirst',\n",
       " 'html']"
      ]
     },
     "execution_count": 91,
     "metadata": {},
     "output_type": "execute_result"
    }
   ],
   "source": [
    "tokens = tokenizer.tokenize(url_df.loc[2,'url'])\n",
    "tokens"
   ]
  },
  {
   "cell_type": "markdown",
   "metadata": {},
   "source": [
    "Let's tokenize the URLs using the NLTK RegEx tokenizer and remove common stop words:"
   ]
  },
  {
   "cell_type": "code",
   "execution_count": 69,
   "metadata": {},
   "outputs": [
    {
     "data": {
      "text/html": [
       "<div>\n",
       "<style scoped>\n",
       "    .dataframe tbody tr th:only-of-type {\n",
       "        vertical-align: middle;\n",
       "    }\n",
       "\n",
       "    .dataframe tbody tr th {\n",
       "        vertical-align: top;\n",
       "    }\n",
       "\n",
       "    .dataframe thead th {\n",
       "        text-align: right;\n",
       "    }\n",
       "</style>\n",
       "<table border=\"1\" class=\"dataframe\">\n",
       "  <thead>\n",
       "    <tr style=\"text-align: right;\">\n",
       "      <th></th>\n",
       "      <th>index</th>\n",
       "      <th>url</th>\n",
       "      <th>category</th>\n",
       "      <th>url_tokens</th>\n",
       "      <th>url_tokens_filtered</th>\n",
       "    </tr>\n",
       "  </thead>\n",
       "  <tbody>\n",
       "    <tr>\n",
       "      <th>0</th>\n",
       "      <td>1</td>\n",
       "      <td>http://www.liquidgeneration.com/</td>\n",
       "      <td>Adult</td>\n",
       "      <td>[http, www, liquidgeneration, com]</td>\n",
       "      <td>[liquidgeneration]</td>\n",
       "    </tr>\n",
       "    <tr>\n",
       "      <th>1</th>\n",
       "      <td>2</td>\n",
       "      <td>http://www.onlineanime.org/</td>\n",
       "      <td>Adult</td>\n",
       "      <td>[http, www, onlineanime, org]</td>\n",
       "      <td>[onlineanime]</td>\n",
       "    </tr>\n",
       "    <tr>\n",
       "      <th>2</th>\n",
       "      <td>3</td>\n",
       "      <td>http://www.ceres.dti.ne.jp/~nekoi/senno/senfir...</td>\n",
       "      <td>Adult</td>\n",
       "      <td>[http, www, ceres, dti, ne, jp, nekoi, senno, ...</td>\n",
       "      <td>[ceres, dti, ne, nekoi, senno, senfirst]</td>\n",
       "    </tr>\n",
       "    <tr>\n",
       "      <th>3</th>\n",
       "      <td>4</td>\n",
       "      <td>http://www.galeon.com/kmh/</td>\n",
       "      <td>Adult</td>\n",
       "      <td>[http, www, galeon, com, kmh]</td>\n",
       "      <td>[galeon, kmh]</td>\n",
       "    </tr>\n",
       "    <tr>\n",
       "      <th>4</th>\n",
       "      <td>5</td>\n",
       "      <td>http://www.fanworkrecs.com/</td>\n",
       "      <td>Adult</td>\n",
       "      <td>[http, www, fanworkrecs, com]</td>\n",
       "      <td>[fanworkrecs]</td>\n",
       "    </tr>\n",
       "  </tbody>\n",
       "</table>\n",
       "</div>"
      ],
      "text/plain": [
       "   index                                                url category  \\\n",
       "0      1                   http://www.liquidgeneration.com/    Adult   \n",
       "1      2                        http://www.onlineanime.org/    Adult   \n",
       "2      3  http://www.ceres.dti.ne.jp/~nekoi/senno/senfir...    Adult   \n",
       "3      4                         http://www.galeon.com/kmh/    Adult   \n",
       "4      5                        http://www.fanworkrecs.com/    Adult   \n",
       "\n",
       "                                          url_tokens  \\\n",
       "0                 [http, www, liquidgeneration, com]   \n",
       "1                      [http, www, onlineanime, org]   \n",
       "2  [http, www, ceres, dti, ne, jp, nekoi, senno, ...   \n",
       "3                      [http, www, galeon, com, kmh]   \n",
       "4                      [http, www, fanworkrecs, com]   \n",
       "\n",
       "                        url_tokens_filtered  \n",
       "0                        [liquidgeneration]  \n",
       "1                             [onlineanime]  \n",
       "2  [ceres, dti, ne, nekoi, senno, senfirst]  \n",
       "3                             [galeon, kmh]  \n",
       "4                             [fanworkrecs]  "
      ]
     },
     "execution_count": 69,
     "metadata": {},
     "output_type": "execute_result"
    }
   ],
   "source": [
    "url_df['url_tokens'] = url_df['url'].apply(lambda x: tokenizer.tokenize(x))\n",
    "url_df['url_tokens_filtered'] = url_df['url_tokens'].apply(lambda sent: [word for word in sent if word not in stop_words])\n",
    "url_df.head()"
   ]
  },
  {
   "cell_type": "code",
   "execution_count": 106,
   "metadata": {},
   "outputs": [
    {
     "data": {
      "text/html": [
       "<div>\n",
       "<style scoped>\n",
       "    .dataframe tbody tr th:only-of-type {\n",
       "        vertical-align: middle;\n",
       "    }\n",
       "\n",
       "    .dataframe tbody tr th {\n",
       "        vertical-align: top;\n",
       "    }\n",
       "\n",
       "    .dataframe thead th {\n",
       "        text-align: right;\n",
       "    }\n",
       "</style>\n",
       "<table border=\"1\" class=\"dataframe\">\n",
       "  <thead>\n",
       "    <tr style=\"text-align: right;\">\n",
       "      <th></th>\n",
       "      <th>category_name</th>\n",
       "      <th>workplay_name</th>\n",
       "      <th>workplay_label</th>\n",
       "    </tr>\n",
       "  </thead>\n",
       "  <tbody>\n",
       "    <tr>\n",
       "      <th>0</th>\n",
       "      <td>Adult</td>\n",
       "      <td>p</td>\n",
       "      <td>0</td>\n",
       "    </tr>\n",
       "    <tr>\n",
       "      <th>1</th>\n",
       "      <td>Arts</td>\n",
       "      <td>p</td>\n",
       "      <td>0</td>\n",
       "    </tr>\n",
       "    <tr>\n",
       "      <th>2</th>\n",
       "      <td>Business</td>\n",
       "      <td>w</td>\n",
       "      <td>1</td>\n",
       "    </tr>\n",
       "    <tr>\n",
       "      <th>3</th>\n",
       "      <td>Computers</td>\n",
       "      <td>w</td>\n",
       "      <td>1</td>\n",
       "    </tr>\n",
       "    <tr>\n",
       "      <th>4</th>\n",
       "      <td>Games</td>\n",
       "      <td>p</td>\n",
       "      <td>0</td>\n",
       "    </tr>\n",
       "    <tr>\n",
       "      <th>5</th>\n",
       "      <td>Health</td>\n",
       "      <td>w</td>\n",
       "      <td>1</td>\n",
       "    </tr>\n",
       "    <tr>\n",
       "      <th>6</th>\n",
       "      <td>Home</td>\n",
       "      <td>w</td>\n",
       "      <td>1</td>\n",
       "    </tr>\n",
       "    <tr>\n",
       "      <th>7</th>\n",
       "      <td>Kids</td>\n",
       "      <td>p</td>\n",
       "      <td>0</td>\n",
       "    </tr>\n",
       "    <tr>\n",
       "      <th>8</th>\n",
       "      <td>News</td>\n",
       "      <td>p</td>\n",
       "      <td>0</td>\n",
       "    </tr>\n",
       "    <tr>\n",
       "      <th>9</th>\n",
       "      <td>Recreation</td>\n",
       "      <td>p</td>\n",
       "      <td>0</td>\n",
       "    </tr>\n",
       "    <tr>\n",
       "      <th>10</th>\n",
       "      <td>Reference</td>\n",
       "      <td>w</td>\n",
       "      <td>1</td>\n",
       "    </tr>\n",
       "    <tr>\n",
       "      <th>11</th>\n",
       "      <td>Science</td>\n",
       "      <td>w</td>\n",
       "      <td>1</td>\n",
       "    </tr>\n",
       "    <tr>\n",
       "      <th>12</th>\n",
       "      <td>Shopping</td>\n",
       "      <td>p</td>\n",
       "      <td>0</td>\n",
       "    </tr>\n",
       "    <tr>\n",
       "      <th>13</th>\n",
       "      <td>Society</td>\n",
       "      <td>w</td>\n",
       "      <td>1</td>\n",
       "    </tr>\n",
       "    <tr>\n",
       "      <th>14</th>\n",
       "      <td>Sports</td>\n",
       "      <td>p</td>\n",
       "      <td>0</td>\n",
       "    </tr>\n",
       "  </tbody>\n",
       "</table>\n",
       "</div>"
      ],
      "text/plain": [
       "   category_name workplay_name workplay_label\n",
       "0          Adult             p              0\n",
       "1           Arts             p              0\n",
       "2       Business             w              1\n",
       "3      Computers             w              1\n",
       "4          Games             p              0\n",
       "5         Health             w              1\n",
       "6           Home             w              1\n",
       "7           Kids             p              0\n",
       "8           News             p              0\n",
       "9     Recreation             p              0\n",
       "10     Reference             w              1\n",
       "11       Science             w              1\n",
       "12      Shopping             p              0\n",
       "13       Society             w              1\n",
       "14        Sports             p              0"
      ]
     },
     "execution_count": 106,
     "metadata": {},
     "output_type": "execute_result"
    }
   ],
   "source": [
    "label_df = pd.DataFrame({'category_name': list(cnt.keys()), \n",
    "                         'workplay_name':  ['p','p','w','w','p','w','w','p','p','p','w','w','p','w','p'],\n",
    "                         'workplay_label': ['0','0','1','1','0','1','1','0','0','0','1','1','0','1','0'],\n",
    "                        })\n",
    "label_df.head(15)"
   ]
  },
  {
   "cell_type": "markdown",
   "metadata": {},
   "source": [
    "Let's load a user session (example of input test data):"
   ]
  },
  {
   "cell_type": "code",
   "execution_count": 80,
   "metadata": {},
   "outputs": [
    {
     "data": {
      "text/html": [
       "<div>\n",
       "<style scoped>\n",
       "    .dataframe tbody tr th:only-of-type {\n",
       "        vertical-align: middle;\n",
       "    }\n",
       "\n",
       "    .dataframe tbody tr th {\n",
       "        vertical-align: top;\n",
       "    }\n",
       "\n",
       "    .dataframe thead th {\n",
       "        text-align: right;\n",
       "    }\n",
       "</style>\n",
       "<table border=\"1\" class=\"dataframe\">\n",
       "  <thead>\n",
       "    <tr style=\"text-align: right;\">\n",
       "      <th></th>\n",
       "      <th>index</th>\n",
       "      <th>url</th>\n",
       "      <th>category</th>\n",
       "    </tr>\n",
       "  </thead>\n",
       "  <tbody>\n",
       "    <tr>\n",
       "      <th>0</th>\n",
       "      <td>1</td>\n",
       "      <td>https://www.google.com/search?q=test&amp;oq=test&amp;a...</td>\n",
       "      <td>work</td>\n",
       "    </tr>\n",
       "    <tr>\n",
       "      <th>1</th>\n",
       "      <td>2</td>\n",
       "      <td>https://www.google.com/search?q=test&amp;source=ln...</td>\n",
       "      <td>work</td>\n",
       "    </tr>\n",
       "    <tr>\n",
       "      <th>2</th>\n",
       "      <td>3</td>\n",
       "      <td>https://www.theverge.com/2019/7/1/20676939/nas...</td>\n",
       "      <td>work</td>\n",
       "    </tr>\n",
       "    <tr>\n",
       "      <th>3</th>\n",
       "      <td>4</td>\n",
       "      <td>https://www.theverge.com/2019/7/1/20676939/nas...</td>\n",
       "      <td>work</td>\n",
       "    </tr>\n",
       "    <tr>\n",
       "      <th>4</th>\n",
       "      <td>5</td>\n",
       "      <td>https://www.theverge.com/2019/7/1/20676939/nas...</td>\n",
       "      <td>work</td>\n",
       "    </tr>\n",
       "  </tbody>\n",
       "</table>\n",
       "</div>"
      ],
      "text/plain": [
       "   index                                                url category\n",
       "0      1  https://www.google.com/search?q=test&oq=test&a...     work\n",
       "1      2  https://www.google.com/search?q=test&source=ln...     work\n",
       "2      3  https://www.theverge.com/2019/7/1/20676939/nas...     work\n",
       "3      4  https://www.theverge.com/2019/7/1/20676939/nas...     work\n",
       "4      5  https://www.theverge.com/2019/7/1/20676939/nas...     work"
      ]
     },
     "execution_count": 80,
     "metadata": {},
     "output_type": "execute_result"
    }
   ],
   "source": [
    "url_session_df = pd.read_csv(\"./data/URLResult.csv\")\n",
    "url_session_df.drop(url_session_df.columns[0], inplace=True, axis=1)\n",
    "url_session_df.columns = ['index', 'url', 'category']\n",
    "url_session_df.head()"
   ]
  },
  {
   "cell_type": "code",
   "execution_count": 92,
   "metadata": {},
   "outputs": [
    {
     "data": {
      "text/html": [
       "<div>\n",
       "<style scoped>\n",
       "    .dataframe tbody tr th:only-of-type {\n",
       "        vertical-align: middle;\n",
       "    }\n",
       "\n",
       "    .dataframe tbody tr th {\n",
       "        vertical-align: top;\n",
       "    }\n",
       "\n",
       "    .dataframe thead th {\n",
       "        text-align: right;\n",
       "    }\n",
       "</style>\n",
       "<table border=\"1\" class=\"dataframe\">\n",
       "  <thead>\n",
       "    <tr style=\"text-align: right;\">\n",
       "      <th></th>\n",
       "      <th>index</th>\n",
       "      <th>url</th>\n",
       "      <th>category</th>\n",
       "      <th>url_tokens</th>\n",
       "      <th>url_tokens_filtered</th>\n",
       "    </tr>\n",
       "  </thead>\n",
       "  <tbody>\n",
       "    <tr>\n",
       "      <th>0</th>\n",
       "      <td>1</td>\n",
       "      <td>https://www.google.com/search?q=test&amp;oq=test&amp;a...</td>\n",
       "      <td>work</td>\n",
       "      <td>[https, www, google, com, search, q, test, oq,...</td>\n",
       "      <td>[google, search, test, test, aqs, chrome, sour...</td>\n",
       "    </tr>\n",
       "    <tr>\n",
       "      <th>1</th>\n",
       "      <td>2</td>\n",
       "      <td>https://www.google.com/search?q=test&amp;source=ln...</td>\n",
       "      <td>work</td>\n",
       "      <td>[https, www, google, com, search, q, test, sou...</td>\n",
       "      <td>[google, search, test, source, lnms, tbm, nws,...</td>\n",
       "    </tr>\n",
       "    <tr>\n",
       "      <th>2</th>\n",
       "      <td>3</td>\n",
       "      <td>https://www.theverge.com/2019/7/1/20676939/nas...</td>\n",
       "      <td>work</td>\n",
       "      <td>[https, www, theverge, com, nasa, orion, crew,...</td>\n",
       "      <td>[theverge, nasa, orion, crew, capsule, launch,...</td>\n",
       "    </tr>\n",
       "    <tr>\n",
       "      <th>3</th>\n",
       "      <td>4</td>\n",
       "      <td>https://www.theverge.com/2019/7/1/20676939/nas...</td>\n",
       "      <td>work</td>\n",
       "      <td>[https, www, theverge, com, nasa, orion, crew,...</td>\n",
       "      <td>[theverge, nasa, orion, crew, capsule, launch,...</td>\n",
       "    </tr>\n",
       "    <tr>\n",
       "      <th>4</th>\n",
       "      <td>5</td>\n",
       "      <td>https://www.theverge.com/2019/7/1/20676939/nas...</td>\n",
       "      <td>work</td>\n",
       "      <td>[https, www, theverge, com, nasa, orion, crew,...</td>\n",
       "      <td>[theverge, nasa, orion, crew, capsule, launch,...</td>\n",
       "    </tr>\n",
       "  </tbody>\n",
       "</table>\n",
       "</div>"
      ],
      "text/plain": [
       "   index                                                url category  \\\n",
       "0      1  https://www.google.com/search?q=test&oq=test&a...     work   \n",
       "1      2  https://www.google.com/search?q=test&source=ln...     work   \n",
       "2      3  https://www.theverge.com/2019/7/1/20676939/nas...     work   \n",
       "3      4  https://www.theverge.com/2019/7/1/20676939/nas...     work   \n",
       "4      5  https://www.theverge.com/2019/7/1/20676939/nas...     work   \n",
       "\n",
       "                                          url_tokens  \\\n",
       "0  [https, www, google, com, search, q, test, oq,...   \n",
       "1  [https, www, google, com, search, q, test, sou...   \n",
       "2  [https, www, theverge, com, nasa, orion, crew,...   \n",
       "3  [https, www, theverge, com, nasa, orion, crew,...   \n",
       "4  [https, www, theverge, com, nasa, orion, crew,...   \n",
       "\n",
       "                                 url_tokens_filtered  \n",
       "0  [google, search, test, test, aqs, chrome, sour...  \n",
       "1  [google, search, test, source, lnms, tbm, nws,...  \n",
       "2  [theverge, nasa, orion, crew, capsule, launch,...  \n",
       "3  [theverge, nasa, orion, crew, capsule, launch,...  \n",
       "4  [theverge, nasa, orion, crew, capsule, launch,...  "
      ]
     },
     "execution_count": 92,
     "metadata": {},
     "output_type": "execute_result"
    }
   ],
   "source": [
    "url_session_df['url_tokens'] = url_session_df['url'].apply(lambda x: tokenizer.tokenize(x))\n",
    "url_session_df['url_tokens_filtered'] = url_session_df['url_tokens'].apply(lambda sent: [word for word in sent if word not in stop_words and len(word) > 2])\n",
    "url_session_df.head()"
   ]
  },
  {
   "cell_type": "code",
   "execution_count": 96,
   "metadata": {},
   "outputs": [
    {
     "data": {
      "text/plain": [
       "['google',\n",
       " 'search',\n",
       " 'test',\n",
       " 'test',\n",
       " 'aqs',\n",
       " 'chrome',\n",
       " 'sourceid',\n",
       " 'chrome',\n",
       " 'UTF']"
      ]
     },
     "execution_count": 96,
     "metadata": {},
     "output_type": "execute_result"
    }
   ],
   "source": [
    "url_session_df.loc[0,'url_tokens_filtered']"
   ]
  },
  {
   "cell_type": "markdown",
   "metadata": {},
   "source": [
    "Let's look at the App data:"
   ]
  },
  {
   "cell_type": "code",
   "execution_count": 118,
   "metadata": {},
   "outputs": [
    {
     "data": {
      "text/html": [
       "<div>\n",
       "<style scoped>\n",
       "    .dataframe tbody tr th:only-of-type {\n",
       "        vertical-align: middle;\n",
       "    }\n",
       "\n",
       "    .dataframe tbody tr th {\n",
       "        vertical-align: top;\n",
       "    }\n",
       "\n",
       "    .dataframe thead th {\n",
       "        text-align: right;\n",
       "    }\n",
       "</style>\n",
       "<table border=\"1\" class=\"dataframe\">\n",
       "  <thead>\n",
       "    <tr style=\"text-align: right;\">\n",
       "      <th></th>\n",
       "      <th>DateTime</th>\n",
       "      <th>Process</th>\n",
       "      <th>Label</th>\n",
       "    </tr>\n",
       "  </thead>\n",
       "  <tbody>\n",
       "    <tr>\n",
       "      <th>0</th>\n",
       "      <td>2019-08-01 11:39:08.462313</td>\n",
       "      <td>System Idle Process</td>\n",
       "      <td>work</td>\n",
       "    </tr>\n",
       "    <tr>\n",
       "      <th>1</th>\n",
       "      <td>2019-08-01 11:39:08.479314</td>\n",
       "      <td>System</td>\n",
       "      <td>work</td>\n",
       "    </tr>\n",
       "    <tr>\n",
       "      <th>2</th>\n",
       "      <td>2019-08-01 11:39:08.517314</td>\n",
       "      <td>Secure System</td>\n",
       "      <td>work</td>\n",
       "    </tr>\n",
       "    <tr>\n",
       "      <th>3</th>\n",
       "      <td>2019-08-01 11:39:08.551314</td>\n",
       "      <td>Registry</td>\n",
       "      <td>work</td>\n",
       "    </tr>\n",
       "    <tr>\n",
       "      <th>4</th>\n",
       "      <td>2019-08-01 11:39:08.580315</td>\n",
       "      <td>smss.exe</td>\n",
       "      <td>work</td>\n",
       "    </tr>\n",
       "  </tbody>\n",
       "</table>\n",
       "</div>"
      ],
      "text/plain": [
       "                     DateTime              Process Label\n",
       "0  2019-08-01 11:39:08.462313  System Idle Process  work\n",
       "1  2019-08-01 11:39:08.479314               System  work\n",
       "2  2019-08-01 11:39:08.517314        Secure System  work\n",
       "3  2019-08-01 11:39:08.551314             Registry  work\n",
       "4  2019-08-01 11:39:08.580315             smss.exe  work"
      ]
     },
     "execution_count": 118,
     "metadata": {},
     "output_type": "execute_result"
    }
   ],
   "source": [
    "app_session_df = pd.read_csv(\"./data/AppResult.csv\")\n",
    "app_session_df.dropna(inplace=True)\n",
    "app_session_df.head()"
   ]
  },
  {
   "cell_type": "code",
   "execution_count": 124,
   "metadata": {},
   "outputs": [
    {
     "data": {
      "text/plain": [
       "[('svchost.exe', 488),\n",
       " ('MicrosoftEdgeCP.exe', 178),\n",
       " ('conhost.exe', 69),\n",
       " ('RuntimeBroker.exe', 64),\n",
       " ('Code.exe', 51),\n",
       " ('WmiPrvSE.exe', 31),\n",
       " ('chrome.exe', 27),\n",
       " ('Teams.exe', 25),\n",
       " ('python.exe', 21),\n",
       " ('LPlatSvc.exe', 15)]"
      ]
     },
     "execution_count": 124,
     "metadata": {},
     "output_type": "execute_result"
    },
    {
     "data": {
      "image/png": "[encoded data removed]",
      "text/plain": [
       "<Figure size 432x288 with 1 Axes>"
      ]
     },
     "metadata": {
      "needs_background": "light"
     },
     "output_type": "display_data"
    }
   ],
   "source": [
    "cnt_app = Counter(app_session_df['Process'])\n",
    "idx_app = range(len(cnt_app))\n",
    "barlist = plt.bar(idx_app, cnt_app.values())\n",
    "plt.title(\"App histogram\"); plt.xlabel(\"App Index\"); plt.ylabel(\"App Count\");\n",
    "cnt_app.most_common(10)"
   ]
  },
  {
   "cell_type": "code",
   "execution_count": 122,
   "metadata": {},
   "outputs": [
    {
     "data": {
      "text/plain": [
       "141"
      ]
     },
     "execution_count": 122,
     "metadata": {},
     "output_type": "execute_result"
    }
   ],
   "source": [
    "len(cnt_app.keys())"
   ]
  },
  {
   "cell_type": "code",
   "execution_count": 125,
   "metadata": {},
   "outputs": [
    {
     "data": {
      "text/plain": [
       "(1604, 3)"
      ]
     },
     "execution_count": 125,
     "metadata": {},
     "output_type": "execute_result"
    }
   ],
   "source": [
    "app_session_df.shape"
   ]
  },
  {
   "cell_type": "code",
   "execution_count": 129,
   "metadata": {},
   "outputs": [
    {
     "data": {
      "text/html": [
       "<div>\n",
       "<style scoped>\n",
       "    .dataframe tbody tr th:only-of-type {\n",
       "        vertical-align: middle;\n",
       "    }\n",
       "\n",
       "    .dataframe tbody tr th {\n",
       "        vertical-align: top;\n",
       "    }\n",
       "\n",
       "    .dataframe thead th {\n",
       "        text-align: right;\n",
       "    }\n",
       "</style>\n",
       "<table border=\"1\" class=\"dataframe\">\n",
       "  <thead>\n",
       "    <tr style=\"text-align: right;\">\n",
       "      <th></th>\n",
       "      <th>App</th>\n",
       "      <th>Count</th>\n",
       "    </tr>\n",
       "  </thead>\n",
       "  <tbody>\n",
       "    <tr>\n",
       "      <th>0</th>\n",
       "      <td>svchost.exe</td>\n",
       "      <td>488</td>\n",
       "    </tr>\n",
       "    <tr>\n",
       "      <th>1</th>\n",
       "      <td>MicrosoftEdgeCP.exe</td>\n",
       "      <td>178</td>\n",
       "    </tr>\n",
       "    <tr>\n",
       "      <th>2</th>\n",
       "      <td>conhost.exe</td>\n",
       "      <td>69</td>\n",
       "    </tr>\n",
       "    <tr>\n",
       "      <th>3</th>\n",
       "      <td>RuntimeBroker.exe</td>\n",
       "      <td>64</td>\n",
       "    </tr>\n",
       "    <tr>\n",
       "      <th>4</th>\n",
       "      <td>Code.exe</td>\n",
       "      <td>51</td>\n",
       "    </tr>\n",
       "    <tr>\n",
       "      <th>5</th>\n",
       "      <td>WmiPrvSE.exe</td>\n",
       "      <td>31</td>\n",
       "    </tr>\n",
       "    <tr>\n",
       "      <th>6</th>\n",
       "      <td>chrome.exe</td>\n",
       "      <td>27</td>\n",
       "    </tr>\n",
       "    <tr>\n",
       "      <th>7</th>\n",
       "      <td>Teams.exe</td>\n",
       "      <td>25</td>\n",
       "    </tr>\n",
       "    <tr>\n",
       "      <th>8</th>\n",
       "      <td>python.exe</td>\n",
       "      <td>21</td>\n",
       "    </tr>\n",
       "    <tr>\n",
       "      <th>9</th>\n",
       "      <td>LPlatSvc.exe</td>\n",
       "      <td>15</td>\n",
       "    </tr>\n",
       "  </tbody>\n",
       "</table>\n",
       "</div>"
      ],
      "text/plain": [
       "                   App  Count\n",
       "0          svchost.exe    488\n",
       "1  MicrosoftEdgeCP.exe    178\n",
       "2          conhost.exe     69\n",
       "3    RuntimeBroker.exe     64\n",
       "4             Code.exe     51\n",
       "5         WmiPrvSE.exe     31\n",
       "6           chrome.exe     27\n",
       "7            Teams.exe     25\n",
       "8           python.exe     21\n",
       "9         LPlatSvc.exe     15"
      ]
     },
     "execution_count": 129,
     "metadata": {},
     "output_type": "execute_result"
    }
   ],
   "source": [
    "label2_df = pd.DataFrame(cnt_app.most_common(10))\n",
    "label2_df.columns = ['App', 'Count']\n",
    "label2_df.head(10)"
   ]
  },
  {
   "cell_type": "markdown",
   "metadata": {},
   "source": [
    "Let's look at the level of ambiguity between the Apps, i.e. at an intersection between work and play Apps:"
   ]
  },
  {
   "cell_type": "code",
   "execution_count": 135,
   "metadata": {},
   "outputs": [],
   "source": [
    "app_work_df = app_session_df[app_session_df['Label'] == 'work']\n",
    "app_play_df = app_session_df[app_session_df['Label'] == 'play']"
   ]
  },
  {
   "cell_type": "code",
   "execution_count": 142,
   "metadata": {},
   "outputs": [
    {
     "data": {
      "text/plain": [
       "115"
      ]
     },
     "execution_count": 142,
     "metadata": {},
     "output_type": "execute_result"
    }
   ],
   "source": [
    "len(set.intersection(set(app_work_df['Process'].values), set(app_play_df['Process'].values)))"
   ]
  },
  {
   "cell_type": "code",
   "execution_count": null,
   "metadata": {},
   "outputs": [],
   "source": []
  }
 ],
 "metadata": {
  "kernelspec": {
   "display_name": "Python 3",
   "language": "python",
   "name": "python3"
  },
  "language_info": {
   "codemirror_mode": {
    "name": "ipython",
    "version": 3
   },
   "file_extension": ".py",
   "mimetype": "text/x-python",
   "name": "python",
   "nbconvert_exporter": "python",
   "pygments_lexer": "ipython3",
   "version": "3.6.8"
  }
 },
 "nbformat": 4,
 "nbformat_minor": 2
}
