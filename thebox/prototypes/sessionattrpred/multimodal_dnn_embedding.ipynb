{
 "cells": [
  {
   "cell_type": "markdown",
   "metadata": {},
   "source": [
    "##  Multi-Modal DNN with App and URL Embeddings"
   ]
  },
  {
   "cell_type": "markdown",
   "metadata": {},
   "source": [
    "The goal of this notebook is to explore multi-modal DNN model [1] as it applies to App intent classification (e.g. work vs play or commercial vs personal app usage) based on multi-modal inputs: URLs and Apps."
   ]
  },
  {
   "cell_type": "markdown",
   "metadata": {},
   "source": [
    "An additional goal is to use embeddings for both App and URL inputs"
   ]
  },
  {
   "cell_type": "markdown",
   "metadata": {},
   "source": [
    "Let's start by importing the required libraries"
   ]
  },
  {
   "cell_type": "code",
   "execution_count": 43,
   "metadata": {},
   "outputs": [],
   "source": [
    "import numpy as np\n",
    "import pandas as pd\n",
    "import seaborn as sns\n",
    "import matplotlib.pyplot as plt\n",
    "\n",
    "import os\n",
    "import re\n",
    "import csv\n",
    "import math\n",
    "import codecs\n",
    "from collections import Counter\n",
    "from sklearn.preprocessing import LabelEncoder\n",
    "from sklearn.metrics import confusion_matrix\n",
    "from sklearn.model_selection import train_test_split\n",
    "\n",
    "from nltk.corpus import stopwords\n",
    "from nltk.tokenize import word_tokenize\n",
    "from nltk.tokenize import RegexpTokenizer \n",
    "from nltk.stem import SnowballStemmer\n",
    "\n",
    "import onnxmltools\n",
    "\n",
    "import warnings\n",
    "warnings.filterwarnings('ignore')"
   ]
  },
  {
   "cell_type": "code",
   "execution_count": 69,
   "metadata": {},
   "outputs": [],
   "source": [
    "import keras\n",
    "from keras import Input\n",
    "from keras import optimizers\n",
    "from keras import regularizers\n",
    "from keras.models import Model\n",
    "from keras.layers import Dense, Dropout, concatenate\n",
    "from keras.layers import Bidirectional, Embedding, LSTM, Flatten\n",
    "\n",
    "from keras.utils import np_utils\n",
    "from keras.utils import plot_model\n",
    "from keras.datasets import reuters\n",
    "from keras.models import load_model\n",
    "from keras.preprocessing import sequence\n",
    "from keras.preprocessing.text import Tokenizer\n",
    "\n",
    "from keras.callbacks import ModelCheckpoint\n",
    "from keras.callbacks import TensorBoard\n",
    "from keras.callbacks import LearningRateScheduler\n",
    "from keras.callbacks import EarlyStopping\n",
    "\n",
    "from tqdm import tqdm"
   ]
  },
  {
   "cell_type": "code",
   "execution_count": 3,
   "metadata": {},
   "outputs": [],
   "source": [
    "def step_decay(epoch):\n",
    "    lr_init = 0.001\n",
    "    drop = 0.5\n",
    "    epochs_drop = 4.0\n",
    "    lr_new = lr_init * math.pow(drop, math.floor((1+epoch)/epochs_drop))\n",
    "    return lr_new"
   ]
  },
  {
   "cell_type": "code",
   "execution_count": 4,
   "metadata": {},
   "outputs": [],
   "source": [
    "class LR_hist(keras.callbacks.Callback):\n",
    "    def on_train_begin(self, logs={}):\n",
    "        self.losses = []\n",
    "        self.lr = []\n",
    "\n",
    "    def on_epoch_end(self, batch, logs={}):\n",
    "        self.losses.append(logs.get('loss'))\n",
    "        self.lr.append(step_decay(len(self.losses)))"
   ]
  },
  {
   "cell_type": "code",
   "execution_count": 5,
   "metadata": {},
   "outputs": [
    {
     "name": "stdout",
     "output_type": "stream",
     "text": [
      "loading FastText word embeddings...\n"
     ]
    },
    {
     "name": "stderr",
     "output_type": "stream",
     "text": [
      "999995it [02:06, 7898.53it/s]\n"
     ]
    },
    {
     "name": "stdout",
     "output_type": "stream",
     "text": [
      "found 999995 word vectors\n"
     ]
    }
   ],
   "source": [
    "#load embeddings\n",
    "print('loading FastText word embeddings...')\n",
    "EMBEDDING_DIR = './data/'\n",
    "embeddings_index = {}\n",
    "f = codecs.open(os.path.join(EMBEDDING_DIR, 'wiki-news-300d-1M-subword.vec'), encoding='utf-8')\n",
    "for line in tqdm(f):\n",
    "    values = line.split(' ')\n",
    "    word = values[0]\n",
    "    coefs = np.asarray(values[1:], dtype='float32')\n",
    "    embeddings_index[word] = coefs\n",
    "f.close()\n",
    "print('found %s word vectors' % len(embeddings_index))"
   ]
  },
  {
   "cell_type": "code",
   "execution_count": 6,
   "metadata": {},
   "outputs": [
    {
     "name": "stdout",
     "output_type": "stream",
     "text": [
      "loading URLs dataset...\n"
     ]
    },
    {
     "data": {
      "text/html": [
       "<div>\n",
       "<style scoped>\n",
       "    .dataframe tbody tr th:only-of-type {\n",
       "        vertical-align: middle;\n",
       "    }\n",
       "\n",
       "    .dataframe tbody tr th {\n",
       "        vertical-align: top;\n",
       "    }\n",
       "\n",
       "    .dataframe thead th {\n",
       "        text-align: right;\n",
       "    }\n",
       "</style>\n",
       "<table border=\"1\" class=\"dataframe\">\n",
       "  <thead>\n",
       "    <tr style=\"text-align: right;\">\n",
       "      <th></th>\n",
       "      <th>index</th>\n",
       "      <th>url</th>\n",
       "      <th>category</th>\n",
       "    </tr>\n",
       "  </thead>\n",
       "  <tbody>\n",
       "    <tr>\n",
       "      <th>1562973</th>\n",
       "      <td>1562974</td>\n",
       "      <td>http://www.maxpreps.com/</td>\n",
       "      <td>Sports</td>\n",
       "    </tr>\n",
       "    <tr>\n",
       "      <th>1562974</th>\n",
       "      <td>1562975</td>\n",
       "      <td>http://www.myscore.com/</td>\n",
       "      <td>Sports</td>\n",
       "    </tr>\n",
       "    <tr>\n",
       "      <th>1562975</th>\n",
       "      <td>1562976</td>\n",
       "      <td>http://sportsillustrated.cnn.com/highschool</td>\n",
       "      <td>Sports</td>\n",
       "    </tr>\n",
       "    <tr>\n",
       "      <th>1562976</th>\n",
       "      <td>1562977</td>\n",
       "      <td>http://rss.cnn.com/rss/si_highschool?format=xml</td>\n",
       "      <td>Sports</td>\n",
       "    </tr>\n",
       "    <tr>\n",
       "      <th>1562977</th>\n",
       "      <td>1562978</td>\n",
       "      <td>http://www.usatoday.com/sports/preps/</td>\n",
       "      <td>Sports</td>\n",
       "    </tr>\n",
       "  </tbody>\n",
       "</table>\n",
       "</div>"
      ],
      "text/plain": [
       "           index                                              url category\n",
       "1562973  1562974                         http://www.maxpreps.com/   Sports\n",
       "1562974  1562975                          http://www.myscore.com/   Sports\n",
       "1562975  1562976      http://sportsillustrated.cnn.com/highschool   Sports\n",
       "1562976  1562977  http://rss.cnn.com/rss/si_highschool?format=xml   Sports\n",
       "1562977  1562978            http://www.usatoday.com/sports/preps/   Sports"
      ]
     },
     "execution_count": 6,
     "metadata": {},
     "output_type": "execute_result"
    }
   ],
   "source": [
    "print(\"loading URLs dataset...\")\n",
    "url_df = pd.read_csv(\"./data/URL.csv\", header=None)\n",
    "url_df.columns = ['index', 'url', 'category']\n",
    "url_df.dropna(inplace=True)\n",
    "url_df.tail()"
   ]
  },
  {
   "cell_type": "markdown",
   "metadata": {},
   "source": [
    "Let's visualize the category label distribution (TODO: retreive the title of the URL page):"
   ]
  },
  {
   "cell_type": "code",
   "execution_count": 7,
   "metadata": {},
   "outputs": [
    {
     "data": {
      "text/plain": [
       "([<matplotlib.axis.XTick at 0x14f0690b908>,\n",
       "  <matplotlib.axis.XTick at 0x14f06905c50>,\n",
       "  <matplotlib.axis.XTick at 0x14f069057b8>,\n",
       "  <matplotlib.axis.XTick at 0x14f069c1860>,\n",
       "  <matplotlib.axis.XTick at 0x14f069c1cf8>,\n",
       "  <matplotlib.axis.XTick at 0x14f069d2208>,\n",
       "  <matplotlib.axis.XTick at 0x14f069d2780>,\n",
       "  <matplotlib.axis.XTick at 0x14f069d2cf8>,\n",
       "  <matplotlib.axis.XTick at 0x14f069d92b0>,\n",
       "  <matplotlib.axis.XTick at 0x14f069d9828>,\n",
       "  <matplotlib.axis.XTick at 0x14f069d9da0>,\n",
       "  <matplotlib.axis.XTick at 0x14f069de358>,\n",
       "  <matplotlib.axis.XTick at 0x14f069d9908>,\n",
       "  <matplotlib.axis.XTick at 0x14f069c1da0>,\n",
       "  <matplotlib.axis.XTick at 0x14f069de860>],\n",
       " <a list of 15 Text xticklabel objects>)"
      ]
     },
     "execution_count": 7,
     "metadata": {},
     "output_type": "execute_result"
    },
    {
     "data": {
      "image/png": "[encoded data removed]",
      "text/plain": [
       "<Figure size 432x288 with 1 Axes>"
      ]
     },
     "metadata": {
      "needs_background": "light"
     },
     "output_type": "display_data"
    }
   ],
   "source": [
    "cnt = Counter(url_df['category'])\n",
    "idx = range(len(cnt))\n",
    "barlist = plt.bar(idx, cnt.values()) #legend: red (work), blue (play)\n",
    "barlist[2].set_color('r'); barlist[3].set_color('r'); barlist[5].set_color('r'); barlist[6].set_color('r')\n",
    "barlist[10].set_color('r'); barlist[11].set_color('r'); barlist[13].set_color('r')\n",
    "plt.xticks(idx, cnt.keys(), rotation=90)"
   ]
  },
  {
   "cell_type": "code",
   "execution_count": 10,
   "metadata": {},
   "outputs": [],
   "source": [
    "#text pre-processing\n",
    "MAX_NB_WORDS = 1e6\n",
    "tokenizer_nltk = RegexpTokenizer(r'[a-zA-Z]+')\n",
    "stop_words = set(stopwords.words('english'))\n",
    "stop_words.update(['http', 'https', 'www', 'com', 'html', 'org', 'ru', 'jp', 'uk', 'ca', '//'])\n",
    "#stemmer = SnowballStemmer('english')"
   ]
  },
  {
   "cell_type": "code",
   "execution_count": 11,
   "metadata": {},
   "outputs": [
    {
     "data": {
      "text/html": [
       "<div>\n",
       "<style scoped>\n",
       "    .dataframe tbody tr th:only-of-type {\n",
       "        vertical-align: middle;\n",
       "    }\n",
       "\n",
       "    .dataframe tbody tr th {\n",
       "        vertical-align: top;\n",
       "    }\n",
       "\n",
       "    .dataframe thead th {\n",
       "        text-align: right;\n",
       "    }\n",
       "</style>\n",
       "<table border=\"1\" class=\"dataframe\">\n",
       "  <thead>\n",
       "    <tr style=\"text-align: right;\">\n",
       "      <th></th>\n",
       "      <th>index</th>\n",
       "      <th>url</th>\n",
       "      <th>category</th>\n",
       "      <th>url_tokens</th>\n",
       "      <th>url_tokens_filtered</th>\n",
       "    </tr>\n",
       "  </thead>\n",
       "  <tbody>\n",
       "    <tr>\n",
       "      <th>1562973</th>\n",
       "      <td>1562974</td>\n",
       "      <td>http://www.maxpreps.com/</td>\n",
       "      <td>Sports</td>\n",
       "      <td>[http, www, maxpreps, com]</td>\n",
       "      <td>[maxpreps]</td>\n",
       "    </tr>\n",
       "    <tr>\n",
       "      <th>1562974</th>\n",
       "      <td>1562975</td>\n",
       "      <td>http://www.myscore.com/</td>\n",
       "      <td>Sports</td>\n",
       "      <td>[http, www, myscore, com]</td>\n",
       "      <td>[myscore]</td>\n",
       "    </tr>\n",
       "    <tr>\n",
       "      <th>1562975</th>\n",
       "      <td>1562976</td>\n",
       "      <td>http://sportsillustrated.cnn.com/highschool</td>\n",
       "      <td>Sports</td>\n",
       "      <td>[http, sportsillustrated, cnn, com, highschool]</td>\n",
       "      <td>[sportsillustrated, cnn, highschool]</td>\n",
       "    </tr>\n",
       "    <tr>\n",
       "      <th>1562976</th>\n",
       "      <td>1562977</td>\n",
       "      <td>http://rss.cnn.com/rss/si_highschool?format=xml</td>\n",
       "      <td>Sports</td>\n",
       "      <td>[http, rss, cnn, com, rss, si, highschool, for...</td>\n",
       "      <td>[rss, cnn, rss, si, highschool, format, xml]</td>\n",
       "    </tr>\n",
       "    <tr>\n",
       "      <th>1562977</th>\n",
       "      <td>1562978</td>\n",
       "      <td>http://www.usatoday.com/sports/preps/</td>\n",
       "      <td>Sports</td>\n",
       "      <td>[http, www, usatoday, com, sports, preps]</td>\n",
       "      <td>[usatoday, sports, preps]</td>\n",
       "    </tr>\n",
       "  </tbody>\n",
       "</table>\n",
       "</div>"
      ],
      "text/plain": [
       "           index                                              url category  \\\n",
       "1562973  1562974                         http://www.maxpreps.com/   Sports   \n",
       "1562974  1562975                          http://www.myscore.com/   Sports   \n",
       "1562975  1562976      http://sportsillustrated.cnn.com/highschool   Sports   \n",
       "1562976  1562977  http://rss.cnn.com/rss/si_highschool?format=xml   Sports   \n",
       "1562977  1562978            http://www.usatoday.com/sports/preps/   Sports   \n",
       "\n",
       "                                                url_tokens  \\\n",
       "1562973                         [http, www, maxpreps, com]   \n",
       "1562974                          [http, www, myscore, com]   \n",
       "1562975    [http, sportsillustrated, cnn, com, highschool]   \n",
       "1562976  [http, rss, cnn, com, rss, si, highschool, for...   \n",
       "1562977          [http, www, usatoday, com, sports, preps]   \n",
       "\n",
       "                                  url_tokens_filtered  \n",
       "1562973                                    [maxpreps]  \n",
       "1562974                                     [myscore]  \n",
       "1562975          [sportsillustrated, cnn, highschool]  \n",
       "1562976  [rss, cnn, rss, si, highschool, format, xml]  \n",
       "1562977                     [usatoday, sports, preps]  "
      ]
     },
     "execution_count": 11,
     "metadata": {},
     "output_type": "execute_result"
    }
   ],
   "source": [
    "url_df['url_tokens'] = url_df['url'].apply(lambda x: tokenizer_nltk.tokenize(x))\n",
    "url_df['url_tokens_filtered'] = url_df['url_tokens'].apply(lambda sent: [word for word in sent if word not in stop_words])\n",
    "url_df.tail()"
   ]
  },
  {
   "cell_type": "code",
   "execution_count": 12,
   "metadata": {},
   "outputs": [
    {
     "data": {
      "text/plain": [
       "'http://rss.cnn.com/rss/si_highschool?format=xml'"
      ]
     },
     "execution_count": 12,
     "metadata": {},
     "output_type": "execute_result"
    }
   ],
   "source": [
    "url_df.loc[1562976, 'url']"
   ]
  },
  {
   "cell_type": "markdown",
   "metadata": {},
   "source": [
    "Let's define a mapping between URL categories and work / play label:"
   ]
  },
  {
   "cell_type": "code",
   "execution_count": 13,
   "metadata": {},
   "outputs": [
    {
     "data": {
      "text/html": [
       "<div>\n",
       "<style scoped>\n",
       "    .dataframe tbody tr th:only-of-type {\n",
       "        vertical-align: middle;\n",
       "    }\n",
       "\n",
       "    .dataframe tbody tr th {\n",
       "        vertical-align: top;\n",
       "    }\n",
       "\n",
       "    .dataframe thead th {\n",
       "        text-align: right;\n",
       "    }\n",
       "</style>\n",
       "<table border=\"1\" class=\"dataframe\">\n",
       "  <thead>\n",
       "    <tr style=\"text-align: right;\">\n",
       "      <th></th>\n",
       "      <th>category_name</th>\n",
       "      <th>workplay_name</th>\n",
       "      <th>workplay_label</th>\n",
       "    </tr>\n",
       "  </thead>\n",
       "  <tbody>\n",
       "    <tr>\n",
       "      <th>0</th>\n",
       "      <td>Adult</td>\n",
       "      <td>p</td>\n",
       "      <td>0</td>\n",
       "    </tr>\n",
       "    <tr>\n",
       "      <th>1</th>\n",
       "      <td>Arts</td>\n",
       "      <td>p</td>\n",
       "      <td>0</td>\n",
       "    </tr>\n",
       "    <tr>\n",
       "      <th>2</th>\n",
       "      <td>Business</td>\n",
       "      <td>w</td>\n",
       "      <td>1</td>\n",
       "    </tr>\n",
       "    <tr>\n",
       "      <th>3</th>\n",
       "      <td>Computers</td>\n",
       "      <td>w</td>\n",
       "      <td>1</td>\n",
       "    </tr>\n",
       "    <tr>\n",
       "      <th>4</th>\n",
       "      <td>Games</td>\n",
       "      <td>p</td>\n",
       "      <td>0</td>\n",
       "    </tr>\n",
       "    <tr>\n",
       "      <th>5</th>\n",
       "      <td>Health</td>\n",
       "      <td>w</td>\n",
       "      <td>1</td>\n",
       "    </tr>\n",
       "    <tr>\n",
       "      <th>6</th>\n",
       "      <td>Home</td>\n",
       "      <td>w</td>\n",
       "      <td>1</td>\n",
       "    </tr>\n",
       "    <tr>\n",
       "      <th>7</th>\n",
       "      <td>Kids</td>\n",
       "      <td>p</td>\n",
       "      <td>0</td>\n",
       "    </tr>\n",
       "    <tr>\n",
       "      <th>8</th>\n",
       "      <td>News</td>\n",
       "      <td>p</td>\n",
       "      <td>0</td>\n",
       "    </tr>\n",
       "    <tr>\n",
       "      <th>9</th>\n",
       "      <td>Recreation</td>\n",
       "      <td>p</td>\n",
       "      <td>0</td>\n",
       "    </tr>\n",
       "    <tr>\n",
       "      <th>10</th>\n",
       "      <td>Reference</td>\n",
       "      <td>w</td>\n",
       "      <td>1</td>\n",
       "    </tr>\n",
       "    <tr>\n",
       "      <th>11</th>\n",
       "      <td>Science</td>\n",
       "      <td>w</td>\n",
       "      <td>1</td>\n",
       "    </tr>\n",
       "    <tr>\n",
       "      <th>12</th>\n",
       "      <td>Shopping</td>\n",
       "      <td>p</td>\n",
       "      <td>0</td>\n",
       "    </tr>\n",
       "    <tr>\n",
       "      <th>13</th>\n",
       "      <td>Society</td>\n",
       "      <td>w</td>\n",
       "      <td>1</td>\n",
       "    </tr>\n",
       "    <tr>\n",
       "      <th>14</th>\n",
       "      <td>Sports</td>\n",
       "      <td>p</td>\n",
       "      <td>0</td>\n",
       "    </tr>\n",
       "  </tbody>\n",
       "</table>\n",
       "</div>"
      ],
      "text/plain": [
       "   category_name workplay_name workplay_label\n",
       "0          Adult             p              0\n",
       "1           Arts             p              0\n",
       "2       Business             w              1\n",
       "3      Computers             w              1\n",
       "4          Games             p              0\n",
       "5         Health             w              1\n",
       "6           Home             w              1\n",
       "7           Kids             p              0\n",
       "8           News             p              0\n",
       "9     Recreation             p              0\n",
       "10     Reference             w              1\n",
       "11       Science             w              1\n",
       "12      Shopping             p              0\n",
       "13       Society             w              1\n",
       "14        Sports             p              0"
      ]
     },
     "execution_count": 13,
     "metadata": {},
     "output_type": "execute_result"
    }
   ],
   "source": [
    "label_df = pd.DataFrame({'category_name': list(cnt.keys()), \n",
    "                         'workplay_name':  ['p','p','w','w','p','w','w','p','p','p','w','w','p','w','p'],\n",
    "                         'workplay_label': ['0','0','1','1','0','1','1','0','0','0','1','1','0','1','0'],\n",
    "                        })\n",
    "label_df.head(15)"
   ]
  },
  {
   "cell_type": "code",
   "execution_count": 14,
   "metadata": {},
   "outputs": [],
   "source": [
    "label_map_url = {'Adult': 0, 'Arts': 0, 'Business': 1, 'Computers': 1, 'Games': 0, 'Health': 1,\n",
    "                 'Home': 1, 'Kids': 0, 'News': 0, 'Recreation': 0, 'Reference': 1, 'Science': 1,\n",
    "                 'Shopping': 0, 'Society': 1, 'Sports': 0}"
   ]
  },
  {
   "cell_type": "code",
   "execution_count": 15,
   "metadata": {},
   "outputs": [
    {
     "data": {
      "text/html": [
       "<div>\n",
       "<style scoped>\n",
       "    .dataframe tbody tr th:only-of-type {\n",
       "        vertical-align: middle;\n",
       "    }\n",
       "\n",
       "    .dataframe tbody tr th {\n",
       "        vertical-align: top;\n",
       "    }\n",
       "\n",
       "    .dataframe thead th {\n",
       "        text-align: right;\n",
       "    }\n",
       "</style>\n",
       "<table border=\"1\" class=\"dataframe\">\n",
       "  <thead>\n",
       "    <tr style=\"text-align: right;\">\n",
       "      <th></th>\n",
       "      <th>index</th>\n",
       "      <th>url</th>\n",
       "      <th>category</th>\n",
       "      <th>url_tokens</th>\n",
       "      <th>url_tokens_filtered</th>\n",
       "      <th>target</th>\n",
       "    </tr>\n",
       "  </thead>\n",
       "  <tbody>\n",
       "    <tr>\n",
       "      <th>1562973</th>\n",
       "      <td>1562974</td>\n",
       "      <td>http://www.maxpreps.com/</td>\n",
       "      <td>Sports</td>\n",
       "      <td>[http, www, maxpreps, com]</td>\n",
       "      <td>[maxpreps]</td>\n",
       "      <td>0</td>\n",
       "    </tr>\n",
       "    <tr>\n",
       "      <th>1562974</th>\n",
       "      <td>1562975</td>\n",
       "      <td>http://www.myscore.com/</td>\n",
       "      <td>Sports</td>\n",
       "      <td>[http, www, myscore, com]</td>\n",
       "      <td>[myscore]</td>\n",
       "      <td>0</td>\n",
       "    </tr>\n",
       "    <tr>\n",
       "      <th>1562975</th>\n",
       "      <td>1562976</td>\n",
       "      <td>http://sportsillustrated.cnn.com/highschool</td>\n",
       "      <td>Sports</td>\n",
       "      <td>[http, sportsillustrated, cnn, com, highschool]</td>\n",
       "      <td>[sportsillustrated, cnn, highschool]</td>\n",
       "      <td>0</td>\n",
       "    </tr>\n",
       "    <tr>\n",
       "      <th>1562976</th>\n",
       "      <td>1562977</td>\n",
       "      <td>http://rss.cnn.com/rss/si_highschool?format=xml</td>\n",
       "      <td>Sports</td>\n",
       "      <td>[http, rss, cnn, com, rss, si, highschool, for...</td>\n",
       "      <td>[rss, cnn, rss, si, highschool, format, xml]</td>\n",
       "      <td>0</td>\n",
       "    </tr>\n",
       "    <tr>\n",
       "      <th>1562977</th>\n",
       "      <td>1562978</td>\n",
       "      <td>http://www.usatoday.com/sports/preps/</td>\n",
       "      <td>Sports</td>\n",
       "      <td>[http, www, usatoday, com, sports, preps]</td>\n",
       "      <td>[usatoday, sports, preps]</td>\n",
       "      <td>0</td>\n",
       "    </tr>\n",
       "  </tbody>\n",
       "</table>\n",
       "</div>"
      ],
      "text/plain": [
       "           index                                              url category  \\\n",
       "1562973  1562974                         http://www.maxpreps.com/   Sports   \n",
       "1562974  1562975                          http://www.myscore.com/   Sports   \n",
       "1562975  1562976      http://sportsillustrated.cnn.com/highschool   Sports   \n",
       "1562976  1562977  http://rss.cnn.com/rss/si_highschool?format=xml   Sports   \n",
       "1562977  1562978            http://www.usatoday.com/sports/preps/   Sports   \n",
       "\n",
       "                                                url_tokens  \\\n",
       "1562973                         [http, www, maxpreps, com]   \n",
       "1562974                          [http, www, myscore, com]   \n",
       "1562975    [http, sportsillustrated, cnn, com, highschool]   \n",
       "1562976  [http, rss, cnn, com, rss, si, highschool, for...   \n",
       "1562977          [http, www, usatoday, com, sports, preps]   \n",
       "\n",
       "                                  url_tokens_filtered  target  \n",
       "1562973                                    [maxpreps]       0  \n",
       "1562974                                     [myscore]       0  \n",
       "1562975          [sportsillustrated, cnn, highschool]       0  \n",
       "1562976  [rss, cnn, rss, si, highschool, format, xml]       0  \n",
       "1562977                     [usatoday, sports, preps]       0  "
      ]
     },
     "execution_count": 15,
     "metadata": {},
     "output_type": "execute_result"
    }
   ],
   "source": [
    "url_df['target'] = url_df['category'].map(label_map_url)\n",
    "url_df.tail()"
   ]
  },
  {
   "cell_type": "code",
   "execution_count": 16,
   "metadata": {},
   "outputs": [
    {
     "name": "stdout",
     "output_type": "stream",
     "text": [
      "100000 training examples, 0 test examples and 2 unique labels\n"
     ]
    }
   ],
   "source": [
    "num_train = 100000 #int(0.8*len(dataset['target']))  #should match num_train of App dataset!\n",
    "url_train_df = url_df.sample(n=num_train, random_state=1)\n",
    "#url_test_df = url_df.sample(n=num_train, random_state=1)\n",
    "raw_docs_train = url_train_df['url_tokens_filtered']\n",
    "#raw_docs_test = url_test_df['url_tokens_filtered']\n",
    "label_train = url_train_df['target'].values\n",
    "#label_test = url_test_df['target'].values\n",
    "num_labels = len(np.unique(label_train))\n",
    "print(\"{} training examples, {} test examples and {} unique labels\".format(num_train, len(url_train_df['target'])-num_train, num_labels))"
   ]
  },
  {
   "cell_type": "code",
   "execution_count": null,
   "metadata": {},
   "outputs": [],
   "source": [
    "url_train_df.to_csv('./data/URL_data_downsampled.csv')"
   ]
  },
  {
   "cell_type": "code",
   "execution_count": 17,
   "metadata": {},
   "outputs": [
    {
     "name": "stdout",
     "output_type": "stream",
     "text": [
      "pre-processing train docs...\n"
     ]
    }
   ],
   "source": [
    "print(\"pre-processing train docs...\")\n",
    "processed_docs_train = []\n",
    "\n",
    "for doc in raw_docs_train:\n",
    "    tokens = tokenizer_nltk.tokenize(\" \".join(doc))\n",
    "    filtered = [word for word in tokens if word not in stop_words]\n",
    "    processed_docs_train.append(\" \".join(filtered))\n",
    "#end for"
   ]
  },
  {
   "cell_type": "code",
   "execution_count": 18,
   "metadata": {},
   "outputs": [
    {
     "name": "stdout",
     "output_type": "stream",
     "text": [
      "pre-processing test docs...\n"
     ]
    }
   ],
   "source": [
    "print(\"pre-processing test docs...\")\n",
    "processed_docs_test = []\n",
    "\n",
    "#for doc in raw_docs_test:\n",
    "#    tokens = tokenizer.tokenize(doc)\n",
    "#    filtered = [word for word in tokens if word not in stop_words]\n",
    "#    processed_docs_test.append(\" \".join(filtered))"
   ]
  },
  {
   "cell_type": "code",
   "execution_count": 19,
   "metadata": {},
   "outputs": [
    {
     "name": "stdout",
     "output_type": "stream",
     "text": [
      "tokenizing input data...\n",
      "dictionary size:  104051\n"
     ]
    }
   ],
   "source": [
    "print(\"tokenizing input data...\")\n",
    "tokenizer_keras = Tokenizer(num_words=MAX_NB_WORDS, lower=True, char_level=False)\n",
    "tokenizer_keras.fit_on_texts(processed_docs_train + processed_docs_test)\n",
    "word_seq_train = tokenizer_keras.texts_to_sequences(processed_docs_train)\n",
    "word_seq_test = tokenizer_keras.texts_to_sequences(processed_docs_test)\n",
    "word_index = tokenizer_keras.word_index\n",
    "print(\"dictionary size: \", len(word_index))"
   ]
  },
  {
   "cell_type": "code",
   "execution_count": 20,
   "metadata": {},
   "outputs": [
    {
     "data": {
      "image/png": "[encoded data removed]",
      "text/plain": [
       "<Figure size 432x288 with 1 Axes>"
      ]
     },
     "metadata": {
      "needs_background": "light"
     },
     "output_type": "display_data"
    }
   ],
   "source": [
    "word_id_len = [len(item.split(\" \")) for item in processed_docs_train]\n",
    "max_seq_len = np.round((np.mean(word_id_len) + np.std(word_id_len))).astype(int)\n",
    "sns.boxplot(word_id_len); plt.axvline(x=max_seq_len, label='seq len cut-off');\n",
    "plt.title(\"boxplot showing a histogram of word counts\"); plt.xlabel('number of words'); plt.ylabel('density');\n",
    "plt.grid(True); plt.legend();"
   ]
  },
  {
   "cell_type": "code",
   "execution_count": 21,
   "metadata": {},
   "outputs": [
    {
     "name": "stdout",
     "output_type": "stream",
     "text": [
      "padding sequences with max seq len 5 words \n"
     ]
    }
   ],
   "source": [
    "#pad sequences\n",
    "print(\"padding sequences with max seq len {} words \".format(max_seq_len))\n",
    "word_seq_train = sequence.pad_sequences(word_seq_train, maxlen=max_seq_len)\n",
    "#word_seq_test = sequence.pad_sequences(word_seq_test, maxlen=max_seq_len)\n",
    "y_url = label_train\n",
    "#y_test_enc = label_test_mapped"
   ]
  },
  {
   "cell_type": "code",
   "execution_count": 22,
   "metadata": {},
   "outputs": [
    {
     "data": {
      "text/plain": [
       "(100000, 5)"
      ]
     },
     "execution_count": 22,
     "metadata": {},
     "output_type": "execute_result"
    }
   ],
   "source": [
    "word_seq_train.shape"
   ]
  },
  {
   "cell_type": "code",
   "execution_count": 23,
   "metadata": {},
   "outputs": [
    {
     "data": {
      "text/plain": [
       "100000"
      ]
     },
     "execution_count": 23,
     "metadata": {},
     "output_type": "execute_result"
    }
   ],
   "source": [
    "len(y_url)"
   ]
  },
  {
   "cell_type": "markdown",
   "metadata": {},
   "source": [
    "Let's start by exploring the App dataset"
   ]
  },
  {
   "cell_type": "code",
   "execution_count": 24,
   "metadata": {},
   "outputs": [
    {
     "data": {
      "text/html": [
       "<div>\n",
       "<style scoped>\n",
       "    .dataframe tbody tr th:only-of-type {\n",
       "        vertical-align: middle;\n",
       "    }\n",
       "\n",
       "    .dataframe tbody tr th {\n",
       "        vertical-align: top;\n",
       "    }\n",
       "\n",
       "    .dataframe thead th {\n",
       "        text-align: right;\n",
       "    }\n",
       "</style>\n",
       "<table border=\"1\" class=\"dataframe\">\n",
       "  <thead>\n",
       "    <tr style=\"text-align: right;\">\n",
       "      <th></th>\n",
       "      <th>DeviceId</th>\n",
       "      <th>IndustrySegment</th>\n",
       "      <th>DeviceSampleRate</th>\n",
       "      <th>IsCommercial</th>\n",
       "      <th>AppName</th>\n",
       "    </tr>\n",
       "  </thead>\n",
       "  <tbody>\n",
       "    <tr>\n",
       "      <th>0</th>\n",
       "      <td>g:6755399441213943</td>\n",
       "      <td>Consumer</td>\n",
       "      <td>0.0</td>\n",
       "      <td>False</td>\n",
       "      <td>4DF9E0F8.NETFLIX_MCM4NJQHNHSS8</td>\n",
       "    </tr>\n",
       "    <tr>\n",
       "      <th>1</th>\n",
       "      <td>g:6755399441213943</td>\n",
       "      <td>Consumer</td>\n",
       "      <td>0.0</td>\n",
       "      <td>False</td>\n",
       "      <td>APPLICATIONCLIPSERVICE.EXE</td>\n",
       "    </tr>\n",
       "    <tr>\n",
       "      <th>2</th>\n",
       "      <td>g:6755399441213943</td>\n",
       "      <td>Consumer</td>\n",
       "      <td>0.0</td>\n",
       "      <td>False</td>\n",
       "      <td>BA3D8596-3946-4095-ADCE-6D76E101746F_ZJR0DFHGJ...</td>\n",
       "    </tr>\n",
       "    <tr>\n",
       "      <th>3</th>\n",
       "      <td>g:6755399441213943</td>\n",
       "      <td>Consumer</td>\n",
       "      <td>0.0</td>\n",
       "      <td>False</td>\n",
       "      <td>BLACKDESERT_QT5FDT83CBZYC</td>\n",
       "    </tr>\n",
       "    <tr>\n",
       "      <th>4</th>\n",
       "      <td>g:6755399441213943</td>\n",
       "      <td>Consumer</td>\n",
       "      <td>0.0</td>\n",
       "      <td>False</td>\n",
       "      <td>CSRSS.EXE</td>\n",
       "    </tr>\n",
       "  </tbody>\n",
       "</table>\n",
       "</div>"
      ],
      "text/plain": [
       "             DeviceId IndustrySegment  DeviceSampleRate  IsCommercial  \\\n",
       "0  g:6755399441213943        Consumer               0.0         False   \n",
       "1  g:6755399441213943        Consumer               0.0         False   \n",
       "2  g:6755399441213943        Consumer               0.0         False   \n",
       "3  g:6755399441213943        Consumer               0.0         False   \n",
       "4  g:6755399441213943        Consumer               0.0         False   \n",
       "\n",
       "                                             AppName  \n",
       "0                     4DF9E0F8.NETFLIX_MCM4NJQHNHSS8  \n",
       "1                         APPLICATIONCLIPSERVICE.EXE  \n",
       "2  BA3D8596-3946-4095-ADCE-6D76E101746F_ZJR0DFHGJ...  \n",
       "3                          BLACKDESERT_QT5FDT83CBZYC  \n",
       "4                                          CSRSS.EXE  "
      ]
     },
     "execution_count": 24,
     "metadata": {},
     "output_type": "execute_result"
    }
   ],
   "source": [
    "app_df = pd.read_csv(\"./data/Data_AppInteractivitySampleRate02.csv\")\n",
    "app_df.dropna(inplace=True)\n",
    "app_df.columns = ['DeviceId', 'IndustrySegment', 'DeviceSampleRate', 'IsCommercial', 'AppName']\n",
    "app_df.head()"
   ]
  },
  {
   "cell_type": "markdown",
   "metadata": {},
   "source": [
    "We can sample by DeviceId, i.e. groupby DeviceID, get a list of apps and sort by the number of Apps, then select devices that have more than 1 app and take the number of examples that matches the number of URL training samples"
   ]
  },
  {
   "cell_type": "code",
   "execution_count": 25,
   "metadata": {},
   "outputs": [],
   "source": [
    "app_df_grouped = app_df.groupby(['DeviceId', 'IsCommercial']).apply(lambda x: x['AppName'].values).reset_index()\n",
    "app_df_grouped.columns = ['DeviceId', 'IsCommercial', 'AppName']\n",
    "app_df_grouped['AppLen'] = app_df_grouped['AppName'].apply(len)\n",
    "app_df_grouped = app_df_grouped.sort_values(by=['AppLen'], ascending=False)"
   ]
  },
  {
   "cell_type": "code",
   "execution_count": 26,
   "metadata": {},
   "outputs": [
    {
     "data": {
      "text/html": [
       "<div>\n",
       "<style scoped>\n",
       "    .dataframe tbody tr th:only-of-type {\n",
       "        vertical-align: middle;\n",
       "    }\n",
       "\n",
       "    .dataframe tbody tr th {\n",
       "        vertical-align: top;\n",
       "    }\n",
       "\n",
       "    .dataframe thead th {\n",
       "        text-align: right;\n",
       "    }\n",
       "</style>\n",
       "<table border=\"1\" class=\"dataframe\">\n",
       "  <thead>\n",
       "    <tr style=\"text-align: right;\">\n",
       "      <th></th>\n",
       "      <th>DeviceId</th>\n",
       "      <th>IsCommercial</th>\n",
       "      <th>AppName</th>\n",
       "      <th>AppLen</th>\n",
       "    </tr>\n",
       "  </thead>\n",
       "  <tbody>\n",
       "    <tr>\n",
       "      <th>603555</th>\n",
       "      <td>g:6966502931801840</td>\n",
       "      <td>False</td>\n",
       "      <td>[(MACROGAMER).EXE, 14832CH.EXE, 3.5.5_45311.EX...</td>\n",
       "      <td>552</td>\n",
       "    </tr>\n",
       "    <tr>\n",
       "      <th>419469</th>\n",
       "      <td>g:6896137367976978</td>\n",
       "      <td>False</td>\n",
       "      <td>[0_124977362_GARENA-V2.0.1907.0210.EXE, 3.5.5_...</td>\n",
       "      <td>431</td>\n",
       "    </tr>\n",
       "    <tr>\n",
       "      <th>300811</th>\n",
       "      <td>g:6825776021537454</td>\n",
       "      <td>True</td>\n",
       "      <td>[4DF9E0F8.NETFLIX_MCM4NJQHNHSS8, ACAD.EXE, ACR...</td>\n",
       "      <td>301</td>\n",
       "    </tr>\n",
       "    <tr>\n",
       "      <th>660933</th>\n",
       "      <td>s:1052AA03-4848-4857-8006-2B76CBCC0515</td>\n",
       "      <td>True</td>\n",
       "      <td>[7ZG.EXE, ACROBAT.EXE, ACRORD32.EXE, AGENTPORT...</td>\n",
       "      <td>261</td>\n",
       "    </tr>\n",
       "    <tr>\n",
       "      <th>322494</th>\n",
       "      <td>g:6825779716653797</td>\n",
       "      <td>False</td>\n",
       "      <td>[4DF9E0F8.NETFLIX_MCM4NJQHNHSS8, 7ZFM.EXE, 911...</td>\n",
       "      <td>241</td>\n",
       "    </tr>\n",
       "  </tbody>\n",
       "</table>\n",
       "</div>"
      ],
      "text/plain": [
       "                                      DeviceId  IsCommercial  \\\n",
       "603555                      g:6966502931801840         False   \n",
       "419469                      g:6896137367976978         False   \n",
       "300811                      g:6825776021537454          True   \n",
       "660933  s:1052AA03-4848-4857-8006-2B76CBCC0515          True   \n",
       "322494                      g:6825779716653797         False   \n",
       "\n",
       "                                                  AppName  AppLen  \n",
       "603555  [(MACROGAMER).EXE, 14832CH.EXE, 3.5.5_45311.EX...     552  \n",
       "419469  [0_124977362_GARENA-V2.0.1907.0210.EXE, 3.5.5_...     431  \n",
       "300811  [4DF9E0F8.NETFLIX_MCM4NJQHNHSS8, ACAD.EXE, ACR...     301  \n",
       "660933  [7ZG.EXE, ACROBAT.EXE, ACRORD32.EXE, AGENTPORT...     261  \n",
       "322494  [4DF9E0F8.NETFLIX_MCM4NJQHNHSS8, 7ZFM.EXE, 911...     241  "
      ]
     },
     "execution_count": 26,
     "metadata": {},
     "output_type": "execute_result"
    }
   ],
   "source": [
    "app_df_filtered = app_df_grouped[app_df_grouped['AppLen'] > 50]\n",
    "#app_df_filtered2 = app_df_grouped[app_df_grouped['AppLen'] == 1].sample(n=83138, random_state=1)\n",
    "#app_df_filtered = pd.concat([app_df_filtered1, app_df_filtered2], ignore_index=True, sort=False)\n",
    "app_df_filtered_work = app_df_filtered[app_df_filtered['IsCommercial'] == True]\n",
    "app_df_filtered_play = app_df_filtered[app_df_filtered['IsCommercial'] == False]\n",
    "app_df_filtered.head(5)"
   ]
  },
  {
   "cell_type": "code",
   "execution_count": 27,
   "metadata": {},
   "outputs": [
    {
     "name": "stdout",
     "output_type": "stream",
     "text": [
      "['4DF9E0F8.NETFLIX_MCM4NJQHNHSS8', 'ACAD.EXE', 'ACROBAT.EXE', 'ACRORD32.EXE', 'ACROTRAY.EXE']\n",
      "['(MACROGAMER).EXE', '14832CH.EXE', '3.5.5_45311.EXE', '360CLEANHELPER.EXE', '360DAYPOP.EXE']\n"
     ]
    }
   ],
   "source": [
    "work_apps_list = app_df_filtered_work['AppName'].apply(pd.Series).stack().tolist()\n",
    "play_apps_list = app_df_filtered_play['AppName'].apply(pd.Series).stack().tolist()\n",
    "print(work_apps_list[:5])\n",
    "print(play_apps_list[:5])"
   ]
  },
  {
   "cell_type": "code",
   "execution_count": 28,
   "metadata": {},
   "outputs": [],
   "source": [
    "app_df_sampled = pd.DataFrame(work_apps_list[:50000] + play_apps_list[:50000])\n",
    "app_df_sampled.columns=['AppName']\n",
    "app_df_sampled['IsCommercial'] = [True if i <= 50000 else False for i in range(100000)]"
   ]
  },
  {
   "cell_type": "code",
   "execution_count": null,
   "metadata": {},
   "outputs": [],
   "source": [
    "#grouped = app_df.groupby(['DeviceId', 'IsCommercial']).agg(['count']).reset_index()\n",
    "#grouped.groupby('IsCommercial').agg(['mean'])"
   ]
  },
  {
   "cell_type": "code",
   "execution_count": null,
   "metadata": {},
   "outputs": [],
   "source": [
    "app_df_sampled.to_csv('./data/App_data_downsampled.csv')"
   ]
  },
  {
   "cell_type": "code",
   "execution_count": 29,
   "metadata": {},
   "outputs": [
    {
     "data": {
      "text/html": [
       "<div>\n",
       "<style scoped>\n",
       "    .dataframe tbody tr th:only-of-type {\n",
       "        vertical-align: middle;\n",
       "    }\n",
       "\n",
       "    .dataframe tbody tr th {\n",
       "        vertical-align: top;\n",
       "    }\n",
       "\n",
       "    .dataframe thead th {\n",
       "        text-align: right;\n",
       "    }\n",
       "</style>\n",
       "<table border=\"1\" class=\"dataframe\">\n",
       "  <thead>\n",
       "    <tr style=\"text-align: right;\">\n",
       "      <th></th>\n",
       "      <th>app</th>\n",
       "      <th>target</th>\n",
       "    </tr>\n",
       "  </thead>\n",
       "  <tbody>\n",
       "    <tr>\n",
       "      <th>0</th>\n",
       "      <td>4df9e0f8.netflix_mcm4njqhnhss8</td>\n",
       "      <td>1</td>\n",
       "    </tr>\n",
       "    <tr>\n",
       "      <th>1</th>\n",
       "      <td>acad.exe</td>\n",
       "      <td>1</td>\n",
       "    </tr>\n",
       "    <tr>\n",
       "      <th>2</th>\n",
       "      <td>acrobat.exe</td>\n",
       "      <td>1</td>\n",
       "    </tr>\n",
       "    <tr>\n",
       "      <th>3</th>\n",
       "      <td>acrord32.exe</td>\n",
       "      <td>1</td>\n",
       "    </tr>\n",
       "    <tr>\n",
       "      <th>4</th>\n",
       "      <td>acrotray.exe</td>\n",
       "      <td>1</td>\n",
       "    </tr>\n",
       "    <tr>\n",
       "      <th>5</th>\n",
       "      <td>adobe desktop service.exe</td>\n",
       "      <td>1</td>\n",
       "    </tr>\n",
       "    <tr>\n",
       "      <th>6</th>\n",
       "      <td>almon.exe</td>\n",
       "      <td>1</td>\n",
       "    </tr>\n",
       "    <tr>\n",
       "      <th>7</th>\n",
       "      <td>amps.exe</td>\n",
       "      <td>1</td>\n",
       "    </tr>\n",
       "    <tr>\n",
       "      <th>8</th>\n",
       "      <td>aoldesktop.exe</td>\n",
       "      <td>1</td>\n",
       "    </tr>\n",
       "    <tr>\n",
       "      <th>9</th>\n",
       "      <td>applicationframehost.exe</td>\n",
       "      <td>1</td>\n",
       "    </tr>\n",
       "  </tbody>\n",
       "</table>\n",
       "</div>"
      ],
      "text/plain": [
       "                              app  target\n",
       "0  4df9e0f8.netflix_mcm4njqhnhss8       1\n",
       "1                        acad.exe       1\n",
       "2                     acrobat.exe       1\n",
       "3                    acrord32.exe       1\n",
       "4                    acrotray.exe       1\n",
       "5       adobe desktop service.exe       1\n",
       "6                       almon.exe       1\n",
       "7                        amps.exe       1\n",
       "8                  aoldesktop.exe       1\n",
       "9        applicationframehost.exe       1"
      ]
     },
     "execution_count": 29,
     "metadata": {},
     "output_type": "execute_result"
    }
   ],
   "source": [
    "app_df_sampled['app'] = app_df_sampled['AppName'].apply(lambda x: x.lower()) #convert all app names to lower case\n",
    "app_df_sampled['target'] = app_df_sampled['IsCommercial'].apply(lambda x: 1 if x else 0)\n",
    "app_df_sampled.drop(['AppName', 'IsCommercial'], axis=1, inplace=True)\n",
    "app_df_sampled.head(10)"
   ]
  },
  {
   "cell_type": "code",
   "execution_count": 30,
   "metadata": {},
   "outputs": [
    {
     "data": {
      "text/html": [
       "<div>\n",
       "<style scoped>\n",
       "    .dataframe tbody tr th:only-of-type {\n",
       "        vertical-align: middle;\n",
       "    }\n",
       "\n",
       "    .dataframe tbody tr th {\n",
       "        vertical-align: top;\n",
       "    }\n",
       "\n",
       "    .dataframe thead th {\n",
       "        text-align: right;\n",
       "    }\n",
       "</style>\n",
       "<table border=\"1\" class=\"dataframe\">\n",
       "  <thead>\n",
       "    <tr style=\"text-align: right;\">\n",
       "      <th></th>\n",
       "      <th>app</th>\n",
       "      <th>target</th>\n",
       "    </tr>\n",
       "  </thead>\n",
       "  <tbody>\n",
       "    <tr>\n",
       "      <th>0</th>\n",
       "      <td>netflix.exe</td>\n",
       "      <td>1</td>\n",
       "    </tr>\n",
       "    <tr>\n",
       "      <th>1</th>\n",
       "      <td>acad.exe</td>\n",
       "      <td>1</td>\n",
       "    </tr>\n",
       "    <tr>\n",
       "      <th>2</th>\n",
       "      <td>acrobat.exe</td>\n",
       "      <td>1</td>\n",
       "    </tr>\n",
       "    <tr>\n",
       "      <th>3</th>\n",
       "      <td>acrord32.exe</td>\n",
       "      <td>1</td>\n",
       "    </tr>\n",
       "    <tr>\n",
       "      <th>4</th>\n",
       "      <td>acrotray.exe</td>\n",
       "      <td>1</td>\n",
       "    </tr>\n",
       "    <tr>\n",
       "      <th>5</th>\n",
       "      <td>adobe desktop service.exe</td>\n",
       "      <td>1</td>\n",
       "    </tr>\n",
       "    <tr>\n",
       "      <th>6</th>\n",
       "      <td>almon.exe</td>\n",
       "      <td>1</td>\n",
       "    </tr>\n",
       "    <tr>\n",
       "      <th>7</th>\n",
       "      <td>amps.exe</td>\n",
       "      <td>1</td>\n",
       "    </tr>\n",
       "    <tr>\n",
       "      <th>8</th>\n",
       "      <td>aoldesktop.exe</td>\n",
       "      <td>1</td>\n",
       "    </tr>\n",
       "    <tr>\n",
       "      <th>9</th>\n",
       "      <td>applicationframehost.exe</td>\n",
       "      <td>1</td>\n",
       "    </tr>\n",
       "  </tbody>\n",
       "</table>\n",
       "</div>"
      ],
      "text/plain": [
       "                         app  target\n",
       "0                netflix.exe       1\n",
       "1                   acad.exe       1\n",
       "2                acrobat.exe       1\n",
       "3               acrord32.exe       1\n",
       "4               acrotray.exe       1\n",
       "5  adobe desktop service.exe       1\n",
       "6                  almon.exe       1\n",
       "7                   amps.exe       1\n",
       "8             aoldesktop.exe       1\n",
       "9   applicationframehost.exe       1"
      ]
     },
     "execution_count": 30,
     "metadata": {},
     "output_type": "execute_result"
    }
   ],
   "source": [
    "app_df_sampled['app'] = app_df_sampled['app'].apply(lambda x: x.split('_')[0])  #remove anything after underscore, e.g. microsoft.microsoftedge_8wekyb3d8bbwe\n",
    "app_df_sampled['app'] = app_df_sampled['app'].apply(lambda x: x.split('.')[-1] + '.exe' if ('exe' not in x.split('.')) else x) #keep what remains after the last period + '.exe', e.g. microsoftedge.exe\n",
    "app_df_sampled.head(10)"
   ]
  },
  {
   "cell_type": "code",
   "execution_count": 31,
   "metadata": {},
   "outputs": [
    {
     "data": {
      "text/plain": [
       "[('tmp.exe', 1612),\n",
       " ('explorer.exe', 1243),\n",
       " ('csrss.exe', 1242),\n",
       " ('logonui.exe', 1240),\n",
       " ('shellexperiencehost.exe', 1236),\n",
       " ('cortana.exe', 1226),\n",
       " ('applicationframehost.exe', 1192),\n",
       " ('dwm.exe', 1146),\n",
       " ('taskhostw.exe', 1118),\n",
       " ('immersivecontrolpanel.exe', 1043),\n",
       " ('lockapp.exe', 906),\n",
       " ('microsoftedge.exe', 891),\n",
       " ('windowsstore.exe', 857),\n",
       " ('conhost.exe', 853),\n",
       " ('consent.exe', 838),\n",
       " ('rundll32.exe', 802),\n",
       " ('chrome.exe', 755),\n",
       " ('inputapp.exe', 741),\n",
       " ('onedrive.exe', 724),\n",
       " ('igfxem.exe', 648)]"
      ]
     },
     "execution_count": 31,
     "metadata": {},
     "output_type": "execute_result"
    }
   ],
   "source": [
    "cnt_app = Counter(app_df_sampled['app'])\n",
    "idx_app = range(len(cnt_app))\n",
    "cnt_app.most_common(20)"
   ]
  },
  {
   "cell_type": "markdown",
   "metadata": {},
   "source": [
    "Let's look at the level of ambiguity between the Apps, i.e. at an intersection between work and play Apps:"
   ]
  },
  {
   "cell_type": "code",
   "execution_count": null,
   "metadata": {},
   "outputs": [],
   "source": [
    "#app_work_df = app_df[app_df['target'] == True]\n",
    "#app_play_df = app_df[app_df['target'] == False]\n",
    "#app_intersection = set.intersection(set(app_work_df['app'].values), set(app_play_df['app'].values))\n",
    "#print(\"number of apps labeled both work and play: \", len(app_intersection))\n",
    "#print(np.random.choice(list(app_intersection), 10))"
   ]
  },
  {
   "cell_type": "code",
   "execution_count": 32,
   "metadata": {},
   "outputs": [
    {
     "data": {
      "text/plain": [
       "(100000, 1)"
      ]
     },
     "execution_count": 32,
     "metadata": {},
     "output_type": "execute_result"
    }
   ],
   "source": [
    "app_df_sampled['app'].values.reshape(-1,1).shape"
   ]
  },
  {
   "cell_type": "code",
   "execution_count": 66,
   "metadata": {},
   "outputs": [
    {
     "data": {
      "text/plain": [
       "(100000,)"
      ]
     },
     "execution_count": 66,
     "metadata": {},
     "output_type": "execute_result"
    }
   ],
   "source": [
    "y_app = app_df_sampled['target'].values #binary target variable should match the target variable for URL dataset!\n",
    "enc = LabelEncoder()\n",
    "enc.fit(app_df_sampled['app'].values.reshape(-1,1))\n",
    "X1_train = enc.transform(app_df_sampled['app'].values.reshape(-1,1))\n",
    "num_features1 = enc.classes_.shape[0] \n",
    "X1_train.shape"
   ]
  },
  {
   "cell_type": "code",
   "execution_count": 56,
   "metadata": {},
   "outputs": [],
   "source": [
    "tosave_df = pd.DataFrame(enc.classes_)\n",
    "tosave_df.to_csv(\"./data/label_encoder_dictionary.csv\")"
   ]
  },
  {
   "cell_type": "code",
   "execution_count": 57,
   "metadata": {},
   "outputs": [
    {
     "data": {
      "text/plain": [
       "<matplotlib.axes._subplots.AxesSubplot at 0x14f90f14e80>"
      ]
     },
     "execution_count": 57,
     "metadata": {},
     "output_type": "execute_result"
    },
    {
     "data": {
      "image/png": "[encoded data removed]",
      "text/plain": [
       "<Figure size 432x288 with 1 Axes>"
      ]
     },
     "metadata": {
      "needs_background": "light"
     },
     "output_type": "display_data"
    }
   ],
   "source": [
    "sns.distplot(y_app, kde=False)"
   ]
  },
  {
   "cell_type": "markdown",
   "metadata": {},
   "source": [
    "Next, let's define our multi-modal NN using the functional keras API"
   ]
  },
  {
   "cell_type": "code",
   "execution_count": 58,
   "metadata": {},
   "outputs": [],
   "source": [
    "#training params\n",
    "batch_size = 512\n",
    "num_epochs = 16"
   ]
  },
  {
   "cell_type": "code",
   "execution_count": 59,
   "metadata": {},
   "outputs": [],
   "source": [
    "#model parameters\n",
    "hidden_size_lstm = 32\n",
    "embed_dim = 300\n",
    "lstm_dropout = 0.2\n",
    "dense_dropout = 0.2\n",
    "weight_decay = 1e-4"
   ]
  },
  {
   "cell_type": "code",
   "execution_count": 38,
   "metadata": {},
   "outputs": [
    {
     "name": "stdout",
     "output_type": "stream",
     "text": [
      "preparing embedding matrix...\n",
      "number of null word embeddings:  83470\n"
     ]
    }
   ],
   "source": [
    "#embedding matrix\n",
    "print('preparing embedding matrix...')\n",
    "words_not_found = []\n",
    "nb_words = min(MAX_NB_WORDS, len(word_index)+1)\n",
    "embedding_matrix = np.zeros((nb_words, embed_dim))\n",
    "for word, i in word_index.items():\n",
    "    if i >= nb_words:\n",
    "        continue\n",
    "    embedding_vector = embeddings_index.get(word)\n",
    "    if (embedding_vector is not None) and len(embedding_vector) > 0:\n",
    "        # words not found in embedding index will be all-zeros.\n",
    "        embedding_matrix[i] = embedding_vector\n",
    "    else:\n",
    "        words_not_found.append(word)\n",
    "print('number of null word embeddings: ', len(words_not_found))"
   ]
  },
  {
   "cell_type": "code",
   "execution_count": 39,
   "metadata": {},
   "outputs": [
    {
     "data": {
      "text/plain": [
       "(104052, 300)"
      ]
     },
     "execution_count": 39,
     "metadata": {},
     "output_type": "execute_result"
    }
   ],
   "source": [
    "embedding_matrix.shape"
   ]
  },
  {
   "cell_type": "code",
   "execution_count": 40,
   "metadata": {},
   "outputs": [
    {
     "name": "stdout",
     "output_type": "stream",
     "text": [
      "sample words not found in the embeddings:\n",
      " ['bogner' 'forsk' 'ocweekly' 'photonet' 'occurrenceid'\n",
      " 'raceagainstglobalwarming' 'amournoir' 'psb' 'trackrock' 'alismatanae'\n",
      " 'findlaybiblemethodistchurch' 'preemiestore' 'bgi' 'longmynd'\n",
      " 'patrickball' 'alghurairfoods' 'uniud' 'beavtail' 'akisscamping'\n",
      " 'actdarts']\n"
     ]
    }
   ],
   "source": [
    "print(\"sample words not found in the embeddings:\\n\", np.random.choice(words_not_found, 20))"
   ]
  },
  {
   "cell_type": "code",
   "execution_count": 70,
   "metadata": {},
   "outputs": [
    {
     "name": "stderr",
     "output_type": "stream",
     "text": [
      "W0814 16:08:35.616101 15156 module_wrapper.py:137] From C:\\Users\\t-vasmol.REDMOND\\AppData\\Local\\Continuum\\anaconda3\\envs\\vss\\lib\\site-packages\\keras\\optimizers.py:790: The name tf.train.Optimizer is deprecated. Please use tf.compat.v1.train.Optimizer instead.\n",
      "\n",
      "W0814 16:08:35.642100 15156 deprecation.py:323] From C:\\Users\\t-vasmol.REDMOND\\AppData\\Local\\Continuum\\anaconda3\\envs\\vss\\lib\\site-packages\\tensorflow_core\\python\\ops\\nn_impl.py:183: where (from tensorflow.python.ops.array_ops) is deprecated and will be removed in a future version.\n",
      "Instructions for updating:\n",
      "Use tf.where in 2.0, which has the same broadcast rule as np.where\n"
     ]
    },
    {
     "name": "stdout",
     "output_type": "stream",
     "text": [
      "__________________________________________________________________________________________________\n",
      "Layer (type)                    Output Shape         Param #     Connected to                     \n",
      "==================================================================================================\n",
      "app (InputLayer)                (None, 1)            0                                            \n",
      "__________________________________________________________________________________________________\n",
      "embedding_9 (Embedding)         (None, 1, 300)       4253400     app[0][0]                        \n",
      "__________________________________________________________________________________________________\n",
      "flatten_1 (Flatten)             (None, 300)          0           embedding_9[0][0]                \n",
      "__________________________________________________________________________________________________\n",
      "url (InputLayer)                (None, 5)            0                                            \n",
      "__________________________________________________________________________________________________\n",
      "dense_7 (Dense)                 (None, 128)          38528       flatten_1[0][0]                  \n",
      "__________________________________________________________________________________________________\n",
      "embedding_10 (Embedding)        (None, 5, 300)       31215600    url[0][0]                        \n",
      "__________________________________________________________________________________________________\n",
      "dense_8 (Dense)                 (None, 32)           4128        dense_7[0][0]                    \n",
      "__________________________________________________________________________________________________\n",
      "bidirectional_4 (Bidirectional) (None, 64)           85248       embedding_10[0][0]               \n",
      "__________________________________________________________________________________________________\n",
      "concatenate_4 (Concatenate)     (None, 96)           0           dense_8[0][0]                    \n",
      "                                                                 bidirectional_4[0][0]            \n",
      "__________________________________________________________________________________________________\n",
      "dropout_1 (Dropout)             (None, 96)           0           concatenate_4[0][0]              \n",
      "__________________________________________________________________________________________________\n",
      "dense_9 (Dense)                 (None, 16)           1552        dropout_1[0][0]                  \n",
      "__________________________________________________________________________________________________\n",
      "dense_10 (Dense)                (None, 1)            17          dense_9[0][0]                    \n",
      "==================================================================================================\n",
      "Total params: 35,598,473\n",
      "Trainable params: 4,382,873\n",
      "Non-trainable params: 31,215,600\n",
      "__________________________________________________________________________________________________\n"
     ]
    }
   ],
   "source": [
    "#multi-modal NN\n",
    "\n",
    "#MLP branch\n",
    "input1 = Input(shape=(1,), name='app')\n",
    "x = Embedding(num_features1, embed_dim, input_length = 1, trainable=True)(input1)\n",
    "x = Flatten()(x)\n",
    "x = Dense(128, activation='relu', kernel_regularizer=regularizers.l2(weight_decay))(x)\n",
    "x = Dense(32, activation='relu', kernel_regularizer=regularizers.l2(weight_decay))(x)\n",
    "\n",
    "#LSTM branch\n",
    "input2 = Input(shape=(max_seq_len,), name='url')\n",
    "y = Embedding(nb_words, embed_dim, weights=[embedding_matrix], input_length=max_seq_len, trainable=False)(input2)\n",
    "y = Bidirectional(LSTM(hidden_size_lstm, dropout=lstm_dropout, recurrent_dropout=lstm_dropout))(y)\n",
    "\n",
    "merged = concatenate([x, y], axis=-1)\n",
    "z = Dropout(dense_dropout)(merged)\n",
    "z = Dense(16, activation='relu', kernel_regularizer=regularizers.l2(weight_decay))(z)\n",
    "output = Dense(1, activation='sigmoid')(z)\n",
    "\n",
    "model=Model([input1, input2], output)\n",
    "adam = optimizers.Adam(lr=0.001, beta_1=0.9, beta_2=0.999, epsilon=1e-08, decay=0.0, clipnorm=1.0)\n",
    "model.compile(loss='binary_crossentropy', optimizer=adam, metrics=['accuracy'])\n",
    "model.summary()"
   ]
  },
  {
   "cell_type": "code",
   "execution_count": 71,
   "metadata": {},
   "outputs": [],
   "source": [
    "#define callbacks\n",
    "SAVE_PATH = \"./data/\"\n",
    "file_name = SAVE_PATH + 'dnn-weights-checkpoint-v7.h5'\n",
    "checkpoint = ModelCheckpoint(file_name, monitor='val_loss', verbose=1, save_best_only=True, mode='min')\n",
    "#tensor_board = TensorBoard(log_dir='./logs', write_graph=True)\n",
    "hist_lr = LR_hist()\n",
    "reduce_lr = LearningRateScheduler(step_decay) \n",
    "early_stopping = EarlyStopping(monitor='val_loss', min_delta=0.01, patience=8, verbose=1)\n",
    "callbacks_list = [checkpoint, hist_lr, reduce_lr, early_stopping]"
   ]
  },
  {
   "cell_type": "markdown",
   "metadata": {},
   "source": [
    "Define the training label to be an OR between App label and the URL label to bias the training data towards work:"
   ]
  },
  {
   "cell_type": "code",
   "execution_count": 72,
   "metadata": {},
   "outputs": [],
   "source": [
    "y_train = y_url | y_app"
   ]
  },
  {
   "cell_type": "code",
   "execution_count": 73,
   "metadata": {},
   "outputs": [
    {
     "data": {
      "text/plain": [
       "<matplotlib.axes._subplots.AxesSubplot at 0x14f90112ba8>"
      ]
     },
     "execution_count": 73,
     "metadata": {},
     "output_type": "execute_result"
    },
    {
     "data": {
      "image/png": "[encoded data removed]",
      "text/plain": [
       "<Figure size 432x288 with 1 Axes>"
      ]
     },
     "metadata": {
      "needs_background": "light"
     },
     "output_type": "display_data"
    }
   ],
   "source": [
    "sns.distplot(y_train, kde=False)"
   ]
  },
  {
   "cell_type": "code",
   "execution_count": 75,
   "metadata": {},
   "outputs": [
    {
     "name": "stdout",
     "output_type": "stream",
     "text": [
      "Train on 90000 samples, validate on 10000 samples\n",
      "Epoch 1/16\n",
      " - 17s - loss: 0.5307 - acc: 0.7945 - val_loss: 0.8403 - val_acc: 0.5474\n",
      "\n",
      "Epoch 00001: val_loss improved from inf to 0.84029, saving model to ./data/dnn-weights-checkpoint-v7.h5\n",
      "Epoch 2/16\n",
      " - 14s - loss: 0.4521 - acc: 0.8058 - val_loss: 0.8336 - val_acc: 0.5687\n",
      "\n",
      "Epoch 00002: val_loss improved from 0.84029 to 0.83358, saving model to ./data/dnn-weights-checkpoint-v7.h5\n",
      "Epoch 3/16\n",
      " - 14s - loss: 0.4269 - acc: 0.8137 - val_loss: 0.8166 - val_acc: 0.5740\n",
      "\n",
      "Epoch 00003: val_loss improved from 0.83358 to 0.81658, saving model to ./data/dnn-weights-checkpoint-v7.h5\n",
      "Epoch 4/16\n",
      " - 14s - loss: 0.4111 - acc: 0.8207 - val_loss: 0.8638 - val_acc: 0.5679\n",
      "\n",
      "Epoch 00004: val_loss did not improve from 0.81658\n",
      "Epoch 5/16\n",
      " - 14s - loss: 0.4042 - acc: 0.8290 - val_loss: 0.8710 - val_acc: 0.5684\n",
      "\n",
      "Epoch 00005: val_loss did not improve from 0.81658\n",
      "Epoch 6/16\n",
      " - 14s - loss: 0.3992 - acc: 0.8311 - val_loss: 0.8589 - val_acc: 0.5713\n",
      "\n",
      "Epoch 00006: val_loss did not improve from 0.81658\n",
      "Epoch 7/16\n",
      " - 15s - loss: 0.3952 - acc: 0.8323 - val_loss: 0.9006 - val_acc: 0.5671\n",
      "\n",
      "Epoch 00007: val_loss did not improve from 0.81658\n",
      "Epoch 8/16\n",
      " - 14s - loss: 0.3906 - acc: 0.8343 - val_loss: 0.8788 - val_acc: 0.5729\n",
      "\n",
      "Epoch 00008: val_loss did not improve from 0.81658\n",
      "Epoch 9/16\n",
      " - 14s - loss: 0.3891 - acc: 0.8347 - val_loss: 0.8795 - val_acc: 0.5735\n",
      "\n",
      "Epoch 00009: val_loss did not improve from 0.81658\n",
      "Epoch 10/16\n",
      " - 14s - loss: 0.3880 - acc: 0.8358 - val_loss: 0.8849 - val_acc: 0.5735\n",
      "\n",
      "Epoch 00010: val_loss did not improve from 0.81658\n",
      "Epoch 11/16\n",
      " - 14s - loss: 0.3875 - acc: 0.8353 - val_loss: 0.8695 - val_acc: 0.5768\n",
      "\n",
      "Epoch 00011: val_loss did not improve from 0.81658\n",
      "Epoch 00011: early stopping\n"
     ]
    }
   ],
   "source": [
    "hist = model.fit({'app': X1_train, 'url': word_seq_train}, y_train, batch_size=batch_size, epochs=num_epochs, callbacks=callbacks_list, validation_split=0.1, shuffle=True, verbose=2)"
   ]
  },
  {
   "cell_type": "code",
   "execution_count": 76,
   "metadata": {},
   "outputs": [
    {
     "data": {
      "image/png": "[encoded data removed]",
      "text/plain": [
       "<Figure size 432x288 with 1 Axes>"
      ]
     },
     "metadata": {
      "needs_background": "light"
     },
     "output_type": "display_data"
    }
   ],
   "source": [
    "#generate plots\n",
    "plt.figure()\n",
    "plt.plot(hist.history['loss'], c='b', lw=2.0, label='train')\n",
    "plt.plot(hist.history['val_loss'], c='r', lw=2.0, label='val')\n",
    "plt.title('Multi-Modal DNN model')\n",
    "plt.xlabel('Epochs')\n",
    "plt.ylabel('Cross-Entropy Loss')\n",
    "plt.legend(loc='upper right')\n",
    "plt.grid(True)\n",
    "plt.savefig('./figures/dnn_loss.png')"
   ]
  },
  {
   "cell_type": "code",
   "execution_count": 77,
   "metadata": {},
   "outputs": [
    {
     "data": {
      "image/png": "[encoded data removed]",
      "text/plain": [
       "<Figure size 432x288 with 1 Axes>"
      ]
     },
     "metadata": {
      "needs_background": "light"
     },
     "output_type": "display_data"
    }
   ],
   "source": [
    "plt.figure()\n",
    "plt.plot(hist.history['acc'], c='b', lw=2.0, label='train')\n",
    "plt.plot(hist.history['val_acc'], c='r', lw=2.0, label='val')\n",
    "plt.title('Multi-Modal DNN model')\n",
    "plt.xlabel('Epochs')\n",
    "plt.ylabel('Accuracy')\n",
    "plt.legend(loc='upper left')\n",
    "plt.grid(True)\n",
    "plt.savefig('./figures/dnn_acc.png')"
   ]
  },
  {
   "cell_type": "code",
   "execution_count": 78,
   "metadata": {
    "scrolled": true
   },
   "outputs": [
    {
     "data": {
      "image/png": "[encoded data removed]",
      "text/plain": [
       "<Figure size 432x288 with 1 Axes>"
      ]
     },
     "metadata": {
      "needs_background": "light"
     },
     "output_type": "display_data"
    }
   ],
   "source": [
    "plt.figure()\n",
    "plt.plot(hist_lr.lr, lw=2.0, label='learning rate')\n",
    "plt.title('Multi-Moodal DNN Model')\n",
    "plt.xlabel('Epochs')\n",
    "plt.ylabel('Learning Rate')\n",
    "plt.legend()\n",
    "plt.grid(True)\n",
    "plt.savefig('./figures/dnn_learning_rate.png')"
   ]
  },
  {
   "cell_type": "code",
   "execution_count": null,
   "metadata": {},
   "outputs": [],
   "source": [
    "#plot_model(model, show_shapes=True, to_file='./figures/dnn_model.png')"
   ]
  },
  {
   "cell_type": "markdown",
   "metadata": {},
   "source": [
    "Let's load the trained model and predict on user test session data next:"
   ]
  },
  {
   "cell_type": "code",
   "execution_count": 79,
   "metadata": {},
   "outputs": [
    {
     "name": "stdout",
     "output_type": "stream",
     "text": [
      "__________________________________________________________________________________________________\n",
      "Layer (type)                    Output Shape         Param #     Connected to                     \n",
      "==================================================================================================\n",
      "app (InputLayer)                (None, 1)            0                                            \n",
      "__________________________________________________________________________________________________\n",
      "embedding_9 (Embedding)         (None, 1, 300)       4253400     app[0][0]                        \n",
      "__________________________________________________________________________________________________\n",
      "flatten_1 (Flatten)             (None, 300)          0           embedding_9[0][0]                \n",
      "__________________________________________________________________________________________________\n",
      "url (InputLayer)                (None, 5)            0                                            \n",
      "__________________________________________________________________________________________________\n",
      "dense_7 (Dense)                 (None, 128)          38528       flatten_1[0][0]                  \n",
      "__________________________________________________________________________________________________\n",
      "embedding_10 (Embedding)        (None, 5, 300)       31215600    url[0][0]                        \n",
      "__________________________________________________________________________________________________\n",
      "dense_8 (Dense)                 (None, 32)           4128        dense_7[0][0]                    \n",
      "__________________________________________________________________________________________________\n",
      "bidirectional_4 (Bidirectional) (None, 64)           85248       embedding_10[0][0]               \n",
      "__________________________________________________________________________________________________\n",
      "concatenate_4 (Concatenate)     (None, 96)           0           dense_8[0][0]                    \n",
      "                                                                 bidirectional_4[0][0]            \n",
      "__________________________________________________________________________________________________\n",
      "dropout_1 (Dropout)             (None, 96)           0           concatenate_4[0][0]              \n",
      "__________________________________________________________________________________________________\n",
      "dense_9 (Dense)                 (None, 16)           1552        dropout_1[0][0]                  \n",
      "__________________________________________________________________________________________________\n",
      "dense_10 (Dense)                (None, 1)            17          dense_9[0][0]                    \n",
      "==================================================================================================\n",
      "Total params: 35,598,473\n",
      "Trainable params: 4,382,873\n",
      "Non-trainable params: 31,215,600\n",
      "__________________________________________________________________________________________________\n"
     ]
    }
   ],
   "source": [
    "dnn_model = load_model('./data/dnn-weights-checkpoint-v7.h5')\n",
    "dnn_model.summary()"
   ]
  },
  {
   "cell_type": "code",
   "execution_count": 80,
   "metadata": {},
   "outputs": [
    {
     "name": "stdout",
     "output_type": "stream",
     "text": [
      "loading and pre-processing App test data...\n"
     ]
    },
    {
     "ename": "ValueError",
     "evalue": "y contains previously unseen labels: 'System Idle Process'",
     "output_type": "error",
     "traceback": [
      "\u001b[1;31m---------------------------------------------------------------------------\u001b[0m",
      "\u001b[1;31mKeyError\u001b[0m                                  Traceback (most recent call last)",
      "\u001b[1;32m~\\AppData\\Local\\Continuum\\anaconda3\\envs\\vss\\lib\\site-packages\\sklearn\\preprocessing\\label.py\u001b[0m in \u001b[0;36m_encode_python\u001b[1;34m(values, uniques, encode)\u001b[0m\n\u001b[0;32m     67\u001b[0m         \u001b[1;32mtry\u001b[0m\u001b[1;33m:\u001b[0m\u001b[1;33m\u001b[0m\u001b[1;33m\u001b[0m\u001b[0m\n\u001b[1;32m---> 68\u001b[1;33m             \u001b[0mencoded\u001b[0m \u001b[1;33m=\u001b[0m \u001b[0mnp\u001b[0m\u001b[1;33m.\u001b[0m\u001b[0marray\u001b[0m\u001b[1;33m(\u001b[0m\u001b[1;33m[\u001b[0m\u001b[0mtable\u001b[0m\u001b[1;33m[\u001b[0m\u001b[0mv\u001b[0m\u001b[1;33m]\u001b[0m \u001b[1;32mfor\u001b[0m \u001b[0mv\u001b[0m \u001b[1;32min\u001b[0m \u001b[0mvalues\u001b[0m\u001b[1;33m]\u001b[0m\u001b[1;33m)\u001b[0m\u001b[1;33m\u001b[0m\u001b[1;33m\u001b[0m\u001b[0m\n\u001b[0m\u001b[0;32m     69\u001b[0m         \u001b[1;32mexcept\u001b[0m \u001b[0mKeyError\u001b[0m \u001b[1;32mas\u001b[0m \u001b[0me\u001b[0m\u001b[1;33m:\u001b[0m\u001b[1;33m\u001b[0m\u001b[1;33m\u001b[0m\u001b[0m\n",
      "\u001b[1;32m~\\AppData\\Local\\Continuum\\anaconda3\\envs\\vss\\lib\\site-packages\\sklearn\\preprocessing\\label.py\u001b[0m in \u001b[0;36m<listcomp>\u001b[1;34m(.0)\u001b[0m\n\u001b[0;32m     67\u001b[0m         \u001b[1;32mtry\u001b[0m\u001b[1;33m:\u001b[0m\u001b[1;33m\u001b[0m\u001b[1;33m\u001b[0m\u001b[0m\n\u001b[1;32m---> 68\u001b[1;33m             \u001b[0mencoded\u001b[0m \u001b[1;33m=\u001b[0m \u001b[0mnp\u001b[0m\u001b[1;33m.\u001b[0m\u001b[0marray\u001b[0m\u001b[1;33m(\u001b[0m\u001b[1;33m[\u001b[0m\u001b[0mtable\u001b[0m\u001b[1;33m[\u001b[0m\u001b[0mv\u001b[0m\u001b[1;33m]\u001b[0m \u001b[1;32mfor\u001b[0m \u001b[0mv\u001b[0m \u001b[1;32min\u001b[0m \u001b[0mvalues\u001b[0m\u001b[1;33m]\u001b[0m\u001b[1;33m)\u001b[0m\u001b[1;33m\u001b[0m\u001b[1;33m\u001b[0m\u001b[0m\n\u001b[0m\u001b[0;32m     69\u001b[0m         \u001b[1;32mexcept\u001b[0m \u001b[0mKeyError\u001b[0m \u001b[1;32mas\u001b[0m \u001b[0me\u001b[0m\u001b[1;33m:\u001b[0m\u001b[1;33m\u001b[0m\u001b[1;33m\u001b[0m\u001b[0m\n",
      "\u001b[1;31mKeyError\u001b[0m: 'System Idle Process'",
      "\nDuring handling of the above exception, another exception occurred:\n",
      "\u001b[1;31mValueError\u001b[0m                                Traceback (most recent call last)",
      "\u001b[1;32m<ipython-input-80-bf5c75e91b29>\u001b[0m in \u001b[0;36m<module>\u001b[1;34m\u001b[0m\n\u001b[0;32m      5\u001b[0m \u001b[1;33m\u001b[0m\u001b[0m\n\u001b[0;32m      6\u001b[0m \u001b[1;31m#use the one-hot encoder fit on all apps to transform existing test apps\u001b[0m\u001b[1;33m\u001b[0m\u001b[1;33m\u001b[0m\u001b[1;33m\u001b[0m\u001b[0m\n\u001b[1;32m----> 7\u001b[1;33m \u001b[0mX1_test\u001b[0m \u001b[1;33m=\u001b[0m \u001b[0menc\u001b[0m\u001b[1;33m.\u001b[0m\u001b[0mtransform\u001b[0m\u001b[1;33m(\u001b[0m\u001b[0mapp_test_df\u001b[0m\u001b[1;33m[\u001b[0m\u001b[1;34m'Process'\u001b[0m\u001b[1;33m]\u001b[0m\u001b[1;33m.\u001b[0m\u001b[0mvalues\u001b[0m\u001b[1;33m.\u001b[0m\u001b[0mreshape\u001b[0m\u001b[1;33m(\u001b[0m\u001b[1;33m-\u001b[0m\u001b[1;36m1\u001b[0m\u001b[1;33m,\u001b[0m\u001b[1;36m1\u001b[0m\u001b[1;33m)\u001b[0m\u001b[1;33m)\u001b[0m\u001b[1;33m\u001b[0m\u001b[1;33m\u001b[0m\u001b[0m\n\u001b[0m\u001b[0;32m      8\u001b[0m \u001b[0mX1_test\u001b[0m\u001b[1;33m.\u001b[0m\u001b[0mshape\u001b[0m\u001b[1;33m\u001b[0m\u001b[1;33m\u001b[0m\u001b[0m\n",
      "\u001b[1;32m~\\AppData\\Local\\Continuum\\anaconda3\\envs\\vss\\lib\\site-packages\\sklearn\\preprocessing\\label.py\u001b[0m in \u001b[0;36mtransform\u001b[1;34m(self, y)\u001b[0m\n\u001b[0;32m    255\u001b[0m             \u001b[1;32mreturn\u001b[0m \u001b[0mnp\u001b[0m\u001b[1;33m.\u001b[0m\u001b[0marray\u001b[0m\u001b[1;33m(\u001b[0m\u001b[1;33m[\u001b[0m\u001b[1;33m]\u001b[0m\u001b[1;33m)\u001b[0m\u001b[1;33m\u001b[0m\u001b[1;33m\u001b[0m\u001b[0m\n\u001b[0;32m    256\u001b[0m \u001b[1;33m\u001b[0m\u001b[0m\n\u001b[1;32m--> 257\u001b[1;33m         \u001b[0m_\u001b[0m\u001b[1;33m,\u001b[0m \u001b[0my\u001b[0m \u001b[1;33m=\u001b[0m \u001b[0m_encode\u001b[0m\u001b[1;33m(\u001b[0m\u001b[0my\u001b[0m\u001b[1;33m,\u001b[0m \u001b[0muniques\u001b[0m\u001b[1;33m=\u001b[0m\u001b[0mself\u001b[0m\u001b[1;33m.\u001b[0m\u001b[0mclasses_\u001b[0m\u001b[1;33m,\u001b[0m \u001b[0mencode\u001b[0m\u001b[1;33m=\u001b[0m\u001b[1;32mTrue\u001b[0m\u001b[1;33m)\u001b[0m\u001b[1;33m\u001b[0m\u001b[1;33m\u001b[0m\u001b[0m\n\u001b[0m\u001b[0;32m    258\u001b[0m         \u001b[1;32mreturn\u001b[0m \u001b[0my\u001b[0m\u001b[1;33m\u001b[0m\u001b[1;33m\u001b[0m\u001b[0m\n\u001b[0;32m    259\u001b[0m \u001b[1;33m\u001b[0m\u001b[0m\n",
      "\u001b[1;32m~\\AppData\\Local\\Continuum\\anaconda3\\envs\\vss\\lib\\site-packages\\sklearn\\preprocessing\\label.py\u001b[0m in \u001b[0;36m_encode\u001b[1;34m(values, uniques, encode)\u001b[0m\n\u001b[0;32m    106\u001b[0m     \"\"\"\n\u001b[0;32m    107\u001b[0m     \u001b[1;32mif\u001b[0m \u001b[0mvalues\u001b[0m\u001b[1;33m.\u001b[0m\u001b[0mdtype\u001b[0m \u001b[1;33m==\u001b[0m \u001b[0mobject\u001b[0m\u001b[1;33m:\u001b[0m\u001b[1;33m\u001b[0m\u001b[1;33m\u001b[0m\u001b[0m\n\u001b[1;32m--> 108\u001b[1;33m         \u001b[1;32mreturn\u001b[0m \u001b[0m_encode_python\u001b[0m\u001b[1;33m(\u001b[0m\u001b[0mvalues\u001b[0m\u001b[1;33m,\u001b[0m \u001b[0muniques\u001b[0m\u001b[1;33m,\u001b[0m \u001b[0mencode\u001b[0m\u001b[1;33m)\u001b[0m\u001b[1;33m\u001b[0m\u001b[1;33m\u001b[0m\u001b[0m\n\u001b[0m\u001b[0;32m    109\u001b[0m     \u001b[1;32melse\u001b[0m\u001b[1;33m:\u001b[0m\u001b[1;33m\u001b[0m\u001b[1;33m\u001b[0m\u001b[0m\n\u001b[0;32m    110\u001b[0m         \u001b[1;32mreturn\u001b[0m \u001b[0m_encode_numpy\u001b[0m\u001b[1;33m(\u001b[0m\u001b[0mvalues\u001b[0m\u001b[1;33m,\u001b[0m \u001b[0muniques\u001b[0m\u001b[1;33m,\u001b[0m \u001b[0mencode\u001b[0m\u001b[1;33m)\u001b[0m\u001b[1;33m\u001b[0m\u001b[1;33m\u001b[0m\u001b[0m\n",
      "\u001b[1;32m~\\AppData\\Local\\Continuum\\anaconda3\\envs\\vss\\lib\\site-packages\\sklearn\\preprocessing\\label.py\u001b[0m in \u001b[0;36m_encode_python\u001b[1;34m(values, uniques, encode)\u001b[0m\n\u001b[0;32m     69\u001b[0m         \u001b[1;32mexcept\u001b[0m \u001b[0mKeyError\u001b[0m \u001b[1;32mas\u001b[0m \u001b[0me\u001b[0m\u001b[1;33m:\u001b[0m\u001b[1;33m\u001b[0m\u001b[1;33m\u001b[0m\u001b[0m\n\u001b[0;32m     70\u001b[0m             raise ValueError(\"y contains previously unseen labels: %s\"\n\u001b[1;32m---> 71\u001b[1;33m                              % str(e))\n\u001b[0m\u001b[0;32m     72\u001b[0m         \u001b[1;32mreturn\u001b[0m \u001b[0muniques\u001b[0m\u001b[1;33m,\u001b[0m \u001b[0mencoded\u001b[0m\u001b[1;33m\u001b[0m\u001b[1;33m\u001b[0m\u001b[0m\n\u001b[0;32m     73\u001b[0m     \u001b[1;32melse\u001b[0m\u001b[1;33m:\u001b[0m\u001b[1;33m\u001b[0m\u001b[1;33m\u001b[0m\u001b[0m\n",
      "\u001b[1;31mValueError\u001b[0m: y contains previously unseen labels: 'System Idle Process'"
     ]
    }
   ],
   "source": [
    "print(\"loading and pre-processing App test data...\")\n",
    "app_test_df = pd.read_csv('./data/AppResult.csv', sep=',')\n",
    "app_test_df['target'] = app_test_df['Label'].map({'work': 1, 'play': 0})\n",
    "y_app_test = app_test_df['target'].values\n",
    "\n",
    "#use the one-hot encoder fit on all apps to transform existing test apps\n",
    "X1_test = enc.transform(app_test_df['Process'].values.reshape(-1,1)) \n",
    "X1_test.shape"
   ]
  },
  {
   "cell_type": "code",
   "execution_count": null,
   "metadata": {},
   "outputs": [],
   "source": [
    "print(\"loading and pre-processing URL test data...\")\n",
    "url_test_df = pd.read_csv(\"./data/URLResult.csv\")\n",
    "url_test_df.columns = ['index', 'url', 'category']\n",
    "url_test_df.dropna(inplace=True)\n",
    "\n",
    "url_test_df['url_tokens'] = url_test_df['url'].apply(lambda x: tokenizer_nltk.tokenize(x))\n",
    "url_test_df['url_tokens_filtered'] = url_test_df['url_tokens'].apply(lambda sent: [word for word in sent if word not in stop_words])\n",
    "url_test_df['target'] = url_test_df['category'].map({'work': 1, 'play': 0})\n",
    "\n",
    "num_train = X1_test.shape[0]  #to match input lengths\n",
    "url_test_df = url_test_df.sample(n=num_train, replace=True, random_state=1)\n",
    "raw_docs_test = url_test_df['url_tokens_filtered']\n",
    "y_url_test = url_test_df['target'].values\n",
    "\n",
    "processed_docs_test = []\n",
    "for doc in raw_docs_test:\n",
    "    tokens = tokenizer_nltk.tokenize(\" \".join(doc))\n",
    "    filtered = [word for word in tokens if word not in stop_words]\n",
    "    processed_docs_test.append(\" \".join(filtered))\n",
    "#end for\n",
    "\n",
    "word_seq_test = tokenizer_keras.texts_to_sequences(processed_docs_test)\n",
    "word_seq_test = sequence.pad_sequences(word_seq_test, maxlen=max_seq_len)\n",
    "word_seq_test.shape\n"
   ]
  },
  {
   "cell_type": "code",
   "execution_count": null,
   "metadata": {},
   "outputs": [],
   "source": [
    "y_label_test = y_url_test | y_app_test"
   ]
  },
  {
   "cell_type": "code",
   "execution_count": null,
   "metadata": {},
   "outputs": [],
   "source": [
    "sns.distplot(y_label_test, kde=False)"
   ]
  },
  {
   "cell_type": "markdown",
   "metadata": {},
   "source": [
    "Let's evaluate the model on test data next:"
   ]
  },
  {
   "cell_type": "code",
   "execution_count": null,
   "metadata": {},
   "outputs": [],
   "source": [
    "score_prob = dnn_model.predict({'app': X1_test, 'url': word_seq_test}, batch_size=32, verbose=1)\n",
    "score_threshold = 0.5\n",
    "score_final = list(map(lambda x: 1 if x > score_threshold else 0, score_prob))"
   ]
  },
  {
   "cell_type": "code",
   "execution_count": null,
   "metadata": {},
   "outputs": [],
   "source": [
    "sns.distplot(score_prob, kde=False)\n",
    "plt.axvline(x=score_threshold, c='r', label='score threshold'); plt.grid(True); plt.legend()"
   ]
  },
  {
   "cell_type": "code",
   "execution_count": null,
   "metadata": {},
   "outputs": [],
   "source": [
    "score_data = {'y_pred': score_final, 'y_true': y_label_test}\n",
    "\n",
    "score_df = pd.DataFrame(score_data, columns=['y_true','y_pred'])\n",
    "confusion_matrix = pd.crosstab(score_df['y_true'], score_df['y_pred'], rownames=['actual'], colnames=['predicted'])\n",
    "\n",
    "sns.heatmap(confusion_matrix, annot=True)"
   ]
  },
  {
   "cell_type": "code",
   "execution_count": null,
   "metadata": {},
   "outputs": [],
   "source": [
    "clf_acc = np.trace(confusion_matrix.values)/sum(sum(confusion_matrix.values))\n",
    "print(\"classification accuracy: \", clf_acc)"
   ]
  },
  {
   "cell_type": "markdown",
   "metadata": {},
   "source": [
    "Let's export the model into ONNX format"
   ]
  },
  {
   "cell_type": "code",
   "execution_count": null,
   "metadata": {},
   "outputs": [],
   "source": [
    "output_onnx_model = './data/model-v5.onnx'\n",
    "\n",
    "# Convert the Keras model into ONNX\n",
    "onnx_model = onnxmltools.convert_keras(dnn_model)\n",
    "\n",
    "# Save as protobuf\n",
    "onnxmltools.utils.save_model(onnx_model, output_onnx_model)"
   ]
  },
  {
   "cell_type": "markdown",
   "metadata": {},
   "source": [
    "### References"
   ]
  },
  {
   "cell_type": "markdown",
   "metadata": {},
   "source": [
    "[1] Francois Chollet, \"Deep Learning with Python\", 2017 "
   ]
  }
 ],
 "metadata": {
  "kernelspec": {
   "display_name": "Python 3",
   "language": "python",
   "name": "python3"
  },
  "language_info": {
   "codemirror_mode": {
    "name": "ipython",
    "version": 3
   },
   "file_extension": ".py",
   "mimetype": "text/x-python",
   "name": "python",
   "nbconvert_exporter": "python",
   "pygments_lexer": "ipython3",
   "version": "3.6.8"
  }
 },
 "nbformat": 4,
 "nbformat_minor": 2
}
