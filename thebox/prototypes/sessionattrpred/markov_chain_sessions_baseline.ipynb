{
 "cells": [
  {
   "cell_type": "markdown",
   "metadata": {},
   "source": [
    "## Markov Chain Sessions Baseline"
   ]
  },
  {
   "cell_type": "markdown",
   "metadata": {},
   "source": [
    "The goal of the notebook is to predict next session type by learning the transition probabilities between (w)ork and (p)lay states using a Markov chain model."
   ]
  },
  {
   "cell_type": "code",
   "execution_count": 1,
   "metadata": {},
   "outputs": [
    {
     "data": {
      "image/png": "[encoded data removed]",
      "text/plain": [
       "<IPython.core.display.Image object>"
      ]
     },
     "execution_count": 1,
     "metadata": {},
     "output_type": "execute_result"
    }
   ],
   "source": [
    "from IPython.display import Image\n",
    "Image(\"figures/markov_chain.png\")"
   ]
  },
  {
   "cell_type": "markdown",
   "metadata": {},
   "source": [
    "Let $x_1,...,x_n$ be an observed sequence of transitions then we can write down the probability of sequence occurence as follows:"
   ]
  },
  {
   "cell_type": "markdown",
   "metadata": {},
   "source": [
    "\\begin{eqnarray}\n",
    "\\log p(x_1,...,x_n) &=& \\log \\big[p(x(1)=x_1 \\prod_{t=1}^{n} p(x(t+1)=x_t | x(t)=x_t) \\big] \\nonumber \\\\\n",
    "&=& \\log q(x_1) + \\sum_{t=1}^{n-1}\\log p_{x_t,x_{t+1}} \\nonumber \\\\\n",
    "&=& \\log q(x_1) + \\sum_{(i,j)}\\hat{n}(i,j)\\log p(i,j) \\nonumber\n",
    "\\end{eqnarray}"
   ]
  },
  {
   "cell_type": "markdown",
   "metadata": {},
   "source": [
    "We can estimate the transition probabilities between sessions using Maximum Likelihood Estimator (MLE) where $\\hat{n}(i,j)$ is the number of observed transitions from i to j:"
   ]
  },
  {
   "attachments": {},
   "cell_type": "markdown",
   "metadata": {},
   "source": [
    "$$\\hat{p}_{\\mathrm{mle}}(i,j) = \\frac{\\hat{n}(i,j)}{\\sum_{k}\\hat{n}(i,k)}$$"
   ]
  },
  {
   "cell_type": "markdown",
   "metadata": {},
   "source": [
    "Let's start by importing the required libraries:"
   ]
  },
  {
   "cell_type": "code",
   "execution_count": 2,
   "metadata": {},
   "outputs": [],
   "source": [
    "%matplotlib inline\n",
    "import numpy as np\n",
    "import pandas as pd\n",
    "\n",
    "import seaborn as sns\n",
    "import matplotlib.pyplot as plt\n",
    "\n",
    "from tqdm import tqdm\n",
    "from numpy import linalg as LA\n",
    "\n",
    "import warnings\n",
    "warnings.filterwarnings('ignore')"
   ]
  },
  {
   "cell_type": "code",
   "execution_count": 3,
   "metadata": {},
   "outputs": [
    {
     "name": "stdout",
     "output_type": "stream",
     "text": [
      "loading App data...\n"
     ]
    },
    {
     "data": {
      "text/html": [
       "<div>\n",
       "<style scoped>\n",
       "    .dataframe tbody tr th:only-of-type {\n",
       "        vertical-align: middle;\n",
       "    }\n",
       "\n",
       "    .dataframe tbody tr th {\n",
       "        vertical-align: top;\n",
       "    }\n",
       "\n",
       "    .dataframe thead th {\n",
       "        text-align: right;\n",
       "    }\n",
       "</style>\n",
       "<table border=\"1\" class=\"dataframe\">\n",
       "  <thead>\n",
       "    <tr style=\"text-align: right;\">\n",
       "      <th></th>\n",
       "      <th>DateTime</th>\n",
       "      <th>Process</th>\n",
       "      <th>Label</th>\n",
       "    </tr>\n",
       "  </thead>\n",
       "  <tbody>\n",
       "    <tr>\n",
       "      <th>0</th>\n",
       "      <td>2019-08-01 11:39:08.462313</td>\n",
       "      <td>System Idle Process</td>\n",
       "      <td>work</td>\n",
       "    </tr>\n",
       "    <tr>\n",
       "      <th>1</th>\n",
       "      <td>2019-08-01 11:39:08.479314</td>\n",
       "      <td>System</td>\n",
       "      <td>work</td>\n",
       "    </tr>\n",
       "    <tr>\n",
       "      <th>2</th>\n",
       "      <td>2019-08-01 11:39:08.517314</td>\n",
       "      <td>Secure System</td>\n",
       "      <td>work</td>\n",
       "    </tr>\n",
       "    <tr>\n",
       "      <th>3</th>\n",
       "      <td>2019-08-01 11:39:08.551314</td>\n",
       "      <td>Registry</td>\n",
       "      <td>work</td>\n",
       "    </tr>\n",
       "    <tr>\n",
       "      <th>4</th>\n",
       "      <td>2019-08-01 11:39:08.580315</td>\n",
       "      <td>smss.exe</td>\n",
       "      <td>work</td>\n",
       "    </tr>\n",
       "  </tbody>\n",
       "</table>\n",
       "</div>"
      ],
      "text/plain": [
       "                     DateTime              Process Label\n",
       "0  2019-08-01 11:39:08.462313  System Idle Process  work\n",
       "1  2019-08-01 11:39:08.479314               System  work\n",
       "2  2019-08-01 11:39:08.517314        Secure System  work\n",
       "3  2019-08-01 11:39:08.551314             Registry  work\n",
       "4  2019-08-01 11:39:08.580315             smss.exe  work"
      ]
     },
     "execution_count": 3,
     "metadata": {},
     "output_type": "execute_result"
    }
   ],
   "source": [
    "#load data\n",
    "print(\"loading App data...\")\n",
    "train_df = pd.read_csv('./data/AppResult.csv', sep=',')\n",
    "train_df.head()"
   ]
  },
  {
   "cell_type": "markdown",
   "metadata": {},
   "source": [
    "Let's convert start and end times to pandas datetime:"
   ]
  },
  {
   "cell_type": "code",
   "execution_count": 4,
   "metadata": {},
   "outputs": [
    {
     "name": "stdout",
     "output_type": "stream",
     "text": [
      "<class 'pandas.core.frame.DataFrame'>\n",
      "RangeIndex: 1604 entries, 0 to 1603\n",
      "Data columns (total 3 columns):\n",
      "Start      1604 non-null datetime64[ns]\n",
      "Process    1604 non-null object\n",
      "Label      1604 non-null object\n",
      "dtypes: datetime64[ns](1), object(2)\n",
      "memory usage: 37.7+ KB\n"
     ]
    }
   ],
   "source": [
    "train_df['DateTime'] = pd.to_datetime(train_df['DateTime'])\n",
    "train_df.columns = ['Start', 'Process', 'Label']\n",
    "train_df.info()"
   ]
  },
  {
   "cell_type": "code",
   "execution_count": 5,
   "metadata": {},
   "outputs": [
    {
     "data": {
      "text/html": [
       "<div>\n",
       "<style scoped>\n",
       "    .dataframe tbody tr th:only-of-type {\n",
       "        vertical-align: middle;\n",
       "    }\n",
       "\n",
       "    .dataframe tbody tr th {\n",
       "        vertical-align: top;\n",
       "    }\n",
       "\n",
       "    .dataframe thead th {\n",
       "        text-align: right;\n",
       "    }\n",
       "</style>\n",
       "<table border=\"1\" class=\"dataframe\">\n",
       "  <thead>\n",
       "    <tr style=\"text-align: right;\">\n",
       "      <th></th>\n",
       "      <th>Start</th>\n",
       "      <th>Process</th>\n",
       "      <th>Label</th>\n",
       "      <th>target</th>\n",
       "    </tr>\n",
       "  </thead>\n",
       "  <tbody>\n",
       "    <tr>\n",
       "      <th>0</th>\n",
       "      <td>2019-08-01 11:40:11.380576</td>\n",
       "      <td>svchost.exe</td>\n",
       "      <td>work</td>\n",
       "      <td>1</td>\n",
       "    </tr>\n",
       "    <tr>\n",
       "      <th>1</th>\n",
       "      <td>2019-08-01 11:46:02.269715</td>\n",
       "      <td>NVDisplay.Container.exe</td>\n",
       "      <td>play</td>\n",
       "      <td>0</td>\n",
       "    </tr>\n",
       "    <tr>\n",
       "      <th>2</th>\n",
       "      <td>2019-08-01 11:46:04.754598</td>\n",
       "      <td>RuntimeBroker.exe</td>\n",
       "      <td>play</td>\n",
       "      <td>0</td>\n",
       "    </tr>\n",
       "    <tr>\n",
       "      <th>3</th>\n",
       "      <td>2019-08-01 11:46:04.914589</td>\n",
       "      <td>hvsirpcd.exe</td>\n",
       "      <td>play</td>\n",
       "      <td>0</td>\n",
       "    </tr>\n",
       "    <tr>\n",
       "      <th>4</th>\n",
       "      <td>2019-08-01 11:39:11.403311</td>\n",
       "      <td>svchost.exe</td>\n",
       "      <td>work</td>\n",
       "      <td>1</td>\n",
       "    </tr>\n",
       "    <tr>\n",
       "      <th>5</th>\n",
       "      <td>2019-08-01 11:39:21.655992</td>\n",
       "      <td>svchost.exe</td>\n",
       "      <td>work</td>\n",
       "      <td>1</td>\n",
       "    </tr>\n",
       "    <tr>\n",
       "      <th>6</th>\n",
       "      <td>2019-08-01 11:52:57.017394</td>\n",
       "      <td>conhost.exe</td>\n",
       "      <td>play</td>\n",
       "      <td>0</td>\n",
       "    </tr>\n",
       "    <tr>\n",
       "      <th>7</th>\n",
       "      <td>2019-08-01 11:46:03.487658</td>\n",
       "      <td>CcmExec.exe</td>\n",
       "      <td>play</td>\n",
       "      <td>0</td>\n",
       "    </tr>\n",
       "    <tr>\n",
       "      <th>8</th>\n",
       "      <td>2019-08-01 11:40:13.274094</td>\n",
       "      <td>RuntimeBroker.exe</td>\n",
       "      <td>work</td>\n",
       "      <td>1</td>\n",
       "    </tr>\n",
       "    <tr>\n",
       "      <th>9</th>\n",
       "      <td>2019-08-01 11:40:18.099087</td>\n",
       "      <td>CredentialUIBroker.exe</td>\n",
       "      <td>work</td>\n",
       "      <td>1</td>\n",
       "    </tr>\n",
       "  </tbody>\n",
       "</table>\n",
       "</div>"
      ],
      "text/plain": [
       "                       Start                  Process Label  target\n",
       "0 2019-08-01 11:40:11.380576              svchost.exe  work       1\n",
       "1 2019-08-01 11:46:02.269715  NVDisplay.Container.exe  play       0\n",
       "2 2019-08-01 11:46:04.754598        RuntimeBroker.exe  play       0\n",
       "3 2019-08-01 11:46:04.914589             hvsirpcd.exe  play       0\n",
       "4 2019-08-01 11:39:11.403311              svchost.exe  work       1\n",
       "5 2019-08-01 11:39:21.655992              svchost.exe  work       1\n",
       "6 2019-08-01 11:52:57.017394              conhost.exe  play       0\n",
       "7 2019-08-01 11:46:03.487658              CcmExec.exe  play       0\n",
       "8 2019-08-01 11:40:13.274094        RuntimeBroker.exe  work       1\n",
       "9 2019-08-01 11:40:18.099087   CredentialUIBroker.exe  work       1"
      ]
     },
     "execution_count": 5,
     "metadata": {},
     "output_type": "execute_result"
    }
   ],
   "source": [
    "train_df['target'] = train_df['Label'].map({'work': 1, 'play':0})\n",
    "train_df = train_df.sample(frac=1).reset_index(drop=True)\n",
    "train_df.head(10)"
   ]
  },
  {
   "cell_type": "code",
   "execution_count": 6,
   "metadata": {},
   "outputs": [
    {
     "data": {
      "text/plain": [
       "array([1, 0, 0, ..., 0, 1, 1], dtype=int64)"
      ]
     },
     "execution_count": 6,
     "metadata": {},
     "output_type": "execute_result"
    }
   ],
   "source": [
    "transitions = train_df['target'].values\n",
    "transitions"
   ]
  },
  {
   "cell_type": "markdown",
   "metadata": {},
   "source": [
    "Let's compute the number of observed transitions $n(i,j)$ based on training data:"
   ]
  },
  {
   "cell_type": "code",
   "execution_count": 7,
   "metadata": {},
   "outputs": [
    {
     "name": "stdout",
     "output_type": "stream",
     "text": [
      "transition counts: \n",
      "[[185. 353.]\n",
      " [353. 712.]]\n"
     ]
    }
   ],
   "source": [
    "nij = np.zeros((2,2))\n",
    "for idx in range(len(transitions)-1):\n",
    "    cur = transitions[idx]\n",
    "    nxt = transitions[idx+1]\n",
    "    \n",
    "    if (cur == 0 and nxt == 0):\n",
    "        nij[0,0] += 1\n",
    "    elif (cur == 0 and nxt == 1):\n",
    "        nij[0,1] += 1\n",
    "    elif (cur == 1 and nxt == 0):\n",
    "        nij[1,0] += 1\n",
    "    elif (cur == 1 and nxt == 1):\n",
    "        nij[1,1] += 1\n",
    "    else:\n",
    "        continue\n",
    "#end for\n",
    "print(\"transition counts: \")\n",
    "print(nij)"
   ]
  },
  {
   "cell_type": "code",
   "execution_count": 8,
   "metadata": {},
   "outputs": [
    {
     "name": "stdout",
     "output_type": "stream",
     "text": [
      "transition probabilities: \n",
      "[[0.34386617 0.65613383]\n",
      " [0.3314554  0.6685446 ]]\n"
     ]
    }
   ],
   "source": [
    "p_mle = np.zeros((2,2))\n",
    "p_mle[0,0] = nij[0,0]/np.sum(nij[0,:])\n",
    "p_mle[0,1] = nij[0,1]/np.sum(nij[0,:])\n",
    "p_mle[1,0] = nij[1,0]/np.sum(nij[1,:])\n",
    "p_mle[1,1] = nij[1,1]/np.sum(nij[1,:])\n",
    "print(\"transition probabilities: \")\n",
    "print(p_mle)"
   ]
  },
  {
   "cell_type": "markdown",
   "metadata": {},
   "source": [
    "Let's look at the eigen value of the transition matrix:"
   ]
  },
  {
   "cell_type": "code",
   "execution_count": 9,
   "metadata": {},
   "outputs": [
    {
     "name": "stdout",
     "output_type": "stream",
     "text": [
      "[0.01241077 1.        ]\n",
      "[[-0.89257577 -0.70710678]\n",
      " [ 0.45089743 -0.70710678]]\n"
     ]
    }
   ],
   "source": [
    "w, v = LA.eig(p_mle)\n",
    "print(w)\n",
    "print(v)"
   ]
  },
  {
   "cell_type": "markdown",
   "metadata": {},
   "source": [
    "Let's use the transition probability matrix to simulate the markov chain. We can define the initial probability of being in work and play states as p_init:"
   ]
  },
  {
   "cell_type": "code",
   "execution_count": 16,
   "metadata": {},
   "outputs": [
    {
     "name": "stdout",
     "output_type": "stream",
     "text": [
      "current transition probability vector:\n",
      "[0.40137243 0.40137243]\n",
      "generated sequence (0: play, 1: work): \n",
      "[0, 0, 0, 0, 0, 0, 0, 0, 1, 1, 0, 1, 1, 1, 1, 1, 1, 1, 1, 1, 1, 1, 1, 1, 1, 1, 1, 1, 1, 1, 1, 1, 1, 1, 1, 1, 1, 1, 1, 1, 1, 1, 1, 1, 1, 1, 1, 1, 1, 1]\n"
     ]
    }
   ],
   "source": [
    "p_init = np.array([0.8, 0.2])\n",
    "p_cur = p_init\n",
    "num_transitions = 50\n",
    "gen_sequence = []\n",
    "for idx in range(num_transitions):\n",
    "    p_nxt = np.dot(p_mle, p_cur)\n",
    "    p_cur = p_nxt\n",
    "    state = np.argmax(p_nxt)\n",
    "    gen_sequence.append(state)\n",
    "#end for\n",
    "print(\"current transition probability vector:\")\n",
    "print(p_nxt)\n",
    "print(\"generated sequence (0: play, 1: work): \")\n",
    "print(gen_sequence)"
   ]
  },
  {
   "cell_type": "code",
   "execution_count": 25,
   "metadata": {},
   "outputs": [
    {
     "name": "stderr",
     "output_type": "stream",
     "text": [
      "No handles with labels found to put in legend.\n"
     ]
    },
    {
     "data": {
      "text/plain": [
       "<matplotlib.legend.Legend at 0x15e35efd630>"
      ]
     },
     "execution_count": 25,
     "metadata": {},
     "output_type": "execute_result"
    },
    {
     "data": {
      "image/png": "[encoded data removed]",
      "text/plain": [
       "<Figure size 432x288 with 1 Axes>"
      ]
     },
     "metadata": {
      "needs_background": "light"
     },
     "output_type": "display_data"
    }
   ],
   "source": [
    "plt.plot(gen_sequence)\n",
    "plt.title(\"Generated State Sequence\"); plt.xlabel(\"event\"); plt.ylabel('state'); plt.grid(True); plt.legend()"
   ]
  },
  {
   "cell_type": "code",
   "execution_count": 24,
   "metadata": {},
   "outputs": [
    {
     "data": {
      "image/png": "[encoded data removed]",
      "text/plain": [
       "<Figure size 432x288 with 2 Axes>"
      ]
     },
     "metadata": {
      "needs_background": "light"
     },
     "output_type": "display_data"
    }
   ],
   "source": [
    "sns.heatmap(p_mle, annot=True, fmt=\"f\", linewidths=.5)\n",
    "plt.title(\"Transition Probability\"); plt.xlabel(\"To\"); plt.ylabel(\"From\");"
   ]
  },
  {
   "cell_type": "markdown",
   "metadata": {},
   "source": [
    "### References"
   ]
  },
  {
   "cell_type": "markdown",
   "metadata": {},
   "source": [
    "[1] J. Kingman, \"Poisson Processes\", Oxford Studies in Probability, Clarendon Press, 1993  \n",
    "[2] A. Patil et al. PyMC: Bayesian Stochastic Modelling in Python, Journal of Statistical Software, 2010"
   ]
  }
 ],
 "metadata": {
  "kernelspec": {
   "display_name": "Python 3",
   "language": "python",
   "name": "python3"
  },
  "language_info": {
   "codemirror_mode": {
    "name": "ipython",
    "version": 3
   },
   "file_extension": ".py",
   "mimetype": "text/x-python",
   "name": "python",
   "nbconvert_exporter": "python",
   "pygments_lexer": "ipython3",
   "version": "3.6.8"
  }
 },
 "nbformat": 4,
 "nbformat_minor": 2
}
