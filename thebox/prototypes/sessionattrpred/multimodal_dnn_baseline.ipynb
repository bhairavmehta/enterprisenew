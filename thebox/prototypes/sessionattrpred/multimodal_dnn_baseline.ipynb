{
 "cells": [
  {
   "cell_type": "markdown",
   "metadata": {},
   "source": [
    "##  Multi-Modal DNN"
   ]
  },
  {
   "cell_type": "markdown",
   "metadata": {},
   "source": [
    "The goal of this notebook is to explore multi-modal DNN model [1] as it applies to App intent classification (e.g. work vs play or commercial vs personal app usage) based on multi-modal inputs: URLs and Apps."
   ]
  },
  {
   "cell_type": "markdown",
   "metadata": {},
   "source": [
    "An additional goal is to build on top of intent classification in order for App to know more about its session, e.g. session type, current session length and be able to predict session endtime and next session type."
   ]
  },
  {
   "cell_type": "markdown",
   "metadata": {},
   "source": [
    "Let's start by importing the required libraries"
   ]
  },
  {
   "cell_type": "code",
   "execution_count": 1,
   "metadata": {},
   "outputs": [],
   "source": [
    "import numpy as np\n",
    "import pandas as pd\n",
    "import seaborn as sns\n",
    "import matplotlib.pyplot as plt\n",
    "\n",
    "import os\n",
    "import re\n",
    "import csv\n",
    "import math\n",
    "import codecs\n",
    "from collections import Counter\n",
    "from sklearn.preprocessing import OneHotEncoder\n",
    "from sklearn.metrics import confusion_matrix\n",
    "from sklearn.model_selection import train_test_split\n",
    "\n",
    "from nltk.corpus import stopwords\n",
    "from nltk.tokenize import word_tokenize\n",
    "from nltk.tokenize import RegexpTokenizer \n",
    "from nltk.stem import SnowballStemmer\n",
    "\n",
    "import onnxmltools\n",
    "\n",
    "import warnings\n",
    "warnings.filterwarnings('ignore')"
   ]
  },
  {
   "cell_type": "code",
   "execution_count": 2,
   "metadata": {},
   "outputs": [
    {
     "name": "stderr",
     "output_type": "stream",
     "text": [
      "Using TensorFlow backend.\n"
     ]
    }
   ],
   "source": [
    "import keras\n",
    "from keras import Input\n",
    "from keras import optimizers\n",
    "from keras import regularizers\n",
    "from keras.models import Model\n",
    "from keras.layers import Dense, Dropout, concatenate\n",
    "from keras.layers import Bidirectional, Embedding, LSTM\n",
    "\n",
    "from keras.utils import np_utils\n",
    "from keras.utils import plot_model\n",
    "from keras.datasets import reuters\n",
    "from keras.models import load_model\n",
    "from keras.preprocessing import sequence\n",
    "from keras.preprocessing.text import Tokenizer\n",
    "\n",
    "from keras.callbacks import ModelCheckpoint\n",
    "from keras.callbacks import TensorBoard\n",
    "from keras.callbacks import LearningRateScheduler\n",
    "from keras.callbacks import EarlyStopping\n",
    "\n",
    "from tqdm import tqdm"
   ]
  },
  {
   "cell_type": "code",
   "execution_count": 3,
   "metadata": {},
   "outputs": [],
   "source": [
    "def step_decay(epoch):\n",
    "    lr_init = 0.001\n",
    "    drop = 0.5\n",
    "    epochs_drop = 4.0\n",
    "    lr_new = lr_init * math.pow(drop, math.floor((1+epoch)/epochs_drop))\n",
    "    return lr_new"
   ]
  },
  {
   "cell_type": "code",
   "execution_count": 4,
   "metadata": {},
   "outputs": [],
   "source": [
    "class LR_hist(keras.callbacks.Callback):\n",
    "    def on_train_begin(self, logs={}):\n",
    "        self.losses = []\n",
    "        self.lr = []\n",
    "\n",
    "    def on_epoch_end(self, batch, logs={}):\n",
    "        self.losses.append(logs.get('loss'))\n",
    "        self.lr.append(step_decay(len(self.losses)))"
   ]
  },
  {
   "cell_type": "code",
   "execution_count": 5,
   "metadata": {},
   "outputs": [
    {
     "name": "stdout",
     "output_type": "stream",
     "text": [
      "loading FastText word embeddings...\n"
     ]
    },
    {
     "name": "stderr",
     "output_type": "stream",
     "text": [
      "999995it [02:13, 7490.29it/s]\n"
     ]
    },
    {
     "name": "stdout",
     "output_type": "stream",
     "text": [
      "found 999995 word vectors\n"
     ]
    }
   ],
   "source": [
    "#load embeddings\n",
    "print('loading FastText word embeddings...')\n",
    "EMBEDDING_DIR = './data/'\n",
    "embeddings_index = {}\n",
    "f = codecs.open(os.path.join(EMBEDDING_DIR, 'wiki-news-300d-1M-subword.vec'), encoding='utf-8')\n",
    "for line in tqdm(f):\n",
    "    values = line.split(' ')\n",
    "    word = values[0]\n",
    "    coefs = np.asarray(values[1:], dtype='float32')\n",
    "    embeddings_index[word] = coefs\n",
    "f.close()\n",
    "print('found %s word vectors' % len(embeddings_index))"
   ]
  },
  {
   "cell_type": "code",
   "execution_count": 6,
   "metadata": {},
   "outputs": [
    {
     "name": "stdout",
     "output_type": "stream",
     "text": [
      "loading URLs dataset...\n"
     ]
    },
    {
     "data": {
      "text/html": [
       "<div>\n",
       "<style scoped>\n",
       "    .dataframe tbody tr th:only-of-type {\n",
       "        vertical-align: middle;\n",
       "    }\n",
       "\n",
       "    .dataframe tbody tr th {\n",
       "        vertical-align: top;\n",
       "    }\n",
       "\n",
       "    .dataframe thead th {\n",
       "        text-align: right;\n",
       "    }\n",
       "</style>\n",
       "<table border=\"1\" class=\"dataframe\">\n",
       "  <thead>\n",
       "    <tr style=\"text-align: right;\">\n",
       "      <th></th>\n",
       "      <th>index</th>\n",
       "      <th>url</th>\n",
       "      <th>category</th>\n",
       "    </tr>\n",
       "  </thead>\n",
       "  <tbody>\n",
       "    <tr>\n",
       "      <th>1562973</th>\n",
       "      <td>1562974</td>\n",
       "      <td>http://www.maxpreps.com/</td>\n",
       "      <td>Sports</td>\n",
       "    </tr>\n",
       "    <tr>\n",
       "      <th>1562974</th>\n",
       "      <td>1562975</td>\n",
       "      <td>http://www.myscore.com/</td>\n",
       "      <td>Sports</td>\n",
       "    </tr>\n",
       "    <tr>\n",
       "      <th>1562975</th>\n",
       "      <td>1562976</td>\n",
       "      <td>http://sportsillustrated.cnn.com/highschool</td>\n",
       "      <td>Sports</td>\n",
       "    </tr>\n",
       "    <tr>\n",
       "      <th>1562976</th>\n",
       "      <td>1562977</td>\n",
       "      <td>http://rss.cnn.com/rss/si_highschool?format=xml</td>\n",
       "      <td>Sports</td>\n",
       "    </tr>\n",
       "    <tr>\n",
       "      <th>1562977</th>\n",
       "      <td>1562978</td>\n",
       "      <td>http://www.usatoday.com/sports/preps/</td>\n",
       "      <td>Sports</td>\n",
       "    </tr>\n",
       "  </tbody>\n",
       "</table>\n",
       "</div>"
      ],
      "text/plain": [
       "           index                                              url category\n",
       "1562973  1562974                         http://www.maxpreps.com/   Sports\n",
       "1562974  1562975                          http://www.myscore.com/   Sports\n",
       "1562975  1562976      http://sportsillustrated.cnn.com/highschool   Sports\n",
       "1562976  1562977  http://rss.cnn.com/rss/si_highschool?format=xml   Sports\n",
       "1562977  1562978            http://www.usatoday.com/sports/preps/   Sports"
      ]
     },
     "execution_count": 6,
     "metadata": {},
     "output_type": "execute_result"
    }
   ],
   "source": [
    "print(\"loading URLs dataset...\")\n",
    "url_df = pd.read_csv(\"./data/URL.csv\", header=None)\n",
    "url_df.columns = ['index', 'url', 'category']\n",
    "url_df.dropna(inplace=True)\n",
    "url_df.tail()"
   ]
  },
  {
   "cell_type": "markdown",
   "metadata": {},
   "source": [
    "Let's visualize the category label distribution (TODO: retreive the title of the URL page):"
   ]
  },
  {
   "cell_type": "code",
   "execution_count": 7,
   "metadata": {},
   "outputs": [
    {
     "data": {
      "text/plain": [
       "([<matplotlib.axis.XTick at 0x203554845f8>,\n",
       "  <matplotlib.axis.XTick at 0x2035547e908>,\n",
       "  <matplotlib.axis.XTick at 0x2035547e550>,\n",
       "  <matplotlib.axis.XTick at 0x2035650a550>,\n",
       "  <matplotlib.axis.XTick at 0x2035650a9e8>,\n",
       "  <matplotlib.axis.XTick at 0x2035650aeb8>,\n",
       "  <matplotlib.axis.XTick at 0x2035651a470>,\n",
       "  <matplotlib.axis.XTick at 0x2035651a9e8>,\n",
       "  <matplotlib.axis.XTick at 0x2035651af60>,\n",
       "  <matplotlib.axis.XTick at 0x2035650a940>,\n",
       "  <matplotlib.axis.XTick at 0x2035651f400>,\n",
       "  <matplotlib.axis.XTick at 0x2035651f978>,\n",
       "  <matplotlib.axis.XTick at 0x2035651fef0>,\n",
       "  <matplotlib.axis.XTick at 0x2035651e4a8>,\n",
       "  <matplotlib.axis.XTick at 0x2035651ea20>],\n",
       " <a list of 15 Text xticklabel objects>)"
      ]
     },
     "execution_count": 7,
     "metadata": {},
     "output_type": "execute_result"
    },
    {
     "data": {
      "image/png": "[encoded data removed]",
      "text/plain": [
       "<Figure size 432x288 with 1 Axes>"
      ]
     },
     "metadata": {
      "needs_background": "light"
     },
     "output_type": "display_data"
    }
   ],
   "source": [
    "cnt = Counter(url_df['category'])\n",
    "idx = range(len(cnt))\n",
    "barlist = plt.bar(idx, cnt.values()) #legend: red (work), blue (play)\n",
    "barlist[2].set_color('r'); barlist[3].set_color('r'); barlist[5].set_color('r'); barlist[6].set_color('r')\n",
    "barlist[10].set_color('r'); barlist[11].set_color('r'); barlist[13].set_color('r')\n",
    "plt.xticks(idx, cnt.keys(), rotation=90)"
   ]
  },
  {
   "cell_type": "code",
   "execution_count": 8,
   "metadata": {},
   "outputs": [],
   "source": [
    "#text pre-processing\n",
    "MAX_NB_WORDS = 1e6\n",
    "tokenizer_nltk = RegexpTokenizer(r'[a-zA-Z]+')\n",
    "stop_words = set(stopwords.words('english'))\n",
    "stop_words.update(['http', 'https', 'www', 'com', 'html', 'org', 'ru', 'jp', 'uk', 'ca', '//'])\n",
    "#stemmer = SnowballStemmer('english')"
   ]
  },
  {
   "cell_type": "code",
   "execution_count": 9,
   "metadata": {},
   "outputs": [
    {
     "data": {
      "text/html": [
       "<div>\n",
       "<style scoped>\n",
       "    .dataframe tbody tr th:only-of-type {\n",
       "        vertical-align: middle;\n",
       "    }\n",
       "\n",
       "    .dataframe tbody tr th {\n",
       "        vertical-align: top;\n",
       "    }\n",
       "\n",
       "    .dataframe thead th {\n",
       "        text-align: right;\n",
       "    }\n",
       "</style>\n",
       "<table border=\"1\" class=\"dataframe\">\n",
       "  <thead>\n",
       "    <tr style=\"text-align: right;\">\n",
       "      <th></th>\n",
       "      <th>index</th>\n",
       "      <th>url</th>\n",
       "      <th>category</th>\n",
       "      <th>url_tokens</th>\n",
       "      <th>url_tokens_filtered</th>\n",
       "    </tr>\n",
       "  </thead>\n",
       "  <tbody>\n",
       "    <tr>\n",
       "      <th>1562973</th>\n",
       "      <td>1562974</td>\n",
       "      <td>http://www.maxpreps.com/</td>\n",
       "      <td>Sports</td>\n",
       "      <td>[http, www, maxpreps, com]</td>\n",
       "      <td>[maxpreps]</td>\n",
       "    </tr>\n",
       "    <tr>\n",
       "      <th>1562974</th>\n",
       "      <td>1562975</td>\n",
       "      <td>http://www.myscore.com/</td>\n",
       "      <td>Sports</td>\n",
       "      <td>[http, www, myscore, com]</td>\n",
       "      <td>[myscore]</td>\n",
       "    </tr>\n",
       "    <tr>\n",
       "      <th>1562975</th>\n",
       "      <td>1562976</td>\n",
       "      <td>http://sportsillustrated.cnn.com/highschool</td>\n",
       "      <td>Sports</td>\n",
       "      <td>[http, sportsillustrated, cnn, com, highschool]</td>\n",
       "      <td>[sportsillustrated, cnn, highschool]</td>\n",
       "    </tr>\n",
       "    <tr>\n",
       "      <th>1562976</th>\n",
       "      <td>1562977</td>\n",
       "      <td>http://rss.cnn.com/rss/si_highschool?format=xml</td>\n",
       "      <td>Sports</td>\n",
       "      <td>[http, rss, cnn, com, rss, si, highschool, for...</td>\n",
       "      <td>[rss, cnn, rss, si, highschool, format, xml]</td>\n",
       "    </tr>\n",
       "    <tr>\n",
       "      <th>1562977</th>\n",
       "      <td>1562978</td>\n",
       "      <td>http://www.usatoday.com/sports/preps/</td>\n",
       "      <td>Sports</td>\n",
       "      <td>[http, www, usatoday, com, sports, preps]</td>\n",
       "      <td>[usatoday, sports, preps]</td>\n",
       "    </tr>\n",
       "  </tbody>\n",
       "</table>\n",
       "</div>"
      ],
      "text/plain": [
       "           index                                              url category  \\\n",
       "1562973  1562974                         http://www.maxpreps.com/   Sports   \n",
       "1562974  1562975                          http://www.myscore.com/   Sports   \n",
       "1562975  1562976      http://sportsillustrated.cnn.com/highschool   Sports   \n",
       "1562976  1562977  http://rss.cnn.com/rss/si_highschool?format=xml   Sports   \n",
       "1562977  1562978            http://www.usatoday.com/sports/preps/   Sports   \n",
       "\n",
       "                                                url_tokens  \\\n",
       "1562973                         [http, www, maxpreps, com]   \n",
       "1562974                          [http, www, myscore, com]   \n",
       "1562975    [http, sportsillustrated, cnn, com, highschool]   \n",
       "1562976  [http, rss, cnn, com, rss, si, highschool, for...   \n",
       "1562977          [http, www, usatoday, com, sports, preps]   \n",
       "\n",
       "                                  url_tokens_filtered  \n",
       "1562973                                    [maxpreps]  \n",
       "1562974                                     [myscore]  \n",
       "1562975          [sportsillustrated, cnn, highschool]  \n",
       "1562976  [rss, cnn, rss, si, highschool, format, xml]  \n",
       "1562977                     [usatoday, sports, preps]  "
      ]
     },
     "execution_count": 9,
     "metadata": {},
     "output_type": "execute_result"
    }
   ],
   "source": [
    "url_df['url_tokens'] = url_df['url'].apply(lambda x: tokenizer_nltk.tokenize(x))\n",
    "url_df['url_tokens_filtered'] = url_df['url_tokens'].apply(lambda sent: [word for word in sent if word not in stop_words])\n",
    "url_df.tail()"
   ]
  },
  {
   "cell_type": "code",
   "execution_count": 10,
   "metadata": {},
   "outputs": [
    {
     "data": {
      "text/plain": [
       "'http://rss.cnn.com/rss/si_highschool?format=xml'"
      ]
     },
     "execution_count": 10,
     "metadata": {},
     "output_type": "execute_result"
    }
   ],
   "source": [
    "url_df.loc[1562976, 'url']"
   ]
  },
  {
   "cell_type": "markdown",
   "metadata": {},
   "source": [
    "Let's define a mapping between URL categories and work / play label:"
   ]
  },
  {
   "cell_type": "code",
   "execution_count": 11,
   "metadata": {},
   "outputs": [
    {
     "data": {
      "text/html": [
       "<div>\n",
       "<style scoped>\n",
       "    .dataframe tbody tr th:only-of-type {\n",
       "        vertical-align: middle;\n",
       "    }\n",
       "\n",
       "    .dataframe tbody tr th {\n",
       "        vertical-align: top;\n",
       "    }\n",
       "\n",
       "    .dataframe thead th {\n",
       "        text-align: right;\n",
       "    }\n",
       "</style>\n",
       "<table border=\"1\" class=\"dataframe\">\n",
       "  <thead>\n",
       "    <tr style=\"text-align: right;\">\n",
       "      <th></th>\n",
       "      <th>category_name</th>\n",
       "      <th>workplay_name</th>\n",
       "      <th>workplay_label</th>\n",
       "    </tr>\n",
       "  </thead>\n",
       "  <tbody>\n",
       "    <tr>\n",
       "      <th>0</th>\n",
       "      <td>Adult</td>\n",
       "      <td>p</td>\n",
       "      <td>0</td>\n",
       "    </tr>\n",
       "    <tr>\n",
       "      <th>1</th>\n",
       "      <td>Arts</td>\n",
       "      <td>p</td>\n",
       "      <td>0</td>\n",
       "    </tr>\n",
       "    <tr>\n",
       "      <th>2</th>\n",
       "      <td>Business</td>\n",
       "      <td>w</td>\n",
       "      <td>1</td>\n",
       "    </tr>\n",
       "    <tr>\n",
       "      <th>3</th>\n",
       "      <td>Computers</td>\n",
       "      <td>w</td>\n",
       "      <td>1</td>\n",
       "    </tr>\n",
       "    <tr>\n",
       "      <th>4</th>\n",
       "      <td>Games</td>\n",
       "      <td>p</td>\n",
       "      <td>0</td>\n",
       "    </tr>\n",
       "    <tr>\n",
       "      <th>5</th>\n",
       "      <td>Health</td>\n",
       "      <td>w</td>\n",
       "      <td>1</td>\n",
       "    </tr>\n",
       "    <tr>\n",
       "      <th>6</th>\n",
       "      <td>Home</td>\n",
       "      <td>w</td>\n",
       "      <td>1</td>\n",
       "    </tr>\n",
       "    <tr>\n",
       "      <th>7</th>\n",
       "      <td>Kids</td>\n",
       "      <td>p</td>\n",
       "      <td>0</td>\n",
       "    </tr>\n",
       "    <tr>\n",
       "      <th>8</th>\n",
       "      <td>News</td>\n",
       "      <td>p</td>\n",
       "      <td>0</td>\n",
       "    </tr>\n",
       "    <tr>\n",
       "      <th>9</th>\n",
       "      <td>Recreation</td>\n",
       "      <td>p</td>\n",
       "      <td>0</td>\n",
       "    </tr>\n",
       "    <tr>\n",
       "      <th>10</th>\n",
       "      <td>Reference</td>\n",
       "      <td>w</td>\n",
       "      <td>1</td>\n",
       "    </tr>\n",
       "    <tr>\n",
       "      <th>11</th>\n",
       "      <td>Science</td>\n",
       "      <td>w</td>\n",
       "      <td>1</td>\n",
       "    </tr>\n",
       "    <tr>\n",
       "      <th>12</th>\n",
       "      <td>Shopping</td>\n",
       "      <td>p</td>\n",
       "      <td>0</td>\n",
       "    </tr>\n",
       "    <tr>\n",
       "      <th>13</th>\n",
       "      <td>Society</td>\n",
       "      <td>w</td>\n",
       "      <td>1</td>\n",
       "    </tr>\n",
       "    <tr>\n",
       "      <th>14</th>\n",
       "      <td>Sports</td>\n",
       "      <td>p</td>\n",
       "      <td>0</td>\n",
       "    </tr>\n",
       "  </tbody>\n",
       "</table>\n",
       "</div>"
      ],
      "text/plain": [
       "   category_name workplay_name workplay_label\n",
       "0          Adult             p              0\n",
       "1           Arts             p              0\n",
       "2       Business             w              1\n",
       "3      Computers             w              1\n",
       "4          Games             p              0\n",
       "5         Health             w              1\n",
       "6           Home             w              1\n",
       "7           Kids             p              0\n",
       "8           News             p              0\n",
       "9     Recreation             p              0\n",
       "10     Reference             w              1\n",
       "11       Science             w              1\n",
       "12      Shopping             p              0\n",
       "13       Society             w              1\n",
       "14        Sports             p              0"
      ]
     },
     "execution_count": 11,
     "metadata": {},
     "output_type": "execute_result"
    }
   ],
   "source": [
    "label_df = pd.DataFrame({'category_name': list(cnt.keys()), \n",
    "                         'workplay_name':  ['p','p','w','w','p','w','w','p','p','p','w','w','p','w','p'],\n",
    "                         'workplay_label': ['0','0','1','1','0','1','1','0','0','0','1','1','0','1','0'],\n",
    "                        })\n",
    "label_df.head(15)"
   ]
  },
  {
   "cell_type": "code",
   "execution_count": 12,
   "metadata": {},
   "outputs": [],
   "source": [
    "label_map_url = {'Adult': 0, 'Arts': 0, 'Business': 1, 'Computers': 1, 'Games': 0, 'Health': 1,\n",
    "                 'Home': 1, 'Kids': 0, 'News': 0, 'Recreation': 0, 'Reference': 1, 'Science': 1,\n",
    "                 'Shopping': 0, 'Society': 1, 'Sports': 0}"
   ]
  },
  {
   "cell_type": "code",
   "execution_count": 13,
   "metadata": {},
   "outputs": [
    {
     "data": {
      "text/html": [
       "<div>\n",
       "<style scoped>\n",
       "    .dataframe tbody tr th:only-of-type {\n",
       "        vertical-align: middle;\n",
       "    }\n",
       "\n",
       "    .dataframe tbody tr th {\n",
       "        vertical-align: top;\n",
       "    }\n",
       "\n",
       "    .dataframe thead th {\n",
       "        text-align: right;\n",
       "    }\n",
       "</style>\n",
       "<table border=\"1\" class=\"dataframe\">\n",
       "  <thead>\n",
       "    <tr style=\"text-align: right;\">\n",
       "      <th></th>\n",
       "      <th>index</th>\n",
       "      <th>url</th>\n",
       "      <th>category</th>\n",
       "      <th>url_tokens</th>\n",
       "      <th>url_tokens_filtered</th>\n",
       "      <th>target</th>\n",
       "    </tr>\n",
       "  </thead>\n",
       "  <tbody>\n",
       "    <tr>\n",
       "      <th>1562973</th>\n",
       "      <td>1562974</td>\n",
       "      <td>http://www.maxpreps.com/</td>\n",
       "      <td>Sports</td>\n",
       "      <td>[http, www, maxpreps, com]</td>\n",
       "      <td>[maxpreps]</td>\n",
       "      <td>0</td>\n",
       "    </tr>\n",
       "    <tr>\n",
       "      <th>1562974</th>\n",
       "      <td>1562975</td>\n",
       "      <td>http://www.myscore.com/</td>\n",
       "      <td>Sports</td>\n",
       "      <td>[http, www, myscore, com]</td>\n",
       "      <td>[myscore]</td>\n",
       "      <td>0</td>\n",
       "    </tr>\n",
       "    <tr>\n",
       "      <th>1562975</th>\n",
       "      <td>1562976</td>\n",
       "      <td>http://sportsillustrated.cnn.com/highschool</td>\n",
       "      <td>Sports</td>\n",
       "      <td>[http, sportsillustrated, cnn, com, highschool]</td>\n",
       "      <td>[sportsillustrated, cnn, highschool]</td>\n",
       "      <td>0</td>\n",
       "    </tr>\n",
       "    <tr>\n",
       "      <th>1562976</th>\n",
       "      <td>1562977</td>\n",
       "      <td>http://rss.cnn.com/rss/si_highschool?format=xml</td>\n",
       "      <td>Sports</td>\n",
       "      <td>[http, rss, cnn, com, rss, si, highschool, for...</td>\n",
       "      <td>[rss, cnn, rss, si, highschool, format, xml]</td>\n",
       "      <td>0</td>\n",
       "    </tr>\n",
       "    <tr>\n",
       "      <th>1562977</th>\n",
       "      <td>1562978</td>\n",
       "      <td>http://www.usatoday.com/sports/preps/</td>\n",
       "      <td>Sports</td>\n",
       "      <td>[http, www, usatoday, com, sports, preps]</td>\n",
       "      <td>[usatoday, sports, preps]</td>\n",
       "      <td>0</td>\n",
       "    </tr>\n",
       "  </tbody>\n",
       "</table>\n",
       "</div>"
      ],
      "text/plain": [
       "           index                                              url category  \\\n",
       "1562973  1562974                         http://www.maxpreps.com/   Sports   \n",
       "1562974  1562975                          http://www.myscore.com/   Sports   \n",
       "1562975  1562976      http://sportsillustrated.cnn.com/highschool   Sports   \n",
       "1562976  1562977  http://rss.cnn.com/rss/si_highschool?format=xml   Sports   \n",
       "1562977  1562978            http://www.usatoday.com/sports/preps/   Sports   \n",
       "\n",
       "                                                url_tokens  \\\n",
       "1562973                         [http, www, maxpreps, com]   \n",
       "1562974                          [http, www, myscore, com]   \n",
       "1562975    [http, sportsillustrated, cnn, com, highschool]   \n",
       "1562976  [http, rss, cnn, com, rss, si, highschool, for...   \n",
       "1562977          [http, www, usatoday, com, sports, preps]   \n",
       "\n",
       "                                  url_tokens_filtered  target  \n",
       "1562973                                    [maxpreps]       0  \n",
       "1562974                                     [myscore]       0  \n",
       "1562975          [sportsillustrated, cnn, highschool]       0  \n",
       "1562976  [rss, cnn, rss, si, highschool, format, xml]       0  \n",
       "1562977                     [usatoday, sports, preps]       0  "
      ]
     },
     "execution_count": 13,
     "metadata": {},
     "output_type": "execute_result"
    }
   ],
   "source": [
    "url_df['target'] = url_df['category'].map(label_map_url)\n",
    "url_df.tail()"
   ]
  },
  {
   "cell_type": "code",
   "execution_count": 14,
   "metadata": {},
   "outputs": [
    {
     "name": "stdout",
     "output_type": "stream",
     "text": [
      "100000 training examples, 0 test examples and 2 unique labels\n"
     ]
    }
   ],
   "source": [
    "num_train = 100000 #int(0.8*len(dataset['target']))  #should match num_train of App dataset!\n",
    "url_train_df = url_df.sample(n=num_train, random_state=1)\n",
    "#url_test_df = url_df.sample(n=num_train, random_state=1)\n",
    "raw_docs_train = url_train_df['url_tokens_filtered']\n",
    "#raw_docs_test = url_test_df['url_tokens_filtered']\n",
    "label_train = url_train_df['target'].values\n",
    "#label_test = url_test_df['target'].values\n",
    "num_labels = len(np.unique(label_train))\n",
    "print(\"{} training examples, {} test examples and {} unique labels\".format(num_train, len(url_train_df['target'])-num_train, num_labels))"
   ]
  },
  {
   "cell_type": "code",
   "execution_count": 15,
   "metadata": {},
   "outputs": [
    {
     "name": "stdout",
     "output_type": "stream",
     "text": [
      "pre-processing train docs...\n"
     ]
    }
   ],
   "source": [
    "print(\"pre-processing train docs...\")\n",
    "processed_docs_train = []\n",
    "\n",
    "for doc in raw_docs_train:\n",
    "    tokens = tokenizer_nltk.tokenize(\" \".join(doc))\n",
    "    filtered = [word for word in tokens if word not in stop_words]\n",
    "    processed_docs_train.append(\" \".join(filtered))\n",
    "#end for"
   ]
  },
  {
   "cell_type": "code",
   "execution_count": 16,
   "metadata": {},
   "outputs": [
    {
     "name": "stdout",
     "output_type": "stream",
     "text": [
      "pre-processing test docs...\n"
     ]
    }
   ],
   "source": [
    "print(\"pre-processing test docs...\")\n",
    "processed_docs_test = []\n",
    "\n",
    "#for doc in raw_docs_test:\n",
    "#    tokens = tokenizer.tokenize(doc)\n",
    "#    filtered = [word for word in tokens if word not in stop_words]\n",
    "#    processed_docs_test.append(\" \".join(filtered))"
   ]
  },
  {
   "cell_type": "code",
   "execution_count": 17,
   "metadata": {},
   "outputs": [
    {
     "name": "stdout",
     "output_type": "stream",
     "text": [
      "tokenizing input data...\n",
      "dictionary size:  104051\n"
     ]
    }
   ],
   "source": [
    "print(\"tokenizing input data...\")\n",
    "tokenizer_keras = Tokenizer(num_words=MAX_NB_WORDS, lower=True, char_level=False)\n",
    "tokenizer_keras.fit_on_texts(processed_docs_train + processed_docs_test)\n",
    "word_seq_train = tokenizer_keras.texts_to_sequences(processed_docs_train)\n",
    "word_seq_test = tokenizer_keras.texts_to_sequences(processed_docs_test)\n",
    "word_index = tokenizer_keras.word_index\n",
    "print(\"dictionary size: \", len(word_index))"
   ]
  },
  {
   "cell_type": "code",
   "execution_count": 18,
   "metadata": {},
   "outputs": [
    {
     "data": {
      "image/png": "[encoded data removed]",
      "text/plain": [
       "<Figure size 432x288 with 1 Axes>"
      ]
     },
     "metadata": {
      "needs_background": "light"
     },
     "output_type": "display_data"
    }
   ],
   "source": [
    "word_id_len = [len(item.split(\" \")) for item in processed_docs_train]\n",
    "max_seq_len = np.round((np.mean(word_id_len) + np.std(word_id_len))).astype(int)\n",
    "sns.boxplot(word_id_len); plt.axvline(x=max_seq_len, label='seq len cut-off');\n",
    "plt.title(\"boxplot showing a histogram of word counts\"); plt.xlabel('number of words'); plt.ylabel('density');\n",
    "plt.grid(True); plt.legend();"
   ]
  },
  {
   "cell_type": "code",
   "execution_count": 19,
   "metadata": {},
   "outputs": [
    {
     "name": "stdout",
     "output_type": "stream",
     "text": [
      "padding sequences with max seq len 5 words \n"
     ]
    }
   ],
   "source": [
    "#pad sequences\n",
    "print(\"padding sequences with max seq len {} words \".format(max_seq_len))\n",
    "word_seq_train = sequence.pad_sequences(word_seq_train, maxlen=max_seq_len)\n",
    "#word_seq_test = sequence.pad_sequences(word_seq_test, maxlen=max_seq_len)\n",
    "y_url = label_train\n",
    "#y_test_enc = label_test_mapped"
   ]
  },
  {
   "cell_type": "code",
   "execution_count": 20,
   "metadata": {},
   "outputs": [
    {
     "data": {
      "text/plain": [
       "(100000, 5)"
      ]
     },
     "execution_count": 20,
     "metadata": {},
     "output_type": "execute_result"
    }
   ],
   "source": [
    "word_seq_train.shape"
   ]
  },
  {
   "cell_type": "code",
   "execution_count": 21,
   "metadata": {},
   "outputs": [
    {
     "data": {
      "text/plain": [
       "100000"
      ]
     },
     "execution_count": 21,
     "metadata": {},
     "output_type": "execute_result"
    }
   ],
   "source": [
    "len(y_url)"
   ]
  },
  {
   "cell_type": "markdown",
   "metadata": {},
   "source": [
    "Let's start by exploring the App dataset"
   ]
  },
  {
   "cell_type": "code",
   "execution_count": 22,
   "metadata": {},
   "outputs": [
    {
     "data": {
      "text/html": [
       "<div>\n",
       "<style scoped>\n",
       "    .dataframe tbody tr th:only-of-type {\n",
       "        vertical-align: middle;\n",
       "    }\n",
       "\n",
       "    .dataframe tbody tr th {\n",
       "        vertical-align: top;\n",
       "    }\n",
       "\n",
       "    .dataframe thead th {\n",
       "        text-align: right;\n",
       "    }\n",
       "</style>\n",
       "<table border=\"1\" class=\"dataframe\">\n",
       "  <thead>\n",
       "    <tr style=\"text-align: right;\">\n",
       "      <th></th>\n",
       "      <th>DeviceId</th>\n",
       "      <th>IndustrySegment</th>\n",
       "      <th>DeviceSampleRate</th>\n",
       "      <th>IsCommercial</th>\n",
       "      <th>AppName</th>\n",
       "    </tr>\n",
       "  </thead>\n",
       "  <tbody>\n",
       "    <tr>\n",
       "      <th>0</th>\n",
       "      <td>g:6755399441213943</td>\n",
       "      <td>Consumer</td>\n",
       "      <td>0.0</td>\n",
       "      <td>False</td>\n",
       "      <td>4DF9E0F8.NETFLIX_MCM4NJQHNHSS8</td>\n",
       "    </tr>\n",
       "    <tr>\n",
       "      <th>1</th>\n",
       "      <td>g:6755399441213943</td>\n",
       "      <td>Consumer</td>\n",
       "      <td>0.0</td>\n",
       "      <td>False</td>\n",
       "      <td>APPLICATIONCLIPSERVICE.EXE</td>\n",
       "    </tr>\n",
       "    <tr>\n",
       "      <th>2</th>\n",
       "      <td>g:6755399441213943</td>\n",
       "      <td>Consumer</td>\n",
       "      <td>0.0</td>\n",
       "      <td>False</td>\n",
       "      <td>BA3D8596-3946-4095-ADCE-6D76E101746F_ZJR0DFHGJ...</td>\n",
       "    </tr>\n",
       "    <tr>\n",
       "      <th>3</th>\n",
       "      <td>g:6755399441213943</td>\n",
       "      <td>Consumer</td>\n",
       "      <td>0.0</td>\n",
       "      <td>False</td>\n",
       "      <td>BLACKDESERT_QT5FDT83CBZYC</td>\n",
       "    </tr>\n",
       "    <tr>\n",
       "      <th>4</th>\n",
       "      <td>g:6755399441213943</td>\n",
       "      <td>Consumer</td>\n",
       "      <td>0.0</td>\n",
       "      <td>False</td>\n",
       "      <td>CSRSS.EXE</td>\n",
       "    </tr>\n",
       "  </tbody>\n",
       "</table>\n",
       "</div>"
      ],
      "text/plain": [
       "             DeviceId IndustrySegment  DeviceSampleRate  IsCommercial  \\\n",
       "0  g:6755399441213943        Consumer               0.0         False   \n",
       "1  g:6755399441213943        Consumer               0.0         False   \n",
       "2  g:6755399441213943        Consumer               0.0         False   \n",
       "3  g:6755399441213943        Consumer               0.0         False   \n",
       "4  g:6755399441213943        Consumer               0.0         False   \n",
       "\n",
       "                                             AppName  \n",
       "0                     4DF9E0F8.NETFLIX_MCM4NJQHNHSS8  \n",
       "1                         APPLICATIONCLIPSERVICE.EXE  \n",
       "2  BA3D8596-3946-4095-ADCE-6D76E101746F_ZJR0DFHGJ...  \n",
       "3                          BLACKDESERT_QT5FDT83CBZYC  \n",
       "4                                          CSRSS.EXE  "
      ]
     },
     "execution_count": 22,
     "metadata": {},
     "output_type": "execute_result"
    }
   ],
   "source": [
    "app_df = pd.read_csv(\"./data/Data_AppInteractivitySampleRate02.csv\")\n",
    "app_df.dropna(inplace=True)\n",
    "app_df.columns = ['DeviceId', 'IndustrySegment', 'DeviceSampleRate', 'IsCommercial', 'AppName']\n",
    "app_df.head()"
   ]
  },
  {
   "cell_type": "markdown",
   "metadata": {},
   "source": [
    "We can downsample the original dataset (TODO: look at balanced downsampling) and pre-process the data:"
   ]
  },
  {
   "cell_type": "code",
   "execution_count": 23,
   "metadata": {},
   "outputs": [
    {
     "data": {
      "text/plain": [
       "(100000, 5)"
      ]
     },
     "execution_count": 23,
     "metadata": {},
     "output_type": "execute_result"
    }
   ],
   "source": [
    "num_train = 100000 #should match num_train of URL dataset\n",
    "app_df = app_df.sample(n=num_train, random_state=1)\n",
    "app_df.shape"
   ]
  },
  {
   "cell_type": "code",
   "execution_count": 24,
   "metadata": {},
   "outputs": [
    {
     "data": {
      "text/html": [
       "<div>\n",
       "<style scoped>\n",
       "    .dataframe tbody tr th:only-of-type {\n",
       "        vertical-align: middle;\n",
       "    }\n",
       "\n",
       "    .dataframe tbody tr th {\n",
       "        vertical-align: top;\n",
       "    }\n",
       "\n",
       "    .dataframe thead th {\n",
       "        text-align: right;\n",
       "    }\n",
       "</style>\n",
       "<table border=\"1\" class=\"dataframe\">\n",
       "  <thead>\n",
       "    <tr style=\"text-align: right;\">\n",
       "      <th></th>\n",
       "      <th>app</th>\n",
       "      <th>target</th>\n",
       "    </tr>\n",
       "  </thead>\n",
       "  <tbody>\n",
       "    <tr>\n",
       "      <th>7383818</th>\n",
       "      <td>dwm.exe</td>\n",
       "      <td>0</td>\n",
       "    </tr>\n",
       "    <tr>\n",
       "      <th>3697897</th>\n",
       "      <td>microsoft.microsoftedge_8wekyb3d8bbwe</td>\n",
       "      <td>0</td>\n",
       "    </tr>\n",
       "    <tr>\n",
       "      <th>7394901</th>\n",
       "      <td>excel.exe</td>\n",
       "      <td>1</td>\n",
       "    </tr>\n",
       "    <tr>\n",
       "      <th>161400</th>\n",
       "      <td>csrss.exe</td>\n",
       "      <td>0</td>\n",
       "    </tr>\n",
       "    <tr>\n",
       "      <th>9148080</th>\n",
       "      <td>explorer.exe</td>\n",
       "      <td>0</td>\n",
       "    </tr>\n",
       "    <tr>\n",
       "      <th>3043673</th>\n",
       "      <td>fortnite_d5xxtpggmzx6p</td>\n",
       "      <td>0</td>\n",
       "    </tr>\n",
       "    <tr>\n",
       "      <th>6042008</th>\n",
       "      <td>navplugin.exe</td>\n",
       "      <td>0</td>\n",
       "    </tr>\n",
       "    <tr>\n",
       "      <th>440165</th>\n",
       "      <td>inputapp_cw5n1h2txyewy</td>\n",
       "      <td>1</td>\n",
       "    </tr>\n",
       "    <tr>\n",
       "      <th>4669612</th>\n",
       "      <td>microsoft.windowscalculator_8wekyb3d8bbwe</td>\n",
       "      <td>0</td>\n",
       "    </tr>\n",
       "    <tr>\n",
       "      <th>4306322</th>\n",
       "      <td>microsoft.windows.cortana_cw5n1h2txyewy</td>\n",
       "      <td>1</td>\n",
       "    </tr>\n",
       "  </tbody>\n",
       "</table>\n",
       "</div>"
      ],
      "text/plain": [
       "                                               app  target\n",
       "7383818                                    dwm.exe       0\n",
       "3697897      microsoft.microsoftedge_8wekyb3d8bbwe       0\n",
       "7394901                                  excel.exe       1\n",
       "161400                                   csrss.exe       0\n",
       "9148080                               explorer.exe       0\n",
       "3043673                     fortnite_d5xxtpggmzx6p       0\n",
       "6042008                              navplugin.exe       0\n",
       "440165                      inputapp_cw5n1h2txyewy       1\n",
       "4669612  microsoft.windowscalculator_8wekyb3d8bbwe       0\n",
       "4306322    microsoft.windows.cortana_cw5n1h2txyewy       1"
      ]
     },
     "execution_count": 24,
     "metadata": {},
     "output_type": "execute_result"
    }
   ],
   "source": [
    "app_df['app'] = app_df['AppName'].apply(lambda x: x.lower()) #convert all app names to lower case\n",
    "app_df['target'] = app_df['IsCommercial'].apply(lambda x: 1 if x else 0)\n",
    "app_df.drop(['DeviceId', 'IndustrySegment', 'DeviceSampleRate', 'AppName', 'IsCommercial'], axis=1, inplace=True)\n",
    "app_df.head(10)"
   ]
  },
  {
   "cell_type": "code",
   "execution_count": 25,
   "metadata": {},
   "outputs": [
    {
     "data": {
      "text/html": [
       "<div>\n",
       "<style scoped>\n",
       "    .dataframe tbody tr th:only-of-type {\n",
       "        vertical-align: middle;\n",
       "    }\n",
       "\n",
       "    .dataframe tbody tr th {\n",
       "        vertical-align: top;\n",
       "    }\n",
       "\n",
       "    .dataframe thead th {\n",
       "        text-align: right;\n",
       "    }\n",
       "</style>\n",
       "<table border=\"1\" class=\"dataframe\">\n",
       "  <thead>\n",
       "    <tr style=\"text-align: right;\">\n",
       "      <th></th>\n",
       "      <th>app</th>\n",
       "      <th>target</th>\n",
       "    </tr>\n",
       "  </thead>\n",
       "  <tbody>\n",
       "    <tr>\n",
       "      <th>7383818</th>\n",
       "      <td>dwm.exe</td>\n",
       "      <td>0</td>\n",
       "    </tr>\n",
       "    <tr>\n",
       "      <th>3697897</th>\n",
       "      <td>microsoftedge.exe</td>\n",
       "      <td>0</td>\n",
       "    </tr>\n",
       "    <tr>\n",
       "      <th>7394901</th>\n",
       "      <td>excel.exe</td>\n",
       "      <td>1</td>\n",
       "    </tr>\n",
       "    <tr>\n",
       "      <th>161400</th>\n",
       "      <td>csrss.exe</td>\n",
       "      <td>0</td>\n",
       "    </tr>\n",
       "    <tr>\n",
       "      <th>9148080</th>\n",
       "      <td>explorer.exe</td>\n",
       "      <td>0</td>\n",
       "    </tr>\n",
       "    <tr>\n",
       "      <th>3043673</th>\n",
       "      <td>fortnite.exe</td>\n",
       "      <td>0</td>\n",
       "    </tr>\n",
       "    <tr>\n",
       "      <th>6042008</th>\n",
       "      <td>navplugin.exe</td>\n",
       "      <td>0</td>\n",
       "    </tr>\n",
       "    <tr>\n",
       "      <th>440165</th>\n",
       "      <td>inputapp.exe</td>\n",
       "      <td>1</td>\n",
       "    </tr>\n",
       "    <tr>\n",
       "      <th>4669612</th>\n",
       "      <td>windowscalculator.exe</td>\n",
       "      <td>0</td>\n",
       "    </tr>\n",
       "    <tr>\n",
       "      <th>4306322</th>\n",
       "      <td>cortana.exe</td>\n",
       "      <td>1</td>\n",
       "    </tr>\n",
       "  </tbody>\n",
       "</table>\n",
       "</div>"
      ],
      "text/plain": [
       "                           app  target\n",
       "7383818                dwm.exe       0\n",
       "3697897      microsoftedge.exe       0\n",
       "7394901              excel.exe       1\n",
       "161400               csrss.exe       0\n",
       "9148080           explorer.exe       0\n",
       "3043673           fortnite.exe       0\n",
       "6042008          navplugin.exe       0\n",
       "440165            inputapp.exe       1\n",
       "4669612  windowscalculator.exe       0\n",
       "4306322            cortana.exe       1"
      ]
     },
     "execution_count": 25,
     "metadata": {},
     "output_type": "execute_result"
    }
   ],
   "source": [
    "app_df['app'] = app_df['app'].apply(lambda x: x.split('_')[0])  #remove anything after underscore, e.g. microsoft.microsoftedge_8wekyb3d8bbwe\n",
    "app_df['app'] = app_df['app'].apply(lambda x: x.split('.')[-1] + '.exe' if ('exe' not in x.split('.')) else x) #keep what remains after the last period + '.exe', e.g. microsoftedge.exe\n",
    "app_df.head(10)"
   ]
  },
  {
   "cell_type": "code",
   "execution_count": 26,
   "metadata": {},
   "outputs": [
    {
     "data": {
      "text/plain": [
       "[('csrss.exe', 5028),\n",
       " ('explorer.exe', 4180),\n",
       " ('cortana.exe', 4056),\n",
       " ('shellexperiencehost.exe', 3908),\n",
       " ('logonui.exe', 3880),\n",
       " ('applicationframehost.exe', 3133),\n",
       " ('lockapp.exe', 2752),\n",
       " ('chrome.exe', 2385),\n",
       " ('microsoftedge.exe', 2174),\n",
       " ('taskhostw.exe', 2169),\n",
       " ('svchost.exe', 1792),\n",
       " ('dwm.exe', 1774),\n",
       " ('dashboard.exe', 1757),\n",
       " ('xam.exe', 1754),\n",
       " ('guide.exe', 1724),\n",
       " ('xboxui.exe', 1722),\n",
       " ('windowsstore.exe', 1504),\n",
       " ('winword.exe', 1185),\n",
       " ('immersivecontrolpanel.exe', 1154),\n",
       " ('idlescreen.exe', 1151)]"
      ]
     },
     "execution_count": 26,
     "metadata": {},
     "output_type": "execute_result"
    }
   ],
   "source": [
    "cnt_app = Counter(app_df['app'])\n",
    "idx_app = range(len(cnt_app))\n",
    "cnt_app.most_common(20)"
   ]
  },
  {
   "cell_type": "markdown",
   "metadata": {},
   "source": [
    "Let's look at the level of ambiguity between the Apps, i.e. at an intersection between work and play Apps:"
   ]
  },
  {
   "cell_type": "code",
   "execution_count": 27,
   "metadata": {},
   "outputs": [
    {
     "name": "stdout",
     "output_type": "stream",
     "text": [
      "number of apps labeled both work and play:  1355\n",
      "['connect.exe' 'acmon.exe' 'powershell.exe' 'inetmgr.exe'\n",
      " 'vonage business.exe' 'skype.exe' 'pdfplus.exe' 'x2jobtzv.exe'\n",
      " '2345safetray.exe' 'megafileupdate.exe']\n"
     ]
    }
   ],
   "source": [
    "app_work_df = app_df[app_df['target'] == True]\n",
    "app_play_df = app_df[app_df['target'] == False]\n",
    "app_intersection = set.intersection(set(app_work_df['app'].values), set(app_play_df['app'].values))\n",
    "print(\"number of apps labeled both work and play: \", len(app_intersection))\n",
    "print(np.random.choice(list(app_intersection), 10))"
   ]
  },
  {
   "cell_type": "code",
   "execution_count": 28,
   "metadata": {},
   "outputs": [
    {
     "data": {
      "text/plain": [
       "(100000, 6705)"
      ]
     },
     "execution_count": 28,
     "metadata": {},
     "output_type": "execute_result"
    }
   ],
   "source": [
    "y_app = app_df['target'].values #binary target variable should match the target variable for URL dataset!\n",
    "enc = OneHotEncoder(handle_unknown='ignore', sparse=True)\n",
    "enc.fit(app_df['app'].values.reshape(-1,1))\n",
    "X1_train = enc.transform(app_df['app'].values.reshape(-1,1))\n",
    "num_features1 = X1_train.shape[1]\n",
    "X1_train.shape"
   ]
  },
  {
   "cell_type": "code",
   "execution_count": 29,
   "metadata": {},
   "outputs": [
    {
     "data": {
      "text/plain": [
       "<matplotlib.axes._subplots.AxesSubplot at 0x203bc3af278>"
      ]
     },
     "execution_count": 29,
     "metadata": {},
     "output_type": "execute_result"
    },
    {
     "data": {
      "image/png": "[encoded data removed]",
      "text/plain": [
       "<Figure size 432x288 with 1 Axes>"
      ]
     },
     "metadata": {
      "needs_background": "light"
     },
     "output_type": "display_data"
    }
   ],
   "source": [
    "sns.distplot(y_app, kde=False)"
   ]
  },
  {
   "cell_type": "markdown",
   "metadata": {},
   "source": [
    "Next, let's define our multi-modal NN using the functional keras API"
   ]
  },
  {
   "cell_type": "code",
   "execution_count": 31,
   "metadata": {},
   "outputs": [],
   "source": [
    "#training params\n",
    "batch_size = 512\n",
    "num_epochs = 16"
   ]
  },
  {
   "cell_type": "code",
   "execution_count": 32,
   "metadata": {},
   "outputs": [],
   "source": [
    "#model parameters\n",
    "hidden_size_lstm = 32\n",
    "embed_dim = 300\n",
    "lstm_dropout = 0.2\n",
    "dense_dropout = 0.2\n",
    "weight_decay = 1e-4"
   ]
  },
  {
   "cell_type": "code",
   "execution_count": 33,
   "metadata": {},
   "outputs": [
    {
     "name": "stdout",
     "output_type": "stream",
     "text": [
      "preparing embedding matrix...\n",
      "number of null word embeddings:  83470\n"
     ]
    }
   ],
   "source": [
    "#embedding matrix\n",
    "print('preparing embedding matrix...')\n",
    "words_not_found = []\n",
    "nb_words = min(MAX_NB_WORDS, len(word_index)+1)\n",
    "embedding_matrix = np.zeros((nb_words, embed_dim))\n",
    "for word, i in word_index.items():\n",
    "    if i >= nb_words:\n",
    "        continue\n",
    "    embedding_vector = embeddings_index.get(word)\n",
    "    if (embedding_vector is not None) and len(embedding_vector) > 0:\n",
    "        # words not found in embedding index will be all-zeros.\n",
    "        embedding_matrix[i] = embedding_vector\n",
    "    else:\n",
    "        words_not_found.append(word)\n",
    "print('number of null word embeddings: ', len(words_not_found))"
   ]
  },
  {
   "cell_type": "code",
   "execution_count": 34,
   "metadata": {},
   "outputs": [
    {
     "data": {
      "text/plain": [
       "(104052, 300)"
      ]
     },
     "execution_count": 34,
     "metadata": {},
     "output_type": "execute_result"
    }
   ],
   "source": [
    "embedding_matrix.shape"
   ]
  },
  {
   "cell_type": "code",
   "execution_count": 35,
   "metadata": {},
   "outputs": [
    {
     "name": "stdout",
     "output_type": "stream",
     "text": [
      "sample words not found in the embeddings:\n",
      " ['nonserviam' 'valeriegillespie' 'enticedesign' 'oslm' 'gomog'\n",
      " 'fmtisystems' 'militaresgay' 'deadworld' 'meishunfang' 'byzantinebooks'\n",
      " 'kaser' 'kirkley' 'greentea' 'inwap' 'myfitbanner' 'bioimagingsystems'\n",
      " 'berkhan' 'hometheater' 'sexhosters' 'principlepractice']\n"
     ]
    }
   ],
   "source": [
    "print(\"sample words not found in the embeddings:\\n\", np.random.choice(words_not_found, 20))"
   ]
  },
  {
   "cell_type": "code",
   "execution_count": 36,
   "metadata": {},
   "outputs": [
    {
     "name": "stderr",
     "output_type": "stream",
     "text": [
      "WARNING: Logging before flag parsing goes to stderr.\n",
      "W0807 12:30:56.108741 12336 deprecation_wrapper.py:119] From C:\\Users\\t-vasmol.REDMOND\\AppData\\Local\\Continuum\\anaconda3\\envs\\vss\\lib\\site-packages\\keras\\backend\\tensorflow_backend.py:517: The name tf.placeholder is deprecated. Please use tf.compat.v1.placeholder instead.\n",
      "\n",
      "W0807 12:30:56.137742 12336 deprecation_wrapper.py:119] From C:\\Users\\t-vasmol.REDMOND\\AppData\\Local\\Continuum\\anaconda3\\envs\\vss\\lib\\site-packages\\keras\\backend\\tensorflow_backend.py:74: The name tf.get_default_graph is deprecated. Please use tf.compat.v1.get_default_graph instead.\n",
      "\n",
      "W0807 12:30:56.142743 12336 deprecation_wrapper.py:119] From C:\\Users\\t-vasmol.REDMOND\\AppData\\Local\\Continuum\\anaconda3\\envs\\vss\\lib\\site-packages\\keras\\backend\\tensorflow_backend.py:4138: The name tf.random_uniform is deprecated. Please use tf.random.uniform instead.\n",
      "\n",
      "W0807 12:30:56.202759 12336 deprecation_wrapper.py:119] From C:\\Users\\t-vasmol.REDMOND\\AppData\\Local\\Continuum\\anaconda3\\envs\\vss\\lib\\site-packages\\keras\\backend\\tensorflow_backend.py:174: The name tf.get_default_session is deprecated. Please use tf.compat.v1.get_default_session instead.\n",
      "\n",
      "W0807 12:30:56.204761 12336 deprecation_wrapper.py:119] From C:\\Users\\t-vasmol.REDMOND\\AppData\\Local\\Continuum\\anaconda3\\envs\\vss\\lib\\site-packages\\keras\\backend\\tensorflow_backend.py:181: The name tf.ConfigProto is deprecated. Please use tf.compat.v1.ConfigProto instead.\n",
      "\n",
      "W0807 12:30:57.076270 12336 deprecation.py:506] From C:\\Users\\t-vasmol.REDMOND\\AppData\\Local\\Continuum\\anaconda3\\envs\\vss\\lib\\site-packages\\keras\\backend\\tensorflow_backend.py:3445: calling dropout (from tensorflow.python.ops.nn_ops) with keep_prob is deprecated and will be removed in a future version.\n",
      "Instructions for updating:\n",
      "Please use `rate` instead of `keep_prob`. Rate should be set to `rate = 1 - keep_prob`.\n",
      "W0807 12:30:57.622271 12336 deprecation_wrapper.py:119] From C:\\Users\\t-vasmol.REDMOND\\AppData\\Local\\Continuum\\anaconda3\\envs\\vss\\lib\\site-packages\\keras\\optimizers.py:790: The name tf.train.Optimizer is deprecated. Please use tf.compat.v1.train.Optimizer instead.\n",
      "\n",
      "W0807 12:30:57.636272 12336 deprecation.py:323] From C:\\Users\\t-vasmol.REDMOND\\AppData\\Local\\Continuum\\anaconda3\\envs\\vss\\lib\\site-packages\\tensorflow\\python\\ops\\nn_impl.py:180: add_dispatch_support.<locals>.wrapper (from tensorflow.python.ops.array_ops) is deprecated and will be removed in a future version.\n",
      "Instructions for updating:\n",
      "Use tf.where in 2.0, which has the same broadcast rule as np.where\n"
     ]
    },
    {
     "name": "stdout",
     "output_type": "stream",
     "text": [
      "__________________________________________________________________________________________________\n",
      "Layer (type)                    Output Shape         Param #     Connected to                     \n",
      "==================================================================================================\n",
      "app (InputLayer)                (None, 6705)         0                                            \n",
      "__________________________________________________________________________________________________\n",
      "dense_1 (Dense)                 (None, 6705)         44963730    app[0][0]                        \n",
      "__________________________________________________________________________________________________\n",
      "url (InputLayer)                (None, 5)            0                                            \n",
      "__________________________________________________________________________________________________\n",
      "dense_2 (Dense)                 (None, 128)          858368      dense_1[0][0]                    \n",
      "__________________________________________________________________________________________________\n",
      "embedding_1 (Embedding)         (None, 5, 300)       31215600    url[0][0]                        \n",
      "__________________________________________________________________________________________________\n",
      "dense_3 (Dense)                 (None, 32)           4128        dense_2[0][0]                    \n",
      "__________________________________________________________________________________________________\n",
      "bidirectional_1 (Bidirectional) (None, 64)           85248       embedding_1[0][0]                \n",
      "__________________________________________________________________________________________________\n",
      "concatenate_1 (Concatenate)     (None, 96)           0           dense_3[0][0]                    \n",
      "                                                                 bidirectional_1[0][0]            \n",
      "__________________________________________________________________________________________________\n",
      "dropout_1 (Dropout)             (None, 96)           0           concatenate_1[0][0]              \n",
      "__________________________________________________________________________________________________\n",
      "dense_4 (Dense)                 (None, 16)           1552        dropout_1[0][0]                  \n",
      "__________________________________________________________________________________________________\n",
      "dense_5 (Dense)                 (None, 1)            17          dense_4[0][0]                    \n",
      "==================================================================================================\n",
      "Total params: 77,128,643\n",
      "Trainable params: 45,913,043\n",
      "Non-trainable params: 31,215,600\n",
      "__________________________________________________________________________________________________\n"
     ]
    }
   ],
   "source": [
    "#multi-modal NN\n",
    "\n",
    "#MLP branch\n",
    "input1 = Input(shape=(num_features1,), name='app')\n",
    "x = Dense(num_features1, activation='relu', kernel_regularizer=regularizers.l2(weight_decay))(input1)\n",
    "x = Dense(128, activation='relu', kernel_regularizer=regularizers.l2(weight_decay))(x)\n",
    "x = Dense(32, activation='relu', kernel_regularizer=regularizers.l2(weight_decay))(x)\n",
    "\n",
    "#LSTM branch\n",
    "input2 = Input(shape=(max_seq_len,), name='url')\n",
    "y = Embedding(nb_words, embed_dim, weights=[embedding_matrix], input_length=max_seq_len, trainable=False)(input2)\n",
    "y = Bidirectional(LSTM(hidden_size_lstm, dropout=lstm_dropout, recurrent_dropout=lstm_dropout))(y)\n",
    "\n",
    "merged = concatenate([x, y], axis=-1)\n",
    "z = Dropout(dense_dropout)(merged)\n",
    "z = Dense(16, activation='relu', kernel_regularizer=regularizers.l2(weight_decay))(z)\n",
    "output = Dense(1, activation='sigmoid')(z)\n",
    "\n",
    "model=Model([input1, input2], output)\n",
    "adam = optimizers.Adam(lr=0.001, beta_1=0.9, beta_2=0.999, epsilon=1e-08, decay=0.0, clipnorm=1.0)\n",
    "model.compile(loss='binary_crossentropy', optimizer=adam, metrics=['accuracy'])\n",
    "model.summary()"
   ]
  },
  {
   "cell_type": "code",
   "execution_count": 37,
   "metadata": {},
   "outputs": [],
   "source": [
    "#define callbacks\n",
    "SAVE_PATH = \"./data/\"\n",
    "file_name = SAVE_PATH + 'dnn-weights-checkpoint-v2.h5'\n",
    "checkpoint = ModelCheckpoint(file_name, monitor='val_loss', verbose=1, save_best_only=True, mode='min')\n",
    "#tensor_board = TensorBoard(log_dir='./logs', write_graph=True)\n",
    "hist_lr = LR_hist()\n",
    "reduce_lr = LearningRateScheduler(step_decay) \n",
    "early_stopping = EarlyStopping(monitor='val_loss', min_delta=0.01, patience=16, verbose=1)\n",
    "callbacks_list = [checkpoint, hist_lr, reduce_lr, early_stopping]"
   ]
  },
  {
   "cell_type": "markdown",
   "metadata": {},
   "source": [
    "Define the training label to be an OR between App label and the URL label to bias the training data towards work:"
   ]
  },
  {
   "cell_type": "code",
   "execution_count": 38,
   "metadata": {},
   "outputs": [],
   "source": [
    "y_train = y_url | y_app"
   ]
  },
  {
   "cell_type": "code",
   "execution_count": 39,
   "metadata": {},
   "outputs": [
    {
     "data": {
      "text/plain": [
       "<matplotlib.axes._subplots.AxesSubplot at 0x203bc361ba8>"
      ]
     },
     "execution_count": 39,
     "metadata": {},
     "output_type": "execute_result"
    },
    {
     "data": {
      "image/png": "[encoded data removed]",
      "text/plain": [
       "<Figure size 432x288 with 1 Axes>"
      ]
     },
     "metadata": {
      "needs_background": "light"
     },
     "output_type": "display_data"
    }
   ],
   "source": [
    "sns.distplot(y_train, kde=False)"
   ]
  },
  {
   "cell_type": "code",
   "execution_count": 40,
   "metadata": {},
   "outputs": [
    {
     "name": "stdout",
     "output_type": "stream",
     "text": [
      "Train on 90000 samples, validate on 10000 samples\n",
      "Epoch 1/16\n",
      " - 172s - loss: 0.6305 - acc: 0.7084 - val_loss: 0.5855 - val_acc: 0.7107\n",
      "\n",
      "Epoch 00001: val_loss improved from inf to 0.58554, saving model to ./data/dnn-weights-checkpoint-v2.h5\n",
      "Epoch 2/16\n",
      " - 166s - loss: 0.5740 - acc: 0.7232 - val_loss: 0.5761 - val_acc: 0.7167\n",
      "\n",
      "Epoch 00002: val_loss improved from 0.58554 to 0.57608, saving model to ./data/dnn-weights-checkpoint-v2.h5\n",
      "Epoch 3/16\n",
      " - 165s - loss: 0.5666 - acc: 0.7275 - val_loss: 0.5697 - val_acc: 0.7171\n",
      "\n",
      "Epoch 00003: val_loss improved from 0.57608 to 0.56970, saving model to ./data/dnn-weights-checkpoint-v2.h5\n",
      "Epoch 4/16\n",
      " - 175s - loss: 0.5574 - acc: 0.7305 - val_loss: 0.5660 - val_acc: 0.7198\n",
      "\n",
      "Epoch 00004: val_loss improved from 0.56970 to 0.56603, saving model to ./data/dnn-weights-checkpoint-v2.h5\n",
      "Epoch 5/16\n",
      " - 168s - loss: 0.5533 - acc: 0.7323 - val_loss: 0.5653 - val_acc: 0.7204\n",
      "\n",
      "Epoch 00005: val_loss improved from 0.56603 to 0.56529, saving model to ./data/dnn-weights-checkpoint-v2.h5\n",
      "Epoch 6/16\n",
      " - 167s - loss: 0.5472 - acc: 0.7354 - val_loss: 0.5660 - val_acc: 0.7198\n",
      "\n",
      "Epoch 00006: val_loss did not improve from 0.56529\n",
      "Epoch 7/16\n",
      " - 165s - loss: 0.5447 - acc: 0.7364 - val_loss: 0.5663 - val_acc: 0.7204\n",
      "\n",
      "Epoch 00007: val_loss did not improve from 0.56529\n",
      "Epoch 8/16\n",
      " - 163s - loss: 0.5405 - acc: 0.7381 - val_loss: 0.5645 - val_acc: 0.7224\n",
      "\n",
      "Epoch 00008: val_loss improved from 0.56529 to 0.56448, saving model to ./data/dnn-weights-checkpoint-v2.h5\n",
      "Epoch 9/16\n",
      " - 163s - loss: 0.5381 - acc: 0.7381 - val_loss: 0.5661 - val_acc: 0.7206\n",
      "\n",
      "Epoch 00009: val_loss did not improve from 0.56448\n",
      "Epoch 10/16\n",
      " - 164s - loss: 0.5367 - acc: 0.7390 - val_loss: 0.5665 - val_acc: 0.7201\n",
      "\n",
      "Epoch 00010: val_loss did not improve from 0.56448\n",
      "Epoch 11/16\n",
      " - 162s - loss: 0.5357 - acc: 0.7378 - val_loss: 0.5666 - val_acc: 0.7209\n",
      "\n",
      "Epoch 00011: val_loss did not improve from 0.56448\n",
      "Epoch 12/16\n",
      " - 164s - loss: 0.5331 - acc: 0.7397 - val_loss: 0.5665 - val_acc: 0.7197\n",
      "\n",
      "Epoch 00012: val_loss did not improve from 0.56448\n",
      "Epoch 13/16\n",
      " - 165s - loss: 0.5324 - acc: 0.7401 - val_loss: 0.5662 - val_acc: 0.7204\n",
      "\n",
      "Epoch 00013: val_loss did not improve from 0.56448\n",
      "Epoch 14/16\n",
      " - 163s - loss: 0.5314 - acc: 0.7402 - val_loss: 0.5656 - val_acc: 0.7208\n",
      "\n",
      "Epoch 00014: val_loss did not improve from 0.56448\n",
      "Epoch 15/16\n",
      " - 162s - loss: 0.5303 - acc: 0.7408 - val_loss: 0.5660 - val_acc: 0.7215\n",
      "\n",
      "Epoch 00015: val_loss did not improve from 0.56448\n",
      "Epoch 16/16\n",
      " - 161s - loss: 0.5295 - acc: 0.7399 - val_loss: 0.5661 - val_acc: 0.7215\n",
      "\n",
      "Epoch 00016: val_loss did not improve from 0.56448\n"
     ]
    }
   ],
   "source": [
    "hist = model.fit({'app': X1_train, 'url': word_seq_train}, y_train, batch_size=batch_size, epochs=num_epochs, callbacks=callbacks_list, validation_split=0.1, shuffle=True, verbose=2)"
   ]
  },
  {
   "cell_type": "code",
   "execution_count": 41,
   "metadata": {},
   "outputs": [
    {
     "data": {
      "image/png": "[encoded data removed]",
      "text/plain": [
       "<Figure size 432x288 with 1 Axes>"
      ]
     },
     "metadata": {
      "needs_background": "light"
     },
     "output_type": "display_data"
    }
   ],
   "source": [
    "#generate plots\n",
    "plt.figure()\n",
    "plt.plot(hist.history['loss'], c='b', lw=2.0, label='train')\n",
    "plt.plot(hist.history['val_loss'], c='r', lw=2.0, label='val')\n",
    "plt.title('Multi-Modal DNN model')\n",
    "plt.xlabel('Epochs')\n",
    "plt.ylabel('Cross-Entropy Loss')\n",
    "plt.legend(loc='upper right')\n",
    "plt.grid(True)\n",
    "plt.savefig('./figures/dnn_loss.png')"
   ]
  },
  {
   "cell_type": "code",
   "execution_count": 42,
   "metadata": {},
   "outputs": [
    {
     "data": {
      "image/png": "[encoded data removed]",
      "text/plain": [
       "<Figure size 432x288 with 1 Axes>"
      ]
     },
     "metadata": {
      "needs_background": "light"
     },
     "output_type": "display_data"
    }
   ],
   "source": [
    "plt.figure()\n",
    "plt.plot(hist.history['acc'], c='b', lw=2.0, label='train')\n",
    "plt.plot(hist.history['val_acc'], c='r', lw=2.0, label='val')\n",
    "plt.title('Multi-Modal DNN model')\n",
    "plt.xlabel('Epochs')\n",
    "plt.ylabel('Accuracy')\n",
    "plt.legend(loc='upper left')\n",
    "plt.grid(True)\n",
    "plt.savefig('./figures/dnn_acc.png')"
   ]
  },
  {
   "cell_type": "code",
   "execution_count": 43,
   "metadata": {
    "scrolled": true
   },
   "outputs": [
    {
     "data": {
      "image/png": "[encoded data removed]",
      "text/plain": [
       "<Figure size 432x288 with 1 Axes>"
      ]
     },
     "metadata": {
      "needs_background": "light"
     },
     "output_type": "display_data"
    }
   ],
   "source": [
    "plt.figure()\n",
    "plt.plot(hist_lr.lr, lw=2.0, label='learning rate')\n",
    "plt.title('Multi-Moodal DNN Model')\n",
    "plt.xlabel('Epochs')\n",
    "plt.ylabel('Learning Rate')\n",
    "plt.legend()\n",
    "plt.grid(True)\n",
    "plt.savefig('./figures/dnn_learning_rate.png')"
   ]
  },
  {
   "cell_type": "code",
   "execution_count": null,
   "metadata": {},
   "outputs": [],
   "source": [
    "#plot_model(model, show_shapes=True, to_file='./figures/dnn_model.png')"
   ]
  },
  {
   "cell_type": "markdown",
   "metadata": {},
   "source": [
    "Let's load the trained model and predict on user test session data next:"
   ]
  },
  {
   "cell_type": "code",
   "execution_count": 44,
   "metadata": {},
   "outputs": [
    {
     "name": "stdout",
     "output_type": "stream",
     "text": [
      "__________________________________________________________________________________________________\n",
      "Layer (type)                    Output Shape         Param #     Connected to                     \n",
      "==================================================================================================\n",
      "app (InputLayer)                (None, 6705)         0                                            \n",
      "__________________________________________________________________________________________________\n",
      "dense_1 (Dense)                 (None, 6705)         44963730    app[0][0]                        \n",
      "__________________________________________________________________________________________________\n",
      "url (InputLayer)                (None, 5)            0                                            \n",
      "__________________________________________________________________________________________________\n",
      "dense_2 (Dense)                 (None, 128)          858368      dense_1[0][0]                    \n",
      "__________________________________________________________________________________________________\n",
      "embedding_1 (Embedding)         (None, 5, 300)       31215600    url[0][0]                        \n",
      "__________________________________________________________________________________________________\n",
      "dense_3 (Dense)                 (None, 32)           4128        dense_2[0][0]                    \n",
      "__________________________________________________________________________________________________\n",
      "bidirectional_1 (Bidirectional) (None, 64)           85248       embedding_1[0][0]                \n",
      "__________________________________________________________________________________________________\n",
      "concatenate_1 (Concatenate)     (None, 96)           0           dense_3[0][0]                    \n",
      "                                                                 bidirectional_1[0][0]            \n",
      "__________________________________________________________________________________________________\n",
      "dropout_1 (Dropout)             (None, 96)           0           concatenate_1[0][0]              \n",
      "__________________________________________________________________________________________________\n",
      "dense_4 (Dense)                 (None, 16)           1552        dropout_1[0][0]                  \n",
      "__________________________________________________________________________________________________\n",
      "dense_5 (Dense)                 (None, 1)            17          dense_4[0][0]                    \n",
      "==================================================================================================\n",
      "Total params: 77,128,643\n",
      "Trainable params: 45,913,043\n",
      "Non-trainable params: 31,215,600\n",
      "__________________________________________________________________________________________________\n"
     ]
    }
   ],
   "source": [
    "dnn_model = load_model('./data/dnn-weights-checkpoint-v2.h5')\n",
    "dnn_model.summary()"
   ]
  },
  {
   "cell_type": "code",
   "execution_count": 45,
   "metadata": {},
   "outputs": [
    {
     "name": "stdout",
     "output_type": "stream",
     "text": [
      "loading and pre-processing App test data...\n"
     ]
    },
    {
     "data": {
      "text/plain": [
       "(1604, 6705)"
      ]
     },
     "execution_count": 45,
     "metadata": {},
     "output_type": "execute_result"
    }
   ],
   "source": [
    "print(\"loading and pre-processing App test data...\")\n",
    "app_test_df = pd.read_csv('./data/AppResult.csv', sep=',')\n",
    "app_test_df['target'] = app_test_df['Label'].map({'work': 1, 'play': 0})\n",
    "y_app_test = app_test_df['target'].values\n",
    "\n",
    "#use the one-hot encoder fit on all apps to transform existing test apps\n",
    "X1_test = enc.transform(app_test_df['Process'].values.reshape(-1,1)) \n",
    "X1_test.shape"
   ]
  },
  {
   "cell_type": "code",
   "execution_count": 47,
   "metadata": {},
   "outputs": [
    {
     "name": "stdout",
     "output_type": "stream",
     "text": [
      "loading and pre-processing URL test data...\n"
     ]
    },
    {
     "data": {
      "text/plain": [
       "(1604, 5)"
      ]
     },
     "execution_count": 47,
     "metadata": {},
     "output_type": "execute_result"
    }
   ],
   "source": [
    "print(\"loading and pre-processing URL test data...\")\n",
    "url_test_df = pd.read_csv(\"./data/URLResult.csv\")\n",
    "url_test_df.columns = ['index', 'url', 'category']\n",
    "url_test_df.dropna(inplace=True)\n",
    "\n",
    "url_test_df['url_tokens'] = url_test_df['url'].apply(lambda x: tokenizer_nltk.tokenize(x))\n",
    "url_test_df['url_tokens_filtered'] = url_test_df['url_tokens'].apply(lambda sent: [word for word in sent if word not in stop_words])\n",
    "url_test_df['target'] = url_test_df['category'].map({'work': 1, 'play': 0})\n",
    "\n",
    "num_train = X1_test.shape[0]  #to match input lengths\n",
    "url_test_df = url_test_df.sample(n=num_train, replace=True, random_state=1)\n",
    "raw_docs_test = url_test_df['url_tokens_filtered']\n",
    "y_url_test = url_test_df['target'].values\n",
    "\n",
    "processed_docs_test = []\n",
    "for doc in raw_docs_test:\n",
    "    tokens = tokenizer_nltk.tokenize(\" \".join(doc))\n",
    "    filtered = [word for word in tokens if word not in stop_words]\n",
    "    processed_docs_test.append(\" \".join(filtered))\n",
    "#end for\n",
    "\n",
    "word_seq_test = tokenizer_keras.texts_to_sequences(processed_docs_test)\n",
    "word_seq_test = sequence.pad_sequences(word_seq_test, maxlen=max_seq_len)\n",
    "word_seq_test.shape\n"
   ]
  },
  {
   "cell_type": "code",
   "execution_count": 48,
   "metadata": {},
   "outputs": [],
   "source": [
    "y_label_test = y_url_test | y_app_test"
   ]
  },
  {
   "cell_type": "code",
   "execution_count": 50,
   "metadata": {},
   "outputs": [
    {
     "data": {
      "text/plain": [
       "<matplotlib.axes._subplots.AxesSubplot at 0x203c9221b00>"
      ]
     },
     "execution_count": 50,
     "metadata": {},
     "output_type": "execute_result"
    },
    {
     "data": {
      "image/png": "[encoded data removed]",
      "text/plain": [
       "<Figure size 432x288 with 1 Axes>"
      ]
     },
     "metadata": {
      "needs_background": "light"
     },
     "output_type": "display_data"
    }
   ],
   "source": [
    "sns.distplot(y_label_test, kde=False)"
   ]
  },
  {
   "cell_type": "markdown",
   "metadata": {},
   "source": [
    "Let's evaluate the model on test data next:"
   ]
  },
  {
   "cell_type": "code",
   "execution_count": 56,
   "metadata": {},
   "outputs": [
    {
     "name": "stdout",
     "output_type": "stream",
     "text": [
      "1604/1604 [==============================] - ETA:  - ETA:  - ETA:  - ETA:  - ETA:  - ETA:  - ETA:  - ETA:  - ETA:  - ETA:  - ETA:  - ETA:  - ETA:  - ETA:  - ETA:  - ETA:  - ETA:  - ETA:  - ETA:  - ETA:  - ETA:  - ETA:  - 1s 857us/step\n"
     ]
    }
   ],
   "source": [
    "score_prob = dnn_model.predict({'app': X1_test, 'url': word_seq_test}, batch_size=32, verbose=1)\n",
    "score_threshold = 0.6\n",
    "score_final = list(map(lambda x: 1 if x > score_threshold else 0, score_prob))"
   ]
  },
  {
   "cell_type": "code",
   "execution_count": 58,
   "metadata": {},
   "outputs": [
    {
     "data": {
      "text/plain": [
       "<matplotlib.legend.Legend at 0x203c97194e0>"
      ]
     },
     "execution_count": 58,
     "metadata": {},
     "output_type": "execute_result"
    },
    {
     "data": {
      "image/png": "[encoded data removed]",
      "text/plain": [
       "<Figure size 432x288 with 1 Axes>"
      ]
     },
     "metadata": {
      "needs_background": "light"
     },
     "output_type": "display_data"
    }
   ],
   "source": [
    "sns.distplot(score_prob, kde=False)\n",
    "plt.axvline(x=score_threshold, c='r', label='score threshold'); plt.grid(True); plt.legend()"
   ]
  },
  {
   "cell_type": "code",
   "execution_count": 59,
   "metadata": {},
   "outputs": [
    {
     "data": {
      "text/plain": [
       "<matplotlib.axes._subplots.AxesSubplot at 0x203c9781160>"
      ]
     },
     "execution_count": 59,
     "metadata": {},
     "output_type": "execute_result"
    },
    {
     "data": {
      "image/png": "[encoded data removed]",
      "text/plain": [
       "<Figure size 432x288 with 2 Axes>"
      ]
     },
     "metadata": {
      "needs_background": "light"
     },
     "output_type": "display_data"
    }
   ],
   "source": [
    "score_data = {'y_pred': score_final, 'y_true': y_label_test}\n",
    "\n",
    "score_df = pd.DataFrame(score_data, columns=['y_true','y_pred'])\n",
    "confusion_matrix = pd.crosstab(score_df['y_true'], score_df['y_pred'], rownames=['actual'], colnames=['predicted'])\n",
    "\n",
    "sns.heatmap(confusion_matrix, annot=True)"
   ]
  },
  {
   "cell_type": "code",
   "execution_count": 60,
   "metadata": {},
   "outputs": [
    {
     "name": "stdout",
     "output_type": "stream",
     "text": [
      "classification accuracy:  0.722568578553616\n"
     ]
    }
   ],
   "source": [
    "clf_acc = np.trace(confusion_matrix.values)/sum(sum(confusion_matrix.values))\n",
    "print(\"classification accuracy: \", clf_acc)"
   ]
  },
  {
   "cell_type": "markdown",
   "metadata": {},
   "source": [
    "Let's export the model into ONNX format"
   ]
  },
  {
   "cell_type": "code",
   "execution_count": 61,
   "metadata": {},
   "outputs": [
    {
     "name": "stderr",
     "output_type": "stream",
     "text": [
      "W0807 13:30:30.835594 12336 deprecation_wrapper.py:119] From C:\\Users\\t-vasmol.REDMOND\\AppData\\Local\\Continuum\\anaconda3\\envs\\vss\\lib\\site-packages\\keras2onnx\\common\\utils.py:42: The name tf.logging.set_verbosity is deprecated. Please use tf.compat.v1.logging.set_verbosity instead.\n",
      "\n",
      "W0807 13:30:30.835594 12336 deprecation_wrapper.py:119] From C:\\Users\\t-vasmol.REDMOND\\AppData\\Local\\Continuum\\anaconda3\\envs\\vss\\lib\\site-packages\\keras2onnx\\common\\utils.py:42: The name tf.logging.WARN is deprecated. Please use tf.compat.v1.logging.WARN instead.\n",
      "\n"
     ]
    }
   ],
   "source": [
    "output_onnx_model = './data/model-v2.onnx'\n",
    "\n",
    "# Convert the Keras model into ONNX\n",
    "onnx_model = onnxmltools.convert_keras(dnn_model)\n",
    "\n",
    "# Save as protobuf\n",
    "onnxmltools.utils.save_model(onnx_model, output_onnx_model)"
   ]
  },
  {
   "cell_type": "markdown",
   "metadata": {},
   "source": [
    "### References"
   ]
  },
  {
   "cell_type": "markdown",
   "metadata": {},
   "source": [
    "[1] Francois Chollet, \"Deep Learning with Python\", 2017 "
   ]
  }
 ],
 "metadata": {
  "kernelspec": {
   "display_name": "Python 3",
   "language": "python",
   "name": "python3"
  },
  "language_info": {
   "codemirror_mode": {
    "name": "ipython",
    "version": 3
   },
   "file_extension": ".py",
   "mimetype": "text/x-python",
   "name": "python",
   "nbconvert_exporter": "python",
   "pygments_lexer": "ipython3",
   "version": "3.6.8"
  }
 },
 "nbformat": 4,
 "nbformat_minor": 2
}
