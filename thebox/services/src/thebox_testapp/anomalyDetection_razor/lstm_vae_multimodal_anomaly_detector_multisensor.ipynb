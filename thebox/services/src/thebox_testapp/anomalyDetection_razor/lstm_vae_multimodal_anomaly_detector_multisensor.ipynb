{
 "cells": [
  {
   "cell_type": "markdown",
   "metadata": {},
   "source": [
    "## LSTM-VAE multi-modal anomaly detector"
   ]
  },
  {
   "cell_type": "markdown",
   "metadata": {},
   "source": [
    "An unsupervised model for detecting anomaly whenever a deviation in reconstruction error is found in comparison to normal behavior. LSTM-VAE does multimodal data fusion by combining sensor feature data over time. A learnable threshold is used to decide on anomalous behavior. In the case of MHHD the sensors are Apps, Key Strokes, URLs, (and potentially Voice, Camera, Registry Keys)."
   ]
  },
  {
   "cell_type": "code",
   "execution_count": 1,
   "metadata": {},
   "outputs": [
    {
     "name": "stderr",
     "output_type": "stream",
     "text": [
      "Using TensorFlow backend.\n"
     ]
    }
   ],
   "source": [
    "import numpy as np\n",
    "import pandas as pd\n",
    "import seaborn as sns\n",
    "import matplotlib.pyplot as plt\n",
    "\n",
    "import math\n",
    "import json\n",
    "from scipy import signal\n",
    "from scipy.stats import norm\n",
    "from sklearn.model_selection import train_test_split\n",
    "from sklearn.svm import SVR\n",
    "from sklearn import preprocessing\n",
    "from sklearn.metrics import confusion_matrix\n",
    "from sklearn.preprocessing import StandardScaler\n",
    "\n",
    "import tensorflow as tf\n",
    "\n",
    "import keras\n",
    "from keras.layers import Input, Dense, Lambda, Layer\n",
    "from keras.layers import LSTM, RepeatVector\n",
    "from keras.models import Model\n",
    "from keras import backend as K\n",
    "from keras import metrics\n",
    "from keras import optimizers\n",
    "from keras.datasets import mnist\n",
    "\n",
    "from keras.callbacks import ModelCheckpoint\n",
    "from keras.callbacks import TensorBoard\n",
    "from keras.callbacks import LearningRateScheduler \n",
    "from keras.callbacks import EarlyStopping\n",
    "\n",
    "from keras.utils import plot_model"
   ]
  },
  {
   "cell_type": "code",
   "execution_count": 2,
   "metadata": {},
   "outputs": [],
   "source": [
    "#generate data\n",
    "num_sensors = 10\n",
    "noise_scale = 10\n",
    "signal_len = 5000\n",
    "t = np.linspace(0, signal_len, signal_len)\n",
    "\n",
    "train_data_frame = pd.DataFrame()\n",
    "test_data_frame = pd.DataFrame()\n",
    "\n",
    "for idx in range(num_sensors):\n",
    "    \n",
    "    #sample sensor parameters\n",
    "    signal_type = np.random.randint(low=0, high=3, size=1)[0]\n",
    "    signal_amplitude = np.random.randint(low=1, high=100, size=1)[0]\n",
    "    signal_frequency = np.random.randint(low=5, high=20, size=1)[0]\n",
    "    signal_phase = np.random.randint(low=1, high=10, size=1)[0]\n",
    "    signal_offset = np.random.randint(low=-20, high=20, size=1)[0]\n",
    "    signal_noise = np.random.normal(1, noise_scale, len(t))[0]\n",
    "    \n",
    "    #create sensor signal\n",
    "    if (signal_type == 0):\n",
    "        sensor = signal_amplitude*signal.square(2*np.pi*signal_frequency*t + signal_phase) + signal_offset + signal_noise\n",
    "    elif (signal_type == 1):\n",
    "        sensor = signal_amplitude*np.sin(2*np.pi*signal_frequency*t + signal_phase) + signal_offset + signal_noise\n",
    "    else:\n",
    "        sensor = signal_amplitude*signal.sawtooth(2*np.pi*signal_frequency*t + signal_phase) + signal_offset + signal_noise\n",
    "    #end if\n",
    "    \n",
    "    #sample anomaly parameters\n",
    "    anomaly_type = np.random.randint(low=0, high=2, size=1)[0]\n",
    "    anomaly_idx = np.random.randint(low=0.2*len(t), high=0.8*len(t), size=1)[0]\n",
    "    anomaly_magnitude = np.random.randint(low=0.2*signal_amplitude, high=signal_amplitude, size=1)[0]\n",
    "    anomaly_frequency = np.random.randint(low=signal_frequency, high=2*signal_frequency, size=1)[0]\n",
    "    anomaly_phase = np.random.randint(low=signal_phase, high=2*signal_phase, size=1)[0]\n",
    "    anomaly_offset = signal_offset + np.random.randint(low=0, high=20, size=1)[0]\n",
    "    anomaly_noise = signal_noise + np.random.normal(1, noise_scale, len(t))[0]\n",
    "    anomaly_window_size = np.random.randint(low=100, high=200, size=1)[0]\n",
    "    anomaly_window_std = np.random.randint(low=100, high=200, size=1)[0]\n",
    "    \n",
    "    #create anomaly signal\n",
    "    sensor_anomaly = np.copy(sensor)\n",
    "    if (anomaly_type == 0):\n",
    "        anomaly = anomaly_magnitude * signal.gaussian(anomaly_window_size, std=anomaly_window_std)\n",
    "        sensor_anomaly[anomaly_idx:anomaly_idx+anomaly_window_size] += anomaly\n",
    "    elif (anomaly_type == 1 and signal_type == 0):\n",
    "        sensor_anomaly[anomaly_idx:-1] = anomaly_magnitude*signal.square(2*np.pi*anomaly_frequency*t[anomaly_idx:-1] + anomaly_phase) + anomaly_offset + anomaly_noise\n",
    "    elif (anomaly_type == 1 and signal_type == 1):\n",
    "        sensor_anomaly[anomaly_idx:-1] = anomaly_magnitude*np.sin(2*np.pi*anomaly_frequency*t[anomaly_idx:-1] + anomaly_phase) + anomaly_offset + anomaly_noise\n",
    "    elif (anomaly_type == 1 and signal_type == 2):\n",
    "        sensor_anomaly[anomaly_idx:-1] = anomaly_magnitude*signal.sawtooth(2*np.pi*anomaly_frequency*t[anomaly_idx:-1] + anomaly_phase) + anomaly_offset + anomaly_noise\n",
    "    #end if\n",
    "\n",
    "    col_name = 'sensor' + str(idx)\n",
    "    train_data_frame[col_name] = sensor\n",
    "    test_data_frame[col_name] = sensor_anomaly\n",
    "#end for"
   ]
  },
  {
   "cell_type": "code",
   "execution_count": 3,
   "metadata": {},
   "outputs": [
    {
     "data": {
      "text/plain": [
       "[<matplotlib.lines.Line2D at 0x21aa4ff2e10>]"
      ]
     },
     "execution_count": 3,
     "metadata": {},
     "output_type": "execute_result"
    },
    {
     "data": {
      "image/png": "[encoded data removed]",
      "text/plain": [
       "<Figure size 432x288 with 1 Axes>"
      ]
     },
     "metadata": {
      "needs_background": "light"
     },
     "output_type": "display_data"
    }
   ],
   "source": [
    "plt.plot(test_data_frame['sensor0'].values)"
   ]
  },
  {
   "cell_type": "code",
   "execution_count": 4,
   "metadata": {},
   "outputs": [],
   "source": [
    "#pre-process (scale) the data\n",
    "standard_scaler_dict = {}\n",
    "train_data = np.zeros((len(t), num_sensors))\n",
    "test_data = np.zeros((len(t), num_sensors))\n",
    "\n",
    "for idx in range(num_sensors):\n",
    "\n",
    "    key = 'data_scaler_' + str(idx)\n",
    "    col_name = 'sensor' + str(idx)\n",
    "    \n",
    "    data_scaler = StandardScaler()\n",
    "    data_scaler.fit(train_data_frame[col_name].values.reshape(-1,1))\n",
    "\n",
    "    train_data_scaled = data_scaler.transform(train_data_frame[col_name].values.reshape(-1,1))\n",
    "    test_data_scaled = data_scaler.transform(test_data_frame[col_name].values.reshape(-1,1))\n",
    "    \n",
    "    standard_scaler_dict[key] = data_scaler\n",
    "    train_data[:,idx] = train_data_scaled.flatten()\n",
    "    test_data[:,idx] = test_data_scaled.flatten()\n",
    "\n",
    "#end for"
   ]
  },
  {
   "cell_type": "code",
   "execution_count": 5,
   "metadata": {},
   "outputs": [
    {
     "data": {
      "text/plain": [
       "[<matplotlib.lines.Line2D at 0x21aa50af438>]"
      ]
     },
     "execution_count": 5,
     "metadata": {},
     "output_type": "execute_result"
    },
    {
     "data": {
      "image/png": "[encoded data removed]",
      "text/plain": [
       "<Figure size 432x288 with 1 Axes>"
      ]
     },
     "metadata": {
      "needs_background": "light"
     },
     "output_type": "display_data"
    }
   ],
   "source": [
    "plt.plot(test_data[:,-1])"
   ]
  },
  {
   "cell_type": "code",
   "execution_count": 6,
   "metadata": {},
   "outputs": [],
   "source": [
    "DATA_PATH = './data/'\n",
    "\n",
    "def step_decay(epoch):\n",
    "    lr_init = 0.001\n",
    "    drop = 0.5\n",
    "    epochs_drop = 16.0\n",
    "    lr_new = lr_init * math.pow(drop, math.floor((1+epoch)/epochs_drop))\n",
    "    return lr_new\n",
    "\n",
    "class LR_hist(keras.callbacks.Callback):\n",
    "    def on_train_begin(self, logs={}):\n",
    "        self.losses = []\n",
    "        self.lr = []\n",
    "    def on_epoch_end(self, batch, logs={}):\n",
    "        self.losses.append(logs.get('loss'))\n",
    "        self.lr.append(step_decay(len(self.losses)))"
   ]
  },
  {
   "cell_type": "code",
   "execution_count": 7,
   "metadata": {},
   "outputs": [],
   "source": [
    "def create_dataset(dataset, look_back=64, step=1):\n",
    "    dataX, dataY = [], []\n",
    "    for i in range(0, len(dataset)-look_back-1, step):\n",
    "        dataX.append(dataset[i:(i+look_back),:])\n",
    "        dataY.append(dataset[i+look_back,:])\n",
    "\n",
    "    return np.array(dataX), np.array(dataY)"
   ]
  },
  {
   "cell_type": "code",
   "execution_count": 8,
   "metadata": {},
   "outputs": [],
   "source": [
    "X_data, y_data = create_dataset(train_data, look_back=64) #look_back = window_size\n",
    "X_train, X_val, y_train, y_val = train_test_split(X_data, y_data, test_size=0.1, random_state=42)\n",
    "X_test, y_test = create_dataset(test_data, look_back=64)  #look_back = window_size"
   ]
  },
  {
   "cell_type": "code",
   "execution_count": 11,
   "metadata": {},
   "outputs": [],
   "source": [
    "#training params\n",
    "batch_size = 256\n",
    "num_epochs = 64\n",
    "\n",
    "#model params\n",
    "timesteps = X_train.shape[1]\n",
    "input_dim = X_train.shape[-1]\n",
    "intermediate_dim = 16 #256\n",
    "latent_dim = 2\n",
    "epsilon_std = 1.0"
   ]
  },
  {
   "cell_type": "code",
   "execution_count": 12,
   "metadata": {},
   "outputs": [],
   "source": [
    "#sampling layer\n",
    "def sampling(args):\n",
    "    z_mean, z_log_sigma = args\n",
    "    epsilon = K.random_normal(shape=(K.shape(z_mean)[0], latent_dim), mean=0.0, stddev=epsilon_std)\n",
    "    return z_mean + K.exp(z_log_sigma) * epsilon"
   ]
  },
  {
   "cell_type": "code",
   "execution_count": 13,
   "metadata": {},
   "outputs": [],
   "source": [
    "#likelihood layer\n",
    "def likelihood(args):\n",
    "    x, x_decoded_mean, x_decoded_scale = args\n",
    "    dist = tf.contrib.distributions.MultivariateNormalDiag(x_decoded_mean, x_decoded_scale)\n",
    "    likelihood = dist.log_prob(x)\n",
    "    #Q: what dimension is likelihood? (x,x,3)? is 3-dimensional Gaussian evaluates to a scalar probability but what do we want?\n",
    "    #Q: what is the loss minimizing? do we want a multi-output model\n",
    "    #Q: return_sequences=False in h=LSTM(intermediate_dim)(x), i.e. one model for all dimensions\n",
    "    #Q: Is it still MultivariateNormalDiag? If univariate, are there enough degrees of freedom to learn the pattern? e.g. one Gaussian per sensor    \n",
    "    #Q: We want anomaly and on which sensor it occured as the output\n",
    "    return likelihood"
   ]
  },
  {
   "cell_type": "code",
   "execution_count": 14,
   "metadata": {},
   "outputs": [],
   "source": [
    "#likelihood layer\n",
    "def likelihood_multivariate(args):\n",
    "    x, x_decoded_mean, x_decoded_scale = args\n",
    "    \n",
    "    num_sensors = x.shape[-1]\n",
    "    \n",
    "    likelihood_list = []\n",
    "    for idx in range(num_sensors):\n",
    "        \n",
    "        dist = tf.contrib.distributions.Normal(loc=x_decoded_mean[:,:,idx], scale=x_decoded_scale[:,:,idx])\n",
    "        likelihood = dist.log_prob(x[:,:,idx])\n",
    "        likelihood_list.append(likelihood)\n",
    "\n",
    "    #end for\n",
    "\n",
    "    return tf.keras.backend.stack(likelihood_list,axis=-1)"
   ]
  },
  {
   "cell_type": "code",
   "execution_count": 15,
   "metadata": {},
   "outputs": [
    {
     "name": "stdout",
     "output_type": "stream",
     "text": [
      "WARNING:tensorflow:From c:\\tools\\anaconda3\\envs\\vss\\lib\\site-packages\\keras\\backend\\tensorflow_backend.py:517: The name tf.placeholder is deprecated. Please use tf.compat.v1.placeholder instead.\n",
      "\n",
      "WARNING:tensorflow:From c:\\tools\\anaconda3\\envs\\vss\\lib\\site-packages\\keras\\backend\\tensorflow_backend.py:74: The name tf.get_default_graph is deprecated. Please use tf.compat.v1.get_default_graph instead.\n",
      "\n",
      "WARNING:tensorflow:From c:\\tools\\anaconda3\\envs\\vss\\lib\\site-packages\\keras\\backend\\tensorflow_backend.py:4138: The name tf.random_uniform is deprecated. Please use tf.random.uniform instead.\n",
      "\n",
      "WARNING:tensorflow:From c:\\tools\\anaconda3\\envs\\vss\\lib\\site-packages\\keras\\backend\\tensorflow_backend.py:4115: The name tf.random_normal is deprecated. Please use tf.random.normal instead.\n",
      "\n",
      "WARNING:tensorflow:\n",
      "The TensorFlow contrib module will not be included in TensorFlow 2.0.\n",
      "For more information, please see:\n",
      "  * https://github.com/tensorflow/community/blob/master/rfcs/20180907-contrib-sunset.md\n",
      "  * https://github.com/tensorflow/addons\n",
      "  * https://github.com/tensorflow/io (for I/O related ops)\n",
      "If you depend on functionality not listed there, please file an issue.\n",
      "\n",
      "WARNING:tensorflow:From <ipython-input-14-c980519146a0>:10: Normal.__init__ (from tensorflow.python.ops.distributions.normal) is deprecated and will be removed after 2019-01-01.\n",
      "Instructions for updating:\n",
      "The TensorFlow Distributions library has moved to TensorFlow Probability (https://github.com/tensorflow/probability). You should update all references to use `tfp.distributions` instead of `tf.distributions`.\n",
      "WARNING:tensorflow:From c:\\tools\\anaconda3\\envs\\vss\\lib\\site-packages\\tensorflow_core\\python\\ops\\distributions\\normal.py:160: Distribution.__init__ (from tensorflow.python.ops.distributions.distribution) is deprecated and will be removed after 2019-01-01.\n",
      "Instructions for updating:\n",
      "The TensorFlow Distributions library has moved to TensorFlow Probability (https://github.com/tensorflow/probability). You should update all references to use `tfp.distributions` instead of `tf.distributions`.\n"
     ]
    }
   ],
   "source": [
    "#VAE architecture\n",
    "\n",
    "#encoder\n",
    "x = Input(shape=(timesteps, input_dim,), name=\"input_sequence\")\n",
    "h = LSTM(intermediate_dim)(x)\n",
    "\n",
    "z_mean = Dense(latent_dim)(h)\n",
    "z_log_sigma = Dense(latent_dim, activation='softplus')(h)\n",
    "\n",
    "#sampling\n",
    "z = Lambda(sampling, output_shape=(latent_dim,))([z_mean, z_log_sigma])\n",
    "\n",
    "#decoder\n",
    "decoder_h = LSTM(intermediate_dim, return_sequences=True)\n",
    "decoder_loc = LSTM(input_dim, return_sequences=True)\n",
    "decoder_scale = LSTM(input_dim, activation='softplus', return_sequences=True)\n",
    "\n",
    "h_decoded = RepeatVector(timesteps)(z)\n",
    "h_decoded = decoder_h(h_decoded)\n",
    "\n",
    "x_decoded_mean = decoder_loc(h_decoded)\n",
    "x_decoded_scale = decoder_scale(h_decoded)\n",
    "\n",
    "like = Lambda(likelihood_multivariate, output_shape=(timesteps, input_dim,), name=\"likelihood\")([x, x_decoded_mean, x_decoded_scale])"
   ]
  },
  {
   "cell_type": "code",
   "execution_count": 16,
   "metadata": {},
   "outputs": [],
   "source": [
    "#custom loss layer\n",
    "class CustomVariationalLayer(Layer):\n",
    "    def __init__(self, **kwargs):\n",
    "        self.is_placeholder = True\n",
    "        super(CustomVariationalLayer, self).__init__(**kwargs)\n",
    "    \n",
    "    def vae_loss(self, x, z_mean, z_log_sigma, likelihood):        \n",
    "        kl_loss = - 0.5 * K.mean(1 + z_log_sigma - K.square(z_mean) - K.exp(z_log_sigma))\n",
    "        loss = -K.mean(likelihood - kl_loss)\n",
    "        return loss\n",
    "\n",
    "    def call(self, inputs):\n",
    "        x = inputs[0]\n",
    "        z_mean = inputs[1]\n",
    "        z_log_sigma = inputs[2]\n",
    "        likelihood = inputs[3]\n",
    "        loss = self.vae_loss(x, z_mean, z_log_sigma, likelihood)\n",
    "        self.add_loss(loss, inputs=inputs)\n",
    "        return x"
   ]
  },
  {
   "cell_type": "code",
   "execution_count": 17,
   "metadata": {},
   "outputs": [],
   "source": [
    "y = CustomVariationalLayer()([x, z_mean, z_log_sigma, like])\n",
    "vae_like = Model(x, like)\n",
    "vae = Model(x, y)"
   ]
  },
  {
   "cell_type": "code",
   "execution_count": 18,
   "metadata": {},
   "outputs": [
    {
     "name": "stdout",
     "output_type": "stream",
     "text": [
      "WARNING:tensorflow:From c:\\tools\\anaconda3\\envs\\vss\\lib\\site-packages\\keras\\optimizers.py:790: The name tf.train.Optimizer is deprecated. Please use tf.compat.v1.train.Optimizer instead.\n",
      "\n",
      "__________________________________________________________________________________________________\n",
      "Layer (type)                    Output Shape         Param #     Connected to                     \n",
      "==================================================================================================\n",
      "input_sequence (InputLayer)     (None, 64, 10)       0                                            \n",
      "__________________________________________________________________________________________________\n",
      "lstm_1 (LSTM)                   (None, 16)           1728        input_sequence[0][0]             \n",
      "__________________________________________________________________________________________________\n",
      "dense_1 (Dense)                 (None, 2)            34          lstm_1[0][0]                     \n",
      "__________________________________________________________________________________________________\n",
      "dense_2 (Dense)                 (None, 2)            34          lstm_1[0][0]                     \n",
      "__________________________________________________________________________________________________\n",
      "lambda_1 (Lambda)               (None, 2)            0           dense_1[0][0]                    \n",
      "                                                                 dense_2[0][0]                    \n",
      "__________________________________________________________________________________________________\n",
      "repeat_vector_1 (RepeatVector)  (None, 64, 2)        0           lambda_1[0][0]                   \n",
      "__________________________________________________________________________________________________\n",
      "lstm_2 (LSTM)                   (None, 64, 16)       1216        repeat_vector_1[0][0]            \n",
      "__________________________________________________________________________________________________\n",
      "lstm_3 (LSTM)                   (None, 64, 10)       1080        lstm_2[0][0]                     \n",
      "__________________________________________________________________________________________________\n",
      "lstm_4 (LSTM)                   (None, 64, 10)       1080        lstm_2[0][0]                     \n",
      "__________________________________________________________________________________________________\n",
      "likelihood (Lambda)             (None, 64, 10)       0           input_sequence[0][0]             \n",
      "                                                                 lstm_3[0][0]                     \n",
      "                                                                 lstm_4[0][0]                     \n",
      "__________________________________________________________________________________________________\n",
      "custom_variational_layer_1 (Cus [(None, 64, 10), (No 0           input_sequence[0][0]             \n",
      "                                                                 dense_1[0][0]                    \n",
      "                                                                 dense_2[0][0]                    \n",
      "                                                                 likelihood[0][0]                 \n",
      "==================================================================================================\n",
      "Total params: 5,172\n",
      "Trainable params: 5,172\n",
      "Non-trainable params: 0\n",
      "__________________________________________________________________________________________________\n"
     ]
    }
   ],
   "source": [
    "adam = optimizers.Adam(lr=0.001, beta_1=0.9, beta_2=0.999, epsilon=1e-08, decay=0.0)\n",
    "vae.compile(loss=None, optimizer=adam, metrics=['accuracy'])\n",
    "vae.summary()"
   ]
  },
  {
   "cell_type": "code",
   "execution_count": 19,
   "metadata": {},
   "outputs": [],
   "source": [
    "#define callbacks\n",
    "file_name = DATA_PATH + 'lstm-vae-anomaly-detector-multisensor.hdf5'\n",
    "checkpoint = ModelCheckpoint(file_name, monitor='loss', verbose=1, save_best_only=True, mode='min')\n",
    "tensor_board = TensorBoard(log_dir='./logs', write_graph=True)\n",
    "hist_lr = LR_hist()\n",
    "reduce_lr = LearningRateScheduler(step_decay) \n",
    "early_stopping = EarlyStopping(monitor='loss', min_delta=0.01, patience=64, verbose=1)\n",
    "callbacks_list = [checkpoint, hist_lr, reduce_lr, early_stopping]"
   ]
  },
  {
   "cell_type": "code",
   "execution_count": 20,
   "metadata": {},
   "outputs": [
    {
     "name": "stdout",
     "output_type": "stream",
     "text": [
      "training vae model...\n",
      "WARNING:tensorflow:From c:\\tools\\anaconda3\\envs\\vss\\lib\\site-packages\\tensorflow_core\\python\\ops\\math_grad.py:1424: where (from tensorflow.python.ops.array_ops) is deprecated and will be removed in a future version.\n",
      "Instructions for updating:\n",
      "Use tf.where in 2.0, which has the same broadcast rule as np.where\n",
      "WARNING:tensorflow:From c:\\tools\\anaconda3\\envs\\vss\\lib\\site-packages\\keras\\backend\\tensorflow_backend.py:986: The name tf.assign_add is deprecated. Please use tf.compat.v1.assign_add instead.\n",
      "\n",
      "WARNING:tensorflow:From c:\\tools\\anaconda3\\envs\\vss\\lib\\site-packages\\keras\\backend\\tensorflow_backend.py:973: The name tf.assign is deprecated. Please use tf.compat.v1.assign instead.\n",
      "\n",
      "WARNING:tensorflow:From c:\\tools\\anaconda3\\envs\\vss\\lib\\site-packages\\keras\\backend\\tensorflow_backend.py:2741: The name tf.Session is deprecated. Please use tf.compat.v1.Session instead.\n",
      "\n",
      "Train on 4441 samples, validate on 494 samples\n",
      "Epoch 1/64\n",
      "WARNING:tensorflow:From c:\\tools\\anaconda3\\envs\\vss\\lib\\site-packages\\keras\\backend\\tensorflow_backend.py:174: The name tf.get_default_session is deprecated. Please use tf.compat.v1.get_default_session instead.\n",
      "\n",
      "WARNING:tensorflow:From c:\\tools\\anaconda3\\envs\\vss\\lib\\site-packages\\keras\\backend\\tensorflow_backend.py:181: The name tf.ConfigProto is deprecated. Please use tf.compat.v1.ConfigProto instead.\n",
      "\n",
      "WARNING:tensorflow:From c:\\tools\\anaconda3\\envs\\vss\\lib\\site-packages\\keras\\backend\\tensorflow_backend.py:190: The name tf.global_variables is deprecated. Please use tf.compat.v1.global_variables instead.\n",
      "\n",
      "WARNING:tensorflow:From c:\\tools\\anaconda3\\envs\\vss\\lib\\site-packages\\keras\\backend\\tensorflow_backend.py:199: The name tf.is_variable_initialized is deprecated. Please use tf.compat.v1.is_variable_initialized instead.\n",
      "\n",
      "WARNING:tensorflow:From c:\\tools\\anaconda3\\envs\\vss\\lib\\site-packages\\keras\\backend\\tensorflow_backend.py:206: The name tf.variables_initializer is deprecated. Please use tf.compat.v1.variables_initializer instead.\n",
      "\n",
      " - 8s - loss: 1.9549 - val_loss: 1.7783\n",
      "\n",
      "Epoch 00001: loss improved from inf to 1.95485, saving model to ./data/lstm-vae-anomaly-detector-multisensor.hdf5\n",
      "Epoch 2/64\n",
      " - 3s - loss: 1.7012 - val_loss: 1.6327\n",
      "\n",
      "Epoch 00002: loss improved from 1.95485 to 1.70117, saving model to ./data/lstm-vae-anomaly-detector-multisensor.hdf5\n",
      "Epoch 3/64\n",
      " - 3s - loss: 1.6032 - val_loss: 1.5788\n",
      "\n",
      "Epoch 00003: loss improved from 1.70117 to 1.60317, saving model to ./data/lstm-vae-anomaly-detector-multisensor.hdf5\n",
      "Epoch 4/64\n",
      " - 3s - loss: 1.5624 - val_loss: 1.5466\n",
      "\n",
      "Epoch 00004: loss improved from 1.60317 to 1.56242, saving model to ./data/lstm-vae-anomaly-detector-multisensor.hdf5\n",
      "Epoch 5/64\n",
      " - 3s - loss: 1.5324 - val_loss: 1.5190\n",
      "\n",
      "Epoch 00005: loss improved from 1.56242 to 1.53240, saving model to ./data/lstm-vae-anomaly-detector-multisensor.hdf5\n",
      "Epoch 6/64\n",
      " - 4s - loss: 1.5096 - val_loss: 1.4997\n",
      "\n",
      "Epoch 00006: loss improved from 1.53240 to 1.50963, saving model to ./data/lstm-vae-anomaly-detector-multisensor.hdf5\n",
      "Epoch 7/64\n",
      " - 4s - loss: 1.4900 - val_loss: 1.4819\n",
      "\n",
      "Epoch 00007: loss improved from 1.50963 to 1.49004, saving model to ./data/lstm-vae-anomaly-detector-multisensor.hdf5\n",
      "Epoch 8/64\n",
      " - 3s - loss: 1.4747 - val_loss: 1.4684\n",
      "\n",
      "Epoch 00008: loss improved from 1.49004 to 1.47473, saving model to ./data/lstm-vae-anomaly-detector-multisensor.hdf5\n",
      "Epoch 9/64\n",
      " - 3s - loss: 1.4644 - val_loss: 1.4606\n",
      "\n",
      "Epoch 00009: loss improved from 1.47473 to 1.46440, saving model to ./data/lstm-vae-anomaly-detector-multisensor.hdf5\n",
      "Epoch 10/64\n",
      " - 3s - loss: 1.4581 - val_loss: 1.4562\n",
      "\n",
      "Epoch 00010: loss improved from 1.46440 to 1.45811, saving model to ./data/lstm-vae-anomaly-detector-multisensor.hdf5\n",
      "Epoch 11/64\n",
      " - 3s - loss: 1.4537 - val_loss: 1.4532\n",
      "\n",
      "Epoch 00011: loss improved from 1.45811 to 1.45370, saving model to ./data/lstm-vae-anomaly-detector-multisensor.hdf5\n",
      "Epoch 12/64\n",
      " - 3s - loss: 1.4508 - val_loss: 1.4504\n",
      "\n",
      "Epoch 00012: loss improved from 1.45370 to 1.45082, saving model to ./data/lstm-vae-anomaly-detector-multisensor.hdf5\n",
      "Epoch 13/64\n",
      " - 3s - loss: 1.4486 - val_loss: 1.4485\n",
      "\n",
      "Epoch 00013: loss improved from 1.45082 to 1.44859, saving model to ./data/lstm-vae-anomaly-detector-multisensor.hdf5\n",
      "Epoch 14/64\n",
      " - 3s - loss: 1.4472 - val_loss: 1.4468\n",
      "\n",
      "Epoch 00014: loss improved from 1.44859 to 1.44717, saving model to ./data/lstm-vae-anomaly-detector-multisensor.hdf5\n",
      "Epoch 15/64\n",
      " - 3s - loss: 1.4456 - val_loss: 1.4455\n",
      "\n",
      "Epoch 00015: loss improved from 1.44717 to 1.44560, saving model to ./data/lstm-vae-anomaly-detector-multisensor.hdf5\n",
      "Epoch 16/64\n",
      " - 3s - loss: 1.4447 - val_loss: 1.4451\n",
      "\n",
      "Epoch 00016: loss improved from 1.44560 to 1.44471, saving model to ./data/lstm-vae-anomaly-detector-multisensor.hdf5\n",
      "Epoch 17/64\n",
      " - 3s - loss: 1.4444 - val_loss: 1.4443\n",
      "\n",
      "Epoch 00017: loss improved from 1.44471 to 1.44438, saving model to ./data/lstm-vae-anomaly-detector-multisensor.hdf5\n",
      "Epoch 18/64\n",
      " - 3s - loss: 1.4438 - val_loss: 1.4442\n",
      "\n",
      "Epoch 00018: loss improved from 1.44438 to 1.44382, saving model to ./data/lstm-vae-anomaly-detector-multisensor.hdf5\n",
      "Epoch 19/64\n",
      " - 4s - loss: 1.4433 - val_loss: 1.4439\n",
      "\n",
      "Epoch 00019: loss improved from 1.44382 to 1.44332, saving model to ./data/lstm-vae-anomaly-detector-multisensor.hdf5\n",
      "Epoch 20/64\n",
      " - 4s - loss: 1.4429 - val_loss: 1.4434\n",
      "\n",
      "Epoch 00020: loss improved from 1.44332 to 1.44294, saving model to ./data/lstm-vae-anomaly-detector-multisensor.hdf5\n",
      "Epoch 21/64\n",
      " - 4s - loss: 1.4425 - val_loss: 1.4431\n",
      "\n",
      "Epoch 00021: loss improved from 1.44294 to 1.44251, saving model to ./data/lstm-vae-anomaly-detector-multisensor.hdf5\n",
      "Epoch 22/64\n",
      " - 4s - loss: 1.4422 - val_loss: 1.4421\n",
      "\n",
      "Epoch 00022: loss improved from 1.44251 to 1.44218, saving model to ./data/lstm-vae-anomaly-detector-multisensor.hdf5\n",
      "Epoch 23/64\n",
      " - 4s - loss: 1.4417 - val_loss: 1.4420\n",
      "\n",
      "Epoch 00023: loss improved from 1.44218 to 1.44173, saving model to ./data/lstm-vae-anomaly-detector-multisensor.hdf5\n",
      "Epoch 24/64\n",
      " - 4s - loss: 1.4415 - val_loss: 1.4422\n",
      "\n",
      "Epoch 00024: loss improved from 1.44173 to 1.44149, saving model to ./data/lstm-vae-anomaly-detector-multisensor.hdf5\n",
      "Epoch 25/64\n",
      " - 4s - loss: 1.4410 - val_loss: 1.4420\n",
      "\n",
      "Epoch 00025: loss improved from 1.44149 to 1.44096, saving model to ./data/lstm-vae-anomaly-detector-multisensor.hdf5\n",
      "Epoch 26/64\n",
      " - 4s - loss: 1.4406 - val_loss: 1.4412\n",
      "\n",
      "Epoch 00026: loss improved from 1.44096 to 1.44058, saving model to ./data/lstm-vae-anomaly-detector-multisensor.hdf5\n",
      "Epoch 27/64\n",
      " - 4s - loss: 1.4402 - val_loss: 1.4408\n",
      "\n",
      "Epoch 00027: loss improved from 1.44058 to 1.44023, saving model to ./data/lstm-vae-anomaly-detector-multisensor.hdf5\n",
      "Epoch 28/64\n",
      " - 4s - loss: 1.4400 - val_loss: 1.4408\n",
      "\n",
      "Epoch 00028: loss improved from 1.44023 to 1.43999, saving model to ./data/lstm-vae-anomaly-detector-multisensor.hdf5\n",
      "Epoch 29/64\n",
      " - 4s - loss: 1.4394 - val_loss: 1.4404\n",
      "\n",
      "Epoch 00029: loss improved from 1.43999 to 1.43942, saving model to ./data/lstm-vae-anomaly-detector-multisensor.hdf5\n",
      "Epoch 30/64\n",
      " - 4s - loss: 1.4393 - val_loss: 1.4398\n",
      "\n",
      "Epoch 00030: loss improved from 1.43942 to 1.43929, saving model to ./data/lstm-vae-anomaly-detector-multisensor.hdf5\n",
      "Epoch 31/64\n",
      " - 4s - loss: 1.4389 - val_loss: 1.4394\n",
      "\n",
      "Epoch 00031: loss improved from 1.43929 to 1.43890, saving model to ./data/lstm-vae-anomaly-detector-multisensor.hdf5\n",
      "Epoch 32/64\n",
      " - 4s - loss: 1.4388 - val_loss: 1.4392\n",
      "\n",
      "Epoch 00032: loss improved from 1.43890 to 1.43878, saving model to ./data/lstm-vae-anomaly-detector-multisensor.hdf5\n",
      "Epoch 33/64\n",
      " - 4s - loss: 1.4384 - val_loss: 1.4390\n",
      "\n",
      "Epoch 00033: loss improved from 1.43878 to 1.43843, saving model to ./data/lstm-vae-anomaly-detector-multisensor.hdf5\n",
      "Epoch 34/64\n",
      " - 4s - loss: 1.4382 - val_loss: 1.4392\n",
      "\n",
      "Epoch 00034: loss improved from 1.43843 to 1.43824, saving model to ./data/lstm-vae-anomaly-detector-multisensor.hdf5\n",
      "Epoch 35/64\n",
      " - 4s - loss: 1.4383 - val_loss: 1.4385\n",
      "\n",
      "Epoch 00035: loss did not improve from 1.43824\n",
      "Epoch 36/64\n",
      " - 4s - loss: 1.4381 - val_loss: 1.4383\n",
      "\n",
      "Epoch 00036: loss improved from 1.43824 to 1.43805, saving model to ./data/lstm-vae-anomaly-detector-multisensor.hdf5\n",
      "Epoch 37/64\n",
      " - 4s - loss: 1.4378 - val_loss: 1.4383\n",
      "\n",
      "Epoch 00037: loss improved from 1.43805 to 1.43776, saving model to ./data/lstm-vae-anomaly-detector-multisensor.hdf5\n",
      "Epoch 38/64\n"
     ]
    },
    {
     "name": "stdout",
     "output_type": "stream",
     "text": [
      " - 4s - loss: 1.4378 - val_loss: 1.4386\n",
      "\n",
      "Epoch 00038: loss did not improve from 1.43776\n",
      "Epoch 39/64\n",
      " - 4s - loss: 1.4376 - val_loss: 1.4381\n",
      "\n",
      "Epoch 00039: loss improved from 1.43776 to 1.43760, saving model to ./data/lstm-vae-anomaly-detector-multisensor.hdf5\n",
      "Epoch 40/64\n",
      " - 4s - loss: 1.4374 - val_loss: 1.4381\n",
      "\n",
      "Epoch 00040: loss improved from 1.43760 to 1.43740, saving model to ./data/lstm-vae-anomaly-detector-multisensor.hdf5\n",
      "Epoch 41/64\n",
      " - 4s - loss: 1.4372 - val_loss: 1.4375\n",
      "\n",
      "Epoch 00041: loss improved from 1.43740 to 1.43725, saving model to ./data/lstm-vae-anomaly-detector-multisensor.hdf5\n",
      "Epoch 42/64\n",
      " - 4s - loss: 1.4371 - val_loss: 1.4380\n",
      "\n",
      "Epoch 00042: loss improved from 1.43725 to 1.43710, saving model to ./data/lstm-vae-anomaly-detector-multisensor.hdf5\n",
      "Epoch 43/64\n",
      " - 4s - loss: 1.4369 - val_loss: 1.4375\n",
      "\n",
      "Epoch 00043: loss improved from 1.43710 to 1.43692, saving model to ./data/lstm-vae-anomaly-detector-multisensor.hdf5\n",
      "Epoch 44/64\n",
      " - 4s - loss: 1.4369 - val_loss: 1.4373\n",
      "\n",
      "Epoch 00044: loss improved from 1.43692 to 1.43688, saving model to ./data/lstm-vae-anomaly-detector-multisensor.hdf5\n",
      "Epoch 45/64\n",
      " - 4s - loss: 1.4366 - val_loss: 1.4370\n",
      "\n",
      "Epoch 00045: loss improved from 1.43688 to 1.43665, saving model to ./data/lstm-vae-anomaly-detector-multisensor.hdf5\n",
      "Epoch 46/64\n",
      " - 4s - loss: 1.4366 - val_loss: 1.4371\n",
      "\n",
      "Epoch 00046: loss improved from 1.43665 to 1.43657, saving model to ./data/lstm-vae-anomaly-detector-multisensor.hdf5\n",
      "Epoch 47/64\n",
      " - 4s - loss: 1.4364 - val_loss: 1.4372\n",
      "\n",
      "Epoch 00047: loss improved from 1.43657 to 1.43638, saving model to ./data/lstm-vae-anomaly-detector-multisensor.hdf5\n",
      "Epoch 48/64\n",
      " - 4s - loss: 1.4363 - val_loss: 1.4370\n",
      "\n",
      "Epoch 00048: loss improved from 1.43638 to 1.43631, saving model to ./data/lstm-vae-anomaly-detector-multisensor.hdf5\n",
      "Epoch 49/64\n",
      " - 4s - loss: 1.4361 - val_loss: 1.4369\n",
      "\n",
      "Epoch 00049: loss improved from 1.43631 to 1.43608, saving model to ./data/lstm-vae-anomaly-detector-multisensor.hdf5\n",
      "Epoch 50/64\n",
      " - 4s - loss: 1.4361 - val_loss: 1.4366\n",
      "\n",
      "Epoch 00050: loss did not improve from 1.43608\n",
      "Epoch 51/64\n",
      " - 4s - loss: 1.4360 - val_loss: 1.4368\n",
      "\n",
      "Epoch 00051: loss improved from 1.43608 to 1.43601, saving model to ./data/lstm-vae-anomaly-detector-multisensor.hdf5\n",
      "Epoch 52/64\n",
      " - 4s - loss: 1.4360 - val_loss: 1.4364\n",
      "\n",
      "Epoch 00052: loss improved from 1.43601 to 1.43598, saving model to ./data/lstm-vae-anomaly-detector-multisensor.hdf5\n",
      "Epoch 53/64\n",
      " - 4s - loss: 1.4359 - val_loss: 1.4365\n",
      "\n",
      "Epoch 00053: loss improved from 1.43598 to 1.43587, saving model to ./data/lstm-vae-anomaly-detector-multisensor.hdf5\n",
      "Epoch 54/64\n",
      " - 4s - loss: 1.4358 - val_loss: 1.4362\n",
      "\n",
      "Epoch 00054: loss improved from 1.43587 to 1.43580, saving model to ./data/lstm-vae-anomaly-detector-multisensor.hdf5\n",
      "Epoch 55/64\n",
      " - 4s - loss: 1.4357 - val_loss: 1.4364\n",
      "\n",
      "Epoch 00055: loss improved from 1.43580 to 1.43571, saving model to ./data/lstm-vae-anomaly-detector-multisensor.hdf5\n",
      "Epoch 56/64\n",
      " - 4s - loss: 1.4356 - val_loss: 1.4363\n",
      "\n",
      "Epoch 00056: loss improved from 1.43571 to 1.43562, saving model to ./data/lstm-vae-anomaly-detector-multisensor.hdf5\n",
      "Epoch 57/64\n",
      " - 4s - loss: 1.4356 - val_loss: 1.4362\n",
      "\n",
      "Epoch 00057: loss did not improve from 1.43562\n",
      "Epoch 58/64\n",
      " - 4s - loss: 1.4356 - val_loss: 1.4362\n",
      "\n",
      "Epoch 00058: loss improved from 1.43562 to 1.43556, saving model to ./data/lstm-vae-anomaly-detector-multisensor.hdf5\n",
      "Epoch 59/64\n",
      " - 4s - loss: 1.4355 - val_loss: 1.4363\n",
      "\n",
      "Epoch 00059: loss improved from 1.43556 to 1.43546, saving model to ./data/lstm-vae-anomaly-detector-multisensor.hdf5\n",
      "Epoch 60/64\n",
      " - 4s - loss: 1.4354 - val_loss: 1.4359\n",
      "\n",
      "Epoch 00060: loss improved from 1.43546 to 1.43537, saving model to ./data/lstm-vae-anomaly-detector-multisensor.hdf5\n",
      "Epoch 61/64\n",
      " - 4s - loss: 1.4353 - val_loss: 1.4361\n",
      "\n",
      "Epoch 00061: loss improved from 1.43537 to 1.43528, saving model to ./data/lstm-vae-anomaly-detector-multisensor.hdf5\n",
      "Epoch 62/64\n",
      " - 4s - loss: 1.4352 - val_loss: 1.4359\n",
      "\n",
      "Epoch 00062: loss improved from 1.43528 to 1.43521, saving model to ./data/lstm-vae-anomaly-detector-multisensor.hdf5\n",
      "Epoch 63/64\n",
      " - 4s - loss: 1.4352 - val_loss: 1.4358\n",
      "\n",
      "Epoch 00063: loss did not improve from 1.43521\n",
      "Epoch 64/64\n",
      " - 4s - loss: 1.4351 - val_loss: 1.4358\n",
      "\n",
      "Epoch 00064: loss improved from 1.43521 to 1.43512, saving model to ./data/lstm-vae-anomaly-detector-multisensor.hdf5\n"
     ]
    }
   ],
   "source": [
    "print(\"training vae model...\")\n",
    "hist = vae.fit(x=X_train, y=None, shuffle=True, epochs=num_epochs, batch_size=batch_size, callbacks=callbacks_list, validation_data=(X_val, None), verbose=2)"
   ]
  },
  {
   "cell_type": "code",
   "execution_count": null,
   "metadata": {},
   "outputs": [],
   "source": [
    "#vae.save(DATA_PATH + 'lstm-vae-anomaly-detector-final-model.h5', overwrite=True)\n",
    "#vae.save_weights(DATA_PATH + 'lstm-vae-anomaly-detector-weights.h5', overwrite=True)"
   ]
  },
  {
   "cell_type": "code",
   "execution_count": null,
   "metadata": {},
   "outputs": [],
   "source": [
    "#load saved model\n",
    "#vae = load_model(DATA_PATH + 'final_model.h5')"
   ]
  },
  {
   "cell_type": "code",
   "execution_count": 21,
   "metadata": {},
   "outputs": [
    {
     "data": {
      "image/png": "[encoded data removed]",
      "text/plain": [
       "<Figure size 432x288 with 1 Axes>"
      ]
     },
     "metadata": {
      "needs_background": "light"
     },
     "output_type": "display_data"
    },
    {
     "data": {
      "image/png": "[encoded data removed]",
      "text/plain": [
       "<Figure size 432x288 with 1 Axes>"
      ]
     },
     "metadata": {
      "needs_background": "light"
     },
     "output_type": "display_data"
    }
   ],
   "source": [
    "#generate plots\n",
    "\n",
    "plt.figure()\n",
    "plt.plot(hist.history['loss'], lw=2.0, c='b', label='training loss')\n",
    "plt.plot(hist.history['val_loss'], lw=2.0, c='r', label='validation loss')\n",
    "plt.title('VAE model')\n",
    "plt.xlabel('Epochs')\n",
    "plt.ylabel('Training Loss')\n",
    "plt.legend()\n",
    "plt.savefig('./figures/lstm_vae_training_loss.png')\n",
    "\n",
    "\n",
    "plt.figure()\n",
    "plt.plot(hist_lr.lr, lw=2.0, label='learning rate')\n",
    "plt.title('VAE model')\n",
    "plt.xlabel('Epochs')\n",
    "plt.ylabel('Learning Rate')\n",
    "plt.legend()\n",
    "plt.savefig('./figures/lstm_vae_learning_rate.png')"
   ]
  },
  {
   "cell_type": "code",
   "execution_count": 22,
   "metadata": {},
   "outputs": [],
   "source": [
    "pred_test = vae_like.predict(X_test)"
   ]
  },
  {
   "cell_type": "code",
   "execution_count": 23,
   "metadata": {},
   "outputs": [
    {
     "data": {
      "text/plain": [
       "(4935, 64, 10)"
      ]
     },
     "execution_count": 23,
     "metadata": {},
     "output_type": "execute_result"
    }
   ],
   "source": [
    "X_test.shape"
   ]
  },
  {
   "cell_type": "code",
   "execution_count": 24,
   "metadata": {},
   "outputs": [
    {
     "data": {
      "text/plain": [
       "(4935, 64, 10)"
      ]
     },
     "execution_count": 24,
     "metadata": {},
     "output_type": "execute_result"
    }
   ],
   "source": [
    "pred_test.shape"
   ]
  },
  {
   "cell_type": "code",
   "execution_count": 29,
   "metadata": {},
   "outputs": [
    {
     "data": {
      "text/plain": [
       "[<matplotlib.lines.Line2D at 0x21ab27b9518>]"
      ]
     },
     "execution_count": 29,
     "metadata": {},
     "output_type": "execute_result"
    },
    {
     "data": {
      "image/png": "[encoded data removed]",
      "text/plain": [
       "<Figure size 432x288 with 1 Axes>"
      ]
     },
     "metadata": {
      "needs_background": "light"
     },
     "output_type": "display_data"
    }
   ],
   "source": [
    "plt.plot(test_data[:,0])"
   ]
  },
  {
   "cell_type": "code",
   "execution_count": 30,
   "metadata": {},
   "outputs": [
    {
     "data": {
      "text/plain": [
       "[<matplotlib.lines.Line2D at 0x21abfdbd748>]"
      ]
     },
     "execution_count": 30,
     "metadata": {},
     "output_type": "execute_result"
    },
    {
     "data": {
      "image/png": "[encoded data removed]",
      "text/plain": [
       "<Figure size 432x288 with 1 Axes>"
      ]
     },
     "metadata": {
      "needs_background": "light"
     },
     "output_type": "display_data"
    }
   ],
   "source": [
    "plt.plot(pred_test[:,0,0])"
   ]
  },
  {
   "cell_type": "code",
   "execution_count": 34,
   "metadata": {},
   "outputs": [
    {
     "data": {
      "text/plain": [
       "[<matplotlib.lines.Line2D at 0x21b5d2cb0b8>]"
      ]
     },
     "execution_count": 34,
     "metadata": {},
     "output_type": "execute_result"
    },
    {
     "data": {
      "image/png": "[encoded data removed]",
      "text/plain": [
       "<Figure size 432x288 with 1 Axes>"
      ]
     },
     "metadata": {
      "needs_background": "light"
     },
     "output_type": "display_data"
    },
    {
     "data": {
      "image/png": "[encoded data removed]",
      "text/plain": [
       "<Figure size 432x288 with 1 Axes>"
      ]
     },
     "metadata": {
      "needs_background": "light"
     },
     "output_type": "display_data"
    }
   ],
   "source": [
    "is_anomaly = pred_test[:,0,0] < -4\n",
    "plt.figure()\n",
    "plt.plot(test_data[:,0], color='b')\n",
    "plt.figure()\n",
    "plt.plot(is_anomaly, color='r')"
   ]
  },
  {
   "cell_type": "markdown",
   "metadata": {},
   "source": [
    "## Keras to TensorFlow .pb file"
   ]
  },
  {
   "cell_type": "code",
   "execution_count": 35,
   "metadata": {},
   "outputs": [],
   "source": [
    "#https://stackoverflow.com/questions/45466020/how-to-export-keras-h5-to-tensorflow-pb\n",
    "def freeze_session(session, keep_var_names=None, output_names=None, clear_devices=True):\n",
    "    \"\"\"\n",
    "    Freezes the state of a session into a pruned computation graph.\n",
    "\n",
    "    Creates a new computation graph where variable nodes are replaced by\n",
    "    constants taking their current value in the session. The new graph will be\n",
    "    pruned so subgraphs that are not necessary to compute the requested\n",
    "    outputs are removed.\n",
    "    @param session The TensorFlow session to be frozen.\n",
    "    @param keep_var_names A list of variable names that should not be frozen,\n",
    "                          or None to freeze all the variables in the graph.\n",
    "    @param output_names Names of the relevant graph outputs.\n",
    "    @param clear_devices Remove the device directives from the graph for better portability.\n",
    "    @return The frozen graph definition.\n",
    "    \"\"\"\n",
    "    graph = session.graph\n",
    "    with graph.as_default():\n",
    "        freeze_var_names = list(set(v.op.name for v in tf.global_variables()).difference(keep_var_names or []))\n",
    "        output_names = output_names or []\n",
    "        output_names += [v.op.name for v in tf.global_variables()]\n",
    "        input_graph_def = graph.as_graph_def()\n",
    "        if clear_devices:\n",
    "            for node in input_graph_def.node:\n",
    "                node.device = \"\"\n",
    "        frozen_graph = tf.graph_util.convert_variables_to_constants(\n",
    "            session, input_graph_def, output_names, freeze_var_names)\n",
    "        return frozen_graph"
   ]
  },
  {
   "cell_type": "code",
   "execution_count": 36,
   "metadata": {},
   "outputs": [
    {
     "name": "stdout",
     "output_type": "stream",
     "text": [
      "WARNING:tensorflow:From <ipython-input-35-fbcc4a820ba6>:27: convert_variables_to_constants (from tensorflow.python.framework.graph_util_impl) is deprecated and will be removed in a future version.\n",
      "Instructions for updating:\n",
      "Use `tf.compat.v1.graph_util.convert_variables_to_constants`\n",
      "WARNING:tensorflow:From c:\\tools\\anaconda3\\envs\\vss\\lib\\site-packages\\tensorflow_core\\python\\framework\\graph_util_impl.py:277: extract_sub_graph (from tensorflow.python.framework.graph_util_impl) is deprecated and will be removed in a future version.\n",
      "Instructions for updating:\n",
      "Use `tf.compat.v1.graph_util.extract_sub_graph`\n",
      "INFO:tensorflow:Froze 69 variables.\n",
      "INFO:tensorflow:Converted 69 variables to const ops.\n"
     ]
    }
   ],
   "source": [
    "from keras import backend as K\n",
    "frozen_graph = freeze_session(K.get_session(),\n",
    "                              output_names=[out.op.name for out in vae_like.outputs])"
   ]
  },
  {
   "cell_type": "code",
   "execution_count": 37,
   "metadata": {},
   "outputs": [
    {
     "data": {
      "text/plain": [
       "'./data\\\\lstm-vae-anomaly-detector-multisensor.pb'"
      ]
     },
     "execution_count": 37,
     "metadata": {},
     "output_type": "execute_result"
    }
   ],
   "source": [
    "tf.train.write_graph(frozen_graph, \"./data\", \"lstm-vae-anomaly-detector-multisensor.pb\", as_text=False)"
   ]
  },
  {
   "cell_type": "markdown",
   "metadata": {},
   "source": [
    "## Load the model and use it in TensorFlow"
   ]
  },
  {
   "cell_type": "code",
   "execution_count": 38,
   "metadata": {},
   "outputs": [],
   "source": [
    "tf.reset_default_graph()\n",
    "output_tf_model = 'lstm-vae-anomaly-detector-multisensor.pb'\n",
    "graph = tf.Graph()\n",
    "with tf.gfile.GFile('./data/' + output_tf_model, 'rb') as f:\n",
    "    graph_def = tf.GraphDef()\n",
    "    graph_def.ParseFromString(f.read())"
   ]
  },
  {
   "cell_type": "code",
   "execution_count": 39,
   "metadata": {},
   "outputs": [],
   "source": [
    "with graph.as_default():\n",
    "    # Define input tensor\n",
    "    input_tensor = tf.placeholder(np.float32, shape = [None, timesteps, input_dim])\n",
    "    tf.import_graph_def(graph_def, {'input_sequence': input_tensor})\n",
    "graph.finalize()"
   ]
  },
  {
   "cell_type": "code",
   "execution_count": 42,
   "metadata": {},
   "outputs": [
    {
     "name": "stdout",
     "output_type": "stream",
     "text": [
      "{'likelihood/stack'}\n"
     ]
    }
   ],
   "source": [
    "node_names = set([ n.name for n in graph_def.node if 'likelihood/stack' in n.name])\n",
    "print(node_names)"
   ]
  },
  {
   "cell_type": "code",
   "execution_count": 41,
   "metadata": {},
   "outputs": [
    {
     "data": {
      "text/plain": [
       "<tf.Tensor 'likelihood/stack:0' shape=(?, 64, 10) dtype=float32>"
      ]
     },
     "execution_count": 41,
     "metadata": {},
     "output_type": "execute_result"
    }
   ],
   "source": [
    "vae_like.layers[-1].output"
   ]
  },
  {
   "cell_type": "code",
   "execution_count": 43,
   "metadata": {},
   "outputs": [],
   "source": [
    "sess = tf.Session(graph=graph)\n",
    "output_tensor = graph.get_tensor_by_name(\"import/likelihood/stack:0\")\n",
    "pred_loaded_model = sess.run(output_tensor, feed_dict={input_tensor: X_test})"
   ]
  },
  {
   "cell_type": "code",
   "execution_count": 47,
   "metadata": {},
   "outputs": [
    {
     "data": {
      "text/plain": [
       "[<matplotlib.lines.Line2D at 0x21c05700e10>]"
      ]
     },
     "execution_count": 47,
     "metadata": {},
     "output_type": "execute_result"
    },
    {
     "data": {
      "image/png": "[encoded data removed]",
      "text/plain": [
       "<Figure size 432x288 with 1 Axes>"
      ]
     },
     "metadata": {
      "needs_background": "light"
     },
     "output_type": "display_data"
    }
   ],
   "source": [
    "plt.plot(pred_loaded_model[:,0,0])"
   ]
  },
  {
   "cell_type": "code",
   "execution_count": 48,
   "metadata": {},
   "outputs": [],
   "source": [
    "num_data = X_test.shape[0]\n",
    "output_rule = []\n",
    "for idx in range(num_data):\n",
    "    pred_loaded_model = sess.run(output_tensor, feed_dict={input_tensor: np.expand_dims(X_test[idx,:], axis=0)})\n",
    "    output_rule.append(np.mean(pred_loaded_model))"
   ]
  },
  {
   "cell_type": "code",
   "execution_count": 49,
   "metadata": {},
   "outputs": [
    {
     "data": {
      "text/plain": [
       "[<matplotlib.lines.Line2D at 0x21c06c0bd68>]"
      ]
     },
     "execution_count": 49,
     "metadata": {},
     "output_type": "execute_result"
    },
    {
     "data": {
      "image/png": "[encoded data removed]",
      "text/plain": [
       "<Figure size 432x288 with 1 Axes>"
      ]
     },
     "metadata": {
      "needs_background": "light"
     },
     "output_type": "display_data"
    }
   ],
   "source": [
    "plt.figure()\n",
    "plt.plot(output_rule)"
   ]
  },
  {
   "cell_type": "markdown",
   "metadata": {},
   "source": [
    "## References"
   ]
  },
  {
   "cell_type": "markdown",
   "metadata": {},
   "source": [
    "[1] Park et al., \"A Multimodal Anomaly Detector for Robot-Assisted Feeding Using an LSTM-Based Variational Autoencoder\", arXiv 2018: https://arxiv.org/pdf/1711.00614.pdf  \n",
    "[2] Zhang et al, \"Time Series Anomaly Detection with Variational Autoencoders\": https://arxiv.org/pdf/1907.01702.pdf  \n",
    "[3] An et al, \"Variational Autoencoder based Anomaly Detection using Reconstruction Probability\": http://dm.snu.ac.kr/static/docs/TR/SNUDM-TR-2015-03.pdf  |"
   ]
  }
 ],
 "metadata": {
  "kernelspec": {
   "display_name": "Python 3",
   "language": "python",
   "name": "python3"
  },
  "language_info": {
   "codemirror_mode": {
    "name": "ipython",
    "version": 3
   },
   "file_extension": ".py",
   "mimetype": "text/x-python",
   "name": "python",
   "nbconvert_exporter": "python",
   "pygments_lexer": "ipython3",
   "version": "3.6.9"
  }
 },
 "nbformat": 4,
 "nbformat_minor": 2
}
